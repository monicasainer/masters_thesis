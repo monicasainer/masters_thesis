{
 "cells": [
  {
   "cell_type": "code",
   "execution_count": null,
   "metadata": {},
   "outputs": [],
   "source": [
    "import os\n",
    "import sys\n",
    "import yfinance as yf\n",
    "import pandas as pd\n",
    "import numpy as np\n",
    "import matplotlib.pyplot as plt\n",
    "import plotly.express as px\n",
    "import warnings"
   ]
  },
  {
   "cell_type": "code",
   "execution_count": null,
   "metadata": {},
   "outputs": [],
   "source": [
    "warnings.filterwarnings('ignore')\n",
    "path = os.getenv(\"ROOT_PATH\")"
   ]
  },
  {
   "cell_type": "markdown",
   "metadata": {},
   "source": [
    "> After analysing different periods of time by checking different proxies, we reached some conclusions:\n",
    ">\n",
    "> - **Before Covid:** We find significant price reversals when the **price decreases**.\n",
    "> - **During and after Covid:** We find statistically significant price reversals when the **price increases**.\n",
    "> \n",
    "> Therefore, we are going to create regressions for:\n",
    "> - Events before covid where the large price change was negative, and their corresponding temporal windows.\n",
    "> - Events during and after covid where the large price change was positive, and their corresponding temporal windows.\n",
    "> In order to control the effect of different variables in the abnormal stock returns.\n"
   ]
  },
  {
   "cell_type": "markdown",
   "metadata": {},
   "source": [
    "> Variables that we need:\n",
    "> - ARit: Abnormal stock return from the event i until the end of the post-event window t.\n",
    "> - MR0_dumi: Dummy variable that takes the value 1  if the market return corresponding to day 0 for event i is positive/negative, and 0 otherwise\n",
    "> - MCapi: Algorithm of the firm’s market capitalization on the day of the event i.\n",
    "> - betai: CAPM beta calculated between day -250 and -1 of the event i.\n",
    "> - SR_volati: Standard deviation of the stock returns calculated between day -250 and -1 of the event i.\n",
    "> - |SR0|i : Absolut stock return during day 0 of event i.\n",
    "> - ABVOL0i: Difference between the stock trading volume on day 0 and its average volume from days -250 to -1."
   ]
  },
  {
   "cell_type": "markdown",
   "metadata": {},
   "source": [
    "1. **ARit**"
   ]
  },
  {
   "cell_type": "code",
   "execution_count": null,
   "metadata": {},
   "outputs": [],
   "source": [
    "AR_df_pre = pd.read_excel(f\"{path}/raw_data/pre_covid/ARs_df.xlsx\")\n",
    "AR_df_post = pd.read_excel(f\"{path}/raw_data/post_covid/ARs_regression.xlsx\")"
   ]
  },
  {
   "cell_type": "markdown",
   "metadata": {},
   "source": [
    "2. **MR_dum**"
   ]
  },
  {
   "cell_type": "code",
   "execution_count": null,
   "metadata": {},
   "outputs": [],
   "source": [
    "proxy_a_df_pre = pd.read_excel(f\"{path}/raw_data/pre_covid/proxy_a.xlsx\")\n",
    "mr_dum_pre = proxy_a_df_pre[['Date','Market_Return_Increase']]\n",
    "proxy_a_df_post = pd.read_excel(f\"{path}/raw_data/post_covid/proxy_a.xlsx\")\n",
    "mr_dum_post = proxy_a_df_post[['Date','Market_Return_Increase']]"
   ]
  },
  {
   "cell_type": "markdown",
   "metadata": {},
   "source": [
    "3. **MCap**"
   ]
  },
  {
   "cell_type": "markdown",
   "metadata": {},
   "source": [
    "Since we didn't fetch the market capitalization earlier, we need to do it now:"
   ]
  },
  {
   "cell_type": "code",
   "execution_count": null,
   "metadata": {},
   "outputs": [],
   "source": [
    "tickers_total= pd.read_excel(f\"{path}/raw_data/main/Weightings_20240216_OMXSPI.xlsx\",header=0)\n",
    "tickers_list=tickers_total['Security-Symbol'].to_list()\n",
    "price_2013_pre=pd.read_excel(f\"{path}/raw_data/pre_covid/price_2013.xlsx\",header=0)\n",
    "# tickers = yf.Tickers(tickers_list) #, start=\"2014-03-06\", end='2020-03-14')\n",
    "for t in ['8TRA.ST','AAK.ST']: #tickers_list:\n",
    "    ticker= yf.Ticker(f'{t}')\n",
    "    quarterly_income_stmt = ticker.quarterly_income_stmt\n",
    "    print(quarterly_income_stmt.columns)\n",
    "    # all_dates = ticker.quarterly_income_stmt.columns.to_list\n",
    "    # print(all_dates)\n",
    "    # total_shares = ticker.quarterly_income_stmt[date]['Basic Average Shares']"
   ]
  },
  {
   "cell_type": "markdown",
   "metadata": {},
   "source": [
    "4. **Beta**"
   ]
  },
  {
   "cell_type": "code",
   "execution_count": null,
   "metadata": {},
   "outputs": [],
   "source": [
    "df_price_2013_pre=pd.read_excel(f\"{path}/raw_data/pre_covid/price_2013.xlsx\",header=0)\n",
    "df_price_2013_pre['market_returns'] =df_price_2013_pre['^OMXSPI'].pct_change()\n",
    "window_size=250\n",
    "beta_pre={'Date':df_price_2013_pre['Date']}\n",
    "for column in df_price_2013_pre.columns[1:-2]:  # Exclude the 'Date' and '^OMXSPI' column\n",
    "\n",
    "    stock_returns = df_price_2013_pre[column].pct_change()\n",
    "    result_df = pd.DataFrame({\n",
    "    'Date': df_price_2013_pre['Date'],\n",
    "    'Stock_Returns': stock_returns,\n",
    "    'Market_Returns': df_price_2013_pre['market_returns']})\n",
    "\n",
    "    result_df['beta'] = result_df['Stock_Returns'].rolling(window=window_size).cov(result_df['Market_Returns']).div(result_df['Market_Returns'].rolling(window=window_size).var())\n",
    "    result_df['normalized_beta'] = (result_df['beta'] - result_df['beta'].mean())/result_df['beta'].std()\n",
    "\n",
    "    beta_pre[f'beta_{column}']= result_df['normalized_beta']\n",
    "beta_pre=pd.DataFrame.from_dict(beta_pre)\n",
    "beta_pre"
   ]
  },
  {
   "cell_type": "code",
   "execution_count": null,
   "metadata": {},
   "outputs": [],
   "source": [
    "df_price_2013_post=pd.read_excel(f\"{path}/raw_data/main/price_2013.xlsx\",header=0)\n",
    "df_price_2013_post['market_returns'] =df_price_2013_post['^OMXSPI'].pct_change()\n",
    "window_size=250\n",
    "beta_post={'Date':df_price_2013_post['Date']}\n",
    "for column in df_price_2013_post.columns[1:-2]:  # Exclude the 'Date' and '^OMXSPI' column\n",
    "\n",
    "    stock_returns = df_price_2013_post[column].pct_change()\n",
    "    result_df = pd.DataFrame({\n",
    "    'Date': df_price_2013_post['Date'],\n",
    "    'Stock_Returns': stock_returns,\n",
    "    'Market_Returns': df_price_2013_post['market_returns']})\n",
    "\n",
    "    result_df['beta'] = result_df['Stock_Returns'].rolling(window=window_size).cov(result_df['Market_Returns']).div(result_df['Market_Returns'].rolling(window=window_size).var())\n",
    "    result_df['normalized_beta'] = (result_df['beta'] - result_df['beta'].mean())/result_df['beta'].std()\n",
    "    beta_post[f'beta_{column}']= result_df['normalized_beta']\n",
    "beta_post=pd.DataFrame.from_dict(beta_post)\n",
    "beta_post=beta_post[beta_post['Date']>='2020-03-14']\n",
    "beta_post"
   ]
  },
  {
   "cell_type": "markdown",
   "metadata": {},
   "source": [
    "5. **SR_vola**"
   ]
  },
  {
   "cell_type": "code",
   "execution_count": null,
   "metadata": {},
   "outputs": [],
   "source": [
    "df_price_2013_pre=pd.read_excel(f\"{path}/raw_data/pre_covid/price_2013.xlsx\",header=0)\n",
    "df_sr_vola_pre_dict={'Date':df_price_2013_pre['Date']}\n",
    "window_size=250\n",
    "for column in df_price_2013_pre.columns[1:-1]:  # Exclude the 'Date' and '^OMXSPI' column\n",
    "\n",
    "    stock_returns = df_price_2013_pre[column].pct_change()\n",
    "    result_df = pd.DataFrame({\n",
    "    'Date': df_price_2013_pre['Date'],\n",
    "    'Stock_Returns': stock_returns})\n",
    "\n",
    "    result_df['sr_vola']= stock_returns.rolling(window=window_size).std()\n",
    "    result_df['normalized_sr_vola']= (result_df['sr_vola']-result_df['sr_vola'].mean())/result_df['sr_vola'].std()\n",
    "\n",
    "\n",
    "    df_sr_vola_pre_dict[f'sr_vola_{column}']=result_df['normalized_sr_vola']\n",
    "df_sr_vola_pre=pd.DataFrame.from_dict(df_sr_vola_pre_dict)\n",
    "df_sr_vola_pre.head(400)"
   ]
  },
  {
   "cell_type": "code",
   "execution_count": null,
   "metadata": {},
   "outputs": [],
   "source": [
    "df_price_2013_post=pd.read_excel(f\"{path}/raw_data/main/price_2013.xlsx\",header=0)\n",
    "df_sr_vola_post_dict={'Date':df_price_2013_post['Date']}\n",
    "window_size=250\n",
    "for column in df_price_2013_post.columns[1:-1]:  # Exclude the 'Date' and '^OMXSPI' column\n",
    "\n",
    "    stock_returns = df_price_2013_post[column].pct_change()\n",
    "    result_df = pd.DataFrame({\n",
    "    'Date': df_price_2013_post['Date'],\n",
    "    'Stock_Returns': stock_returns})\n",
    "\n",
    "    result_df['sr_vola']= stock_returns.rolling(window=window_size).std()\n",
    "    result_df['normalized_sr_vola']= (result_df['sr_vola']-result_df['sr_vola'].mean())/result_df['sr_vola'].std()\n",
    "\n",
    "    df_sr_vola_post_dict[f'sr_vola_{column}']=result_df['normalized_sr_vola']\n",
    "df_sr_vola_post=pd.DataFrame.from_dict(df_sr_vola_post_dict)\n",
    "df_sr_vola_post=df_sr_vola_post[df_sr_vola_post['Date']>='2020-03-14']\n",
    "df_sr_vola_post.head(400)"
   ]
  },
  {
   "cell_type": "markdown",
   "metadata": {},
   "source": [
    "6.  **|SRo|i**"
   ]
  },
  {
   "cell_type": "code",
   "execution_count": null,
   "metadata": {},
   "outputs": [],
   "source": [
    "df_price_2013_pre=pd.read_excel(f\"{path}/raw_data/pre_covid/price_2013.xlsx\",header=0)\n",
    "df_abs_sr_pre_dict={'Date':df_price_2013_pre['Date']}\n",
    "for column in df_price_2013_pre.columns[1:-1]:  # Exclude the 'Date' and '^OMXSPI' column\n",
    "\n",
    "    stock_returns = df_price_2013_pre[column].pct_change()\n",
    "    df_abs_sr_pre_dict[f'abs_sr_{column}'] = abs(stock_returns)\n",
    "df_abs_sr_pre = pd.DataFrame.from_dict(df_abs_sr_pre_dict)\n",
    "df_abs_sr_pre.head()"
   ]
  },
  {
   "cell_type": "code",
   "execution_count": null,
   "metadata": {},
   "outputs": [],
   "source": [
    "df_price_2013_post=pd.read_excel(f\"{path}/raw_data/main/price_2013.xlsx\",header=0)\n",
    "df_abs_sr_post_dict={'Date':df_price_2013_post['Date']}\n",
    "for column in df_price_2013_post.columns[1:-1]:  # Exclude the 'Date' and '^OMXSPI' column\n",
    "\n",
    "    stock_returns = df_price_2013_post[column].pct_change()\n",
    "    df_abs_sr_post_dict[f'abs_sr_{column}'] = abs(stock_returns)\n",
    "df_abs_sr_post = pd.DataFrame.from_dict(df_abs_sr_post_dict)\n",
    "df_abs_sr_post = df_abs_sr_post[df_abs_sr_post['Date']>='2020-03-14']\n",
    "df_abs_sr_post.head()"
   ]
  },
  {
   "cell_type": "markdown",
   "metadata": {},
   "source": [
    "7. **ABVOL**"
   ]
  },
  {
   "cell_type": "code",
   "execution_count": null,
   "metadata": {},
   "outputs": [],
   "source": [
    "volume_pre = pd.read_excel(f'{path}/raw_data/pre_covid/volume.xlsx')\n",
    "window_size=250\n",
    "df_ab_vol_pre_dict = {'Date':volume_pre['Date']}\n",
    "\n",
    "for column in volume_pre.columns[1:]:\n",
    "    rolling_mean = volume_pre[column].rolling(window=window_size, min_periods=1).mean()\n",
    "    rolling_std = volume_pre[column].rolling(window=window_size, min_periods=1).std()\n",
    "    df_ab_vol_pre_dict[f'ab_vol_{column}']=(volume_pre[column] - rolling_mean) / rolling_std\n",
    "df_ab_vol_pre = pd.DataFrame.from_dict(df_ab_vol_pre_dict)\n",
    "df_ab_vol_pre.head(400)"
   ]
  },
  {
   "cell_type": "code",
   "execution_count": null,
   "metadata": {},
   "outputs": [],
   "source": [
    "volume_post = pd.read_excel(f'{path}/raw_data/main/volume.xlsx')\n",
    "window_size=250\n",
    "df_ab_vol_post_dict = {'Date':volume_post['Date']}\n",
    "\n",
    "for column in volume_post.columns[1:]:\n",
    "    rolling_mean = volume_post[column].rolling(window=window_size, min_periods=1).mean()\n",
    "    rolling_std = volume_post[column].rolling(window=window_size, min_periods=1).std()\n",
    "    df_ab_vol_post_dict[f'ab_vol_{column}']=(volume_post[column] - rolling_mean) / rolling_std\n",
    "df_ab_vol_post = pd.DataFrame.from_dict(df_ab_vol_post_dict)\n",
    "df_ab_vol_post = df_ab_vol_post[df_ab_vol_post['Date']>='2020-03-14']\n",
    "df_ab_vol_post.head(400)"
   ]
  },
  {
   "cell_type": "markdown",
   "metadata": {},
   "source": [
    "Now it's time to merge all the variables together.\n",
    "\n",
    "Additionaly, once at a time, we will join one proxy, in order to be able to stand out the events.\n"
   ]
  },
  {
   "cell_type": "code",
   "execution_count": null,
   "metadata": {},
   "outputs": [],
   "source": [
    "total_variables_pre = pd.merge(AR_df_pre,mr_dum_pre,on='Date',how='left')\n",
    "total_variables_pre = pd.merge(total_variables_pre,beta_pre,on='Date',how='left')\n",
    "total_variables_pre = pd.merge(total_variables_pre,df_sr_vola_pre,on='Date',how='left')\n",
    "total_variables_pre = pd.merge(total_variables_pre,df_abs_sr_pre,on='Date',how='left')\n",
    "total_variables_pre = pd.merge(total_variables_pre,df_ab_vol_pre,on='Date',how='left')\n",
    "total_variables_pre.drop(columns=['Unnamed: 0','Swedish Treasury Bills (SE TB 1 Month)','market_returns'],inplace=True)\n",
    "total_variables_pre"
   ]
  },
  {
   "cell_type": "code",
   "execution_count": null,
   "metadata": {},
   "outputs": [],
   "source": [
    "total_variables_post = pd.merge(AR_df_post,mr_dum_post,on='Date',how='left')\n",
    "total_variables_post = pd.merge(total_variables_post,beta_post,on='Date',how='left')\n",
    "total_variables_post = pd.merge(total_variables_post,df_sr_vola_post,on='Date',how='left')\n",
    "total_variables_post = pd.merge(total_variables_post,df_abs_sr_post,on='Date',how='left')\n",
    "total_variables_post = pd.merge(total_variables_post,df_ab_vol_post,on='Date',how='left')\n",
    "total_variables_post.drop(columns=['Swedish Treasury Bills (SE TB 1 Month)','market_returns'],inplace=True)\n",
    "total_variables_post"
   ]
  },
  {
   "cell_type": "markdown",
   "metadata": {},
   "source": [
    "# Regression Model"
   ]
  },
  {
   "cell_type": "code",
   "execution_count": null,
   "metadata": {},
   "outputs": [],
   "source": [
    "from linearmodels.panel import PanelOLS"
   ]
  },
  {
   "cell_type": "markdown",
   "metadata": {},
   "source": [
    "## Pre-Covid"
   ]
  },
  {
   "cell_type": "markdown",
   "metadata": {},
   "source": [
    "### Proxy A"
   ]
  },
  {
   "cell_type": "markdown",
   "metadata": {},
   "source": [
    "#### Small Threshold"
   ]
  },
  {
   "cell_type": "code",
   "execution_count": null,
   "metadata": {},
   "outputs": [],
   "source": [
    "total_df_a_pre = pd.merge(total_variables_pre,proxy_a_df_pre, on='Date', how='left')\n"
   ]
  },
  {
   "cell_type": "code",
   "execution_count": null,
   "metadata": {},
   "outputs": [],
   "source": []
  }
 ],
 "metadata": {
  "kernelspec": {
   "display_name": "empirical",
   "language": "python",
   "name": "python3"
  },
  "language_info": {
   "codemirror_mode": {
    "name": "ipython",
    "version": 3
   },
   "file_extension": ".py",
   "mimetype": "text/x-python",
   "name": "python",
   "nbconvert_exporter": "python",
   "pygments_lexer": "ipython3",
   "version": "3.10.6"
  }
 },
 "nbformat": 4,
 "nbformat_minor": 2
}
