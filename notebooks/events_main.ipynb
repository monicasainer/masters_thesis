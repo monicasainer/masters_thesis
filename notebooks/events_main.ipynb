{
 "cells": [
  {
   "cell_type": "code",
   "execution_count": null,
   "metadata": {},
   "outputs": [],
   "source": [
    "import os\n",
    "import sys\n",
    "import yfinance as yf\n",
    "import pandas as pd\n",
    "import numpy as np\n",
    "import matplotlib.pyplot as plt\n",
    "import plotly.express as px\n",
    "import warnings\n"
   ]
  },
  {
   "cell_type": "code",
   "execution_count": null,
   "metadata": {},
   "outputs": [],
   "source": [
    "warnings.filterwarnings('ignore')\n",
    "path = os.getenv(\"ROOT_PATH\")\n",
    "sys.path.append(path)\n",
    "print(path)"
   ]
  },
  {
   "cell_type": "markdown",
   "metadata": {},
   "source": [
    "# Data"
   ]
  },
  {
   "cell_type": "code",
   "execution_count": null,
   "metadata": {},
   "outputs": [],
   "source": [
    "proxy_a= pd.read_excel(f'{path}/raw_data/main/proxy_a.xlsx')\n",
    "proxy_b= pd.read_excel(f'{path}/raw_data/main/proxy_b.xlsx')\n",
    "proxy_c= pd.read_excel(f'{path}/raw_data/main/proxy_c.xlsx')"
   ]
  },
  {
   "cell_type": "code",
   "execution_count": null,
   "metadata": {},
   "outputs": [],
   "source": [
    "small_cap=pd.read_excel(f'{path}/raw_data/main/small_caps.xlsx')\n",
    "mid_cap=pd.read_excel(f'{path}/raw_data/main/mid_caps.xlsx')\n",
    "large_cap=pd.read_excel(f'{path}/raw_data/main/large_caps.xlsx')"
   ]
  },
  {
   "cell_type": "code",
   "execution_count": null,
   "metadata": {},
   "outputs": [],
   "source": [
    "tickers = pd.read_excel(f'{path}/raw_data/main/Weightings_20240216_OMXSPI.xlsx')\n",
    "companies = tickers['Security-Symbol'].to_list()\n",
    "companies.remove(\"NOKIA-SEK.ST\")"
   ]
  },
  {
   "cell_type": "code",
   "execution_count": null,
   "metadata": {},
   "outputs": [],
   "source": [
    "# proxy_a.drop(columns=['Unnamed: 0'],inplace=True)\n",
    "proxy_a.columns\n",
    "proxy_b.columns"
   ]
  },
  {
   "cell_type": "code",
   "execution_count": null,
   "metadata": {},
   "outputs": [],
   "source": [
    "proxy_c.drop(columns=['Unnamed: 0'],inplace=True)\n",
    "proxy_c.columns"
   ]
  },
  {
   "cell_type": "markdown",
   "metadata": {},
   "source": [
    "# General"
   ]
  },
  {
   "cell_type": "markdown",
   "metadata": {},
   "source": [
    "## Proxy A"
   ]
  },
  {
   "cell_type": "markdown",
   "metadata": {},
   "source": [
    "### Total increases"
   ]
  },
  {
   "cell_type": "code",
   "execution_count": null,
   "metadata": {},
   "outputs": [],
   "source": [
    "a_total_increases = 0\n",
    "\n",
    "for company in companies:\n",
    "    small_threshold=len(proxy_a[(proxy_a[f'{company}_Increase_small_thres'] == 1)])\n",
    "    a_total_increases +=small_threshold\n",
    "    large_threshold=len(proxy_a[(proxy_a[f'{company}_Increase_large_thres'] == 1)])\n",
    "    a_total_increases +=large_threshold\n",
    "print(a_total_increases)"
   ]
  },
  {
   "cell_type": "markdown",
   "metadata": {},
   "source": [
    "#### Small threshold"
   ]
  },
  {
   "cell_type": "code",
   "execution_count": null,
   "metadata": {},
   "outputs": [],
   "source": [
    "a_total_increases_small = 0\n",
    "\n",
    "for company in companies:\n",
    "    small_threshold=len(proxy_a[(proxy_a[f'{company}_Increase_small_thres'] == 1)])\n",
    "    a_total_increases_small +=small_threshold\n",
    "print(a_total_increases_small)"
   ]
  },
  {
   "cell_type": "markdown",
   "metadata": {},
   "source": [
    "#### Large threshold"
   ]
  },
  {
   "cell_type": "code",
   "execution_count": null,
   "metadata": {},
   "outputs": [],
   "source": [
    "a_total_increases_large = 0\n",
    "\n",
    "for company in companies:\n",
    "    large_threshold=len(proxy_a[(proxy_a[f'{company}_Increase_large_thres'] == 1)])\n",
    "    a_total_increases_large +=large_threshold\n",
    "print(a_total_increases_large)"
   ]
  },
  {
   "cell_type": "markdown",
   "metadata": {},
   "source": [
    "### Total decreases"
   ]
  },
  {
   "cell_type": "code",
   "execution_count": null,
   "metadata": {},
   "outputs": [],
   "source": [
    "a_total_decreases = 0\n",
    "\n",
    "for company in companies:\n",
    "    small_threshold=len(proxy_a[(proxy_a[f'{company}_Decrease_small_thres'] == 1)])\n",
    "    a_total_decreases +=small_threshold\n",
    "    large_threshold=len(proxy_a[(proxy_a[f'{company}_Decrease_large_thres'] == 1)])\n",
    "    a_total_decreases +=large_threshold\n",
    "print(a_total_decreases)"
   ]
  },
  {
   "cell_type": "markdown",
   "metadata": {},
   "source": [
    "#### Small threshold"
   ]
  },
  {
   "cell_type": "code",
   "execution_count": null,
   "metadata": {},
   "outputs": [],
   "source": [
    "a_total_decreases_small = 0\n",
    "\n",
    "for company in companies:\n",
    "    small_threshold=len(proxy_a[(proxy_a[f'{company}_Decrease_small_thres'] == 1)])\n",
    "    a_total_decreases_small +=small_threshold\n",
    "print(a_total_decreases_small)"
   ]
  },
  {
   "cell_type": "markdown",
   "metadata": {},
   "source": [
    "#### Large threshold"
   ]
  },
  {
   "cell_type": "code",
   "execution_count": null,
   "metadata": {},
   "outputs": [],
   "source": [
    "a_total_decreases_large = 0\n",
    "\n",
    "for company in companies:\n",
    "    large_threshold=len(proxy_a[(proxy_a[f'{company}_Decrease_large_thres'] == 1)])\n",
    "    a_total_decreases_large +=large_threshold\n",
    "print(a_total_decreases_large)"
   ]
  },
  {
   "cell_type": "markdown",
   "metadata": {},
   "source": [
    "# Market increases"
   ]
  },
  {
   "cell_type": "markdown",
   "metadata": {},
   "source": [
    "## Proxy A"
   ]
  },
  {
   "cell_type": "markdown",
   "metadata": {},
   "source": [
    "### Total increases"
   ]
  },
  {
   "cell_type": "code",
   "execution_count": null,
   "metadata": {},
   "outputs": [],
   "source": [
    "a_total_increases_market_increase = 0\n",
    "\n",
    "for company in companies:\n",
    "    small_threshold=len(proxy_a[(proxy_a[f'{company}_Increase_small_thres'] == 1) & (proxy_a['Market_Return_Increase'] == 1)])\n",
    "    a_total_increases_market_increase +=small_threshold\n",
    "    large_threshold=len(proxy_a[(proxy_a[f'{company}_Increase_large_thres'] == 1) & (proxy_a['Market_Return_Increase'] == 1)])\n",
    "    a_total_increases_market_increase +=large_threshold\n",
    "print(a_total_increases_market_increase)"
   ]
  },
  {
   "cell_type": "markdown",
   "metadata": {},
   "source": [
    "#### Small threshold"
   ]
  },
  {
   "cell_type": "code",
   "execution_count": null,
   "metadata": {},
   "outputs": [],
   "source": [
    "a_total_increases_small_market_increase = 0\n",
    "\n",
    "for company in companies:\n",
    "    small_threshold=len(proxy_a[(proxy_a[f'{company}_Increase_small_thres'] == 1) & (proxy_a['Market_Return_Increase'] == 1)])\n",
    "    a_total_increases_small_market_increase +=small_threshold\n",
    "print(a_total_increases_small_market_increase)"
   ]
  },
  {
   "cell_type": "markdown",
   "metadata": {},
   "source": [
    "#### Large threshold"
   ]
  },
  {
   "cell_type": "code",
   "execution_count": null,
   "metadata": {},
   "outputs": [],
   "source": [
    "a_total_increases_large_market_increase = 0\n",
    "\n",
    "for company in companies:\n",
    "    large_threshold=len(proxy_a[(proxy_a[f'{company}_Increase_large_thres'] == 1) & (proxy_a['Market_Return_Increase'] == 1)])\n",
    "    a_total_increases_large_market_increase +=large_threshold\n",
    "print(a_total_increases_large_market_increase)"
   ]
  },
  {
   "cell_type": "markdown",
   "metadata": {},
   "source": [
    "### Total decreases"
   ]
  },
  {
   "cell_type": "code",
   "execution_count": null,
   "metadata": {},
   "outputs": [],
   "source": [
    "a_total_decreases_market_increases = 0\n",
    "\n",
    "for company in companies:\n",
    "    small_threshold=len(proxy_a[(proxy_a[f'{company}_Decrease_small_thres'] == 1) & (proxy_a['Market_Return_Increase'] == 1)])\n",
    "    a_total_decreases_market_increases  +=small_threshold\n",
    "    large_threshold=len(proxy_a[(proxy_a[f'{company}_Decrease_large_thres'] == 1) & (proxy_a['Market_Return_Increase'] == 1)])\n",
    "    a_total_decreases_market_increases  +=large_threshold\n",
    "print(a_total_decreases_market_increases)"
   ]
  },
  {
   "cell_type": "markdown",
   "metadata": {},
   "source": [
    "#### Small threshold"
   ]
  },
  {
   "cell_type": "code",
   "execution_count": null,
   "metadata": {},
   "outputs": [],
   "source": [
    "a_total_decreases_small_market_increases = 0\n",
    "\n",
    "for company in companies:\n",
    "    small_threshold=len(proxy_a[(proxy_a[f'{company}_Decrease_small_thres'] == 1) & (proxy_a['Market_Return_Increase'] == 1)])\n",
    "    a_total_decreases_small_market_increases +=small_threshold\n",
    "print(a_total_decreases_small_market_increases)"
   ]
  },
  {
   "cell_type": "markdown",
   "metadata": {},
   "source": [
    "#### Large threshold"
   ]
  },
  {
   "cell_type": "code",
   "execution_count": null,
   "metadata": {},
   "outputs": [],
   "source": [
    "a_total_decreases_large_market_increases = 0\n",
    "\n",
    "for company in companies:\n",
    "    large_threshold=len(proxy_a[(proxy_a[f'{company}_Decrease_large_thres'] == 1) & (proxy_a['Market_Return_Increase'] == 1)])\n",
    "    a_total_decreases_large_market_increases +=large_threshold\n",
    "print(a_total_decreases_large_market_increases)"
   ]
  },
  {
   "cell_type": "markdown",
   "metadata": {},
   "source": [
    "## Proxy B"
   ]
  },
  {
   "cell_type": "markdown",
   "metadata": {},
   "source": [
    "### Total increases"
   ]
  },
  {
   "cell_type": "code",
   "execution_count": null,
   "metadata": {},
   "outputs": [],
   "source": [
    "b_total_increases_market_increase = 0\n",
    "\n",
    "for company in companies:\n",
    "    small_threshold=len(proxy_b[(proxy_b[f'{company}_Increase_3std'] == 1) & (proxy_b['Market_Return_Increase'] == 1)])\n",
    "    b_total_increases_market_increase +=small_threshold\n",
    "    large_threshold=len(proxy_b[(proxy_b[f'{company}_Increase_4std'] == 1) & (proxy_b['Market_Return_Increase'] == 1)])\n",
    "    b_total_increases_market_increase +=large_threshold\n",
    "print(b_total_increases_market_increase)"
   ]
  },
  {
   "cell_type": "markdown",
   "metadata": {},
   "source": [
    "#### Small threshold"
   ]
  },
  {
   "cell_type": "code",
   "execution_count": null,
   "metadata": {},
   "outputs": [],
   "source": [
    "b_total_increases_small_market_increase = 0\n",
    "\n",
    "for company in companies:\n",
    "    small_threshold=len(proxy_b[(proxy_b[f'{company}_Increase_3std'] == 1) & (proxy_b['Market_Return_Increase'] == 1)])\n",
    "    b_total_increases_small_market_increase +=small_threshold\n",
    "print(b_total_increases_small_market_increase)"
   ]
  },
  {
   "cell_type": "markdown",
   "metadata": {},
   "source": [
    "#### Large threshold"
   ]
  },
  {
   "cell_type": "code",
   "execution_count": null,
   "metadata": {},
   "outputs": [],
   "source": [
    "b_total_increases_large_market_increase = 0\n",
    "\n",
    "for company in companies:\n",
    "    large_threshold=len(proxy_b[(proxy_b[f'{company}_Increase_4std'] == 1) & (proxy_b['Market_Return_Increase'] == 1)])\n",
    "    b_total_increases_large_market_increase +=large_threshold\n",
    "print(b_total_increases_large_market_increase)"
   ]
  },
  {
   "cell_type": "markdown",
   "metadata": {},
   "source": [
    "### Total decreases"
   ]
  },
  {
   "cell_type": "code",
   "execution_count": null,
   "metadata": {},
   "outputs": [],
   "source": [
    "b_total_decreases_market_increases = 0\n",
    "\n",
    "for company in companies:\n",
    "    small_threshold=len(proxy_b[(proxy_b[f'{company}_Decrease_3std'] == 1) & (proxy_b['Market_Return_Increase'] == 1)])\n",
    "    b_total_decreases_market_increases  +=small_threshold\n",
    "    large_threshold=len(proxy_b[(proxy_b[f'{company}_Decrease_4std'] == 1) & (proxy_b['Market_Return_Increase'] == 1)])\n",
    "    b_total_decreases_market_increases  +=large_threshold\n",
    "print(b_total_decreases_market_increases)"
   ]
  },
  {
   "cell_type": "markdown",
   "metadata": {},
   "source": [
    "#### Small threshold"
   ]
  },
  {
   "cell_type": "code",
   "execution_count": null,
   "metadata": {},
   "outputs": [],
   "source": [
    "b_total_decreases_small_market_increases = 0\n",
    "\n",
    "for company in companies:\n",
    "    small_threshold=len(proxy_b[(proxy_b[f'{company}_Decrease_3std'] == 1) & (proxy_b['Market_Return_Increase'] == 1)])\n",
    "    b_total_decreases_small_market_increases +=small_threshold\n",
    "print(b_total_decreases_small_market_increases)"
   ]
  },
  {
   "cell_type": "markdown",
   "metadata": {},
   "source": [
    "#### Large threshold"
   ]
  },
  {
   "cell_type": "code",
   "execution_count": null,
   "metadata": {},
   "outputs": [],
   "source": [
    "b_total_decreases_large_market_increases = 0\n",
    "\n",
    "for company in companies:\n",
    "    large_threshold=len(proxy_b[(proxy_b[f'{company}_Decrease_4std'] == 1) & (proxy_b['Market_Return_Increase'] == 1)])\n",
    "    b_total_decreases_large_market_increases +=large_threshold\n",
    "print(b_total_decreases_large_market_increases)"
   ]
  },
  {
   "cell_type": "markdown",
   "metadata": {},
   "source": [
    "## Proxy C"
   ]
  },
  {
   "cell_type": "markdown",
   "metadata": {},
   "source": [
    "### Total increases"
   ]
  },
  {
   "cell_type": "code",
   "execution_count": null,
   "metadata": {},
   "outputs": [],
   "source": [
    "c_total_increases_market_increase = 0\n",
    "\n",
    "for company in companies:\n",
    "    small_threshold=len(proxy_c[(proxy_c[f'{company}_Increase_small_thres'] == 1) & (proxy_c['Market_Return_Increase'] == 1)])\n",
    "    c_total_increases_market_increase +=small_threshold\n",
    "    large_threshold=len(proxy_c[(proxy_c[f'{company}_Increase_large_thres'] == 1) & (proxy_c['Market_Return_Increase'] == 1)])\n",
    "    c_total_increases_market_increase +=large_threshold\n",
    "print(c_total_increases_market_increase)"
   ]
  },
  {
   "cell_type": "markdown",
   "metadata": {},
   "source": [
    "#### Small threshold"
   ]
  },
  {
   "cell_type": "code",
   "execution_count": null,
   "metadata": {},
   "outputs": [],
   "source": [
    "c_total_increases_small_market_increase = 0\n",
    "\n",
    "for company in companies:\n",
    "    small_threshold=len(proxy_c[(proxy_c[f'{company}_Increase_small_thres'] == 1) & (proxy_c['Market_Return_Increase'] == 1)])\n",
    "    c_total_increases_small_market_increase +=small_threshold\n",
    "print(c_total_increases_small_market_increase)"
   ]
  },
  {
   "cell_type": "markdown",
   "metadata": {},
   "source": [
    "#### Large threshold"
   ]
  },
  {
   "cell_type": "code",
   "execution_count": null,
   "metadata": {},
   "outputs": [],
   "source": [
    "c_total_increases_large_market_increase = 0\n",
    "\n",
    "for company in companies:\n",
    "    large_threshold=len(proxy_c[(proxy_c[f'{company}_Increase_large_thres'] == 1) & (proxy_c['Market_Return_Increase'] == 1)])\n",
    "    c_total_increases_large_market_increase +=large_threshold\n",
    "print(c_total_increases_large_market_increase)"
   ]
  },
  {
   "cell_type": "markdown",
   "metadata": {},
   "source": [
    "### Total decreases"
   ]
  },
  {
   "cell_type": "code",
   "execution_count": null,
   "metadata": {},
   "outputs": [],
   "source": [
    "c_total_decreases_market_increases = 0\n",
    "\n",
    "for company in companies:\n",
    "    small_threshold=len(proxy_c[(proxy_c[f'{company}_Decrease_small_thres'] == 1) & (proxy_c['Market_Return_Increase'] == 1)])\n",
    "    c_total_decreases_market_increases  +=small_threshold\n",
    "    large_threshold=len(proxy_c[(proxy_c[f'{company}_Decrease_large_thres'] == 1) & (proxy_c['Market_Return_Increase'] == 1)])\n",
    "    c_total_decreases_market_increases  +=large_threshold\n",
    "print(c_total_decreases_market_increases)"
   ]
  },
  {
   "cell_type": "markdown",
   "metadata": {},
   "source": [
    "#### Small threshold"
   ]
  },
  {
   "cell_type": "code",
   "execution_count": null,
   "metadata": {},
   "outputs": [],
   "source": [
    "c_total_decreases_small_market_increases = 0\n",
    "\n",
    "for company in companies:\n",
    "    small_threshold=len(proxy_c[(proxy_c[f'{company}_Decrease_small_thres'] == 1) & (proxy_c['Market_Return_Increase'] == 1)])\n",
    "    c_total_decreases_small_market_increases +=small_threshold\n",
    "print(c_total_decreases_small_market_increases)"
   ]
  },
  {
   "cell_type": "markdown",
   "metadata": {},
   "source": [
    "#### Large threshold"
   ]
  },
  {
   "cell_type": "code",
   "execution_count": null,
   "metadata": {},
   "outputs": [],
   "source": [
    "c_total_decreases_large_market_increases = 0\n",
    "\n",
    "for company in companies:\n",
    "    large_threshold=len(proxy_c[(proxy_c[f'{company}_Decrease_large_thres'] == 1) & (proxy_c['Market_Return_Increase'] == 1)])\n",
    "    c_total_decreases_large_market_increases +=large_threshold\n",
    "print(c_total_decreases_large_market_increases)"
   ]
  },
  {
   "cell_type": "markdown",
   "metadata": {},
   "source": [
    "# Market decreases"
   ]
  },
  {
   "cell_type": "markdown",
   "metadata": {},
   "source": [
    "## Proxy A"
   ]
  },
  {
   "cell_type": "markdown",
   "metadata": {},
   "source": [
    "### Total increases"
   ]
  },
  {
   "cell_type": "code",
   "execution_count": null,
   "metadata": {},
   "outputs": [],
   "source": [
    "a_total_increases_market_decrease = 0\n",
    "\n",
    "for company in companies:\n",
    "    small_threshold=len(proxy_a[(proxy_a[f'{company}_Increase_small_thres'] == 1) & (proxy_a['Market_Return_Decrease'] == 1)])\n",
    "    a_total_increases_market_decrease +=small_threshold\n",
    "    large_threshold=len(proxy_a[(proxy_a[f'{company}_Increase_large_thres'] == 1) & (proxy_a['Market_Return_Decrease'] == 1)])\n",
    "    a_total_increases_market_decrease +=large_threshold\n",
    "print(a_total_increases_market_decrease)"
   ]
  },
  {
   "cell_type": "markdown",
   "metadata": {},
   "source": [
    "#### Small threshold"
   ]
  },
  {
   "cell_type": "code",
   "execution_count": null,
   "metadata": {},
   "outputs": [],
   "source": [
    "a_total_increases_small_market_decrease = 0\n",
    "\n",
    "for company in companies:\n",
    "    small_threshold=len(proxy_a[(proxy_a[f'{company}_Increase_small_thres'] == 1) & (proxy_a['Market_Return_Decrease'] == 1)])\n",
    "    a_total_increases_small_market_decrease +=small_threshold\n",
    "print(a_total_increases_small_market_decrease)"
   ]
  },
  {
   "cell_type": "markdown",
   "metadata": {},
   "source": [
    "#### Large threshold"
   ]
  },
  {
   "cell_type": "code",
   "execution_count": null,
   "metadata": {},
   "outputs": [],
   "source": [
    "a_total_increases_large_market_decrease = 0\n",
    "\n",
    "for company in companies:\n",
    "    large_threshold=len(proxy_a[(proxy_a[f'{company}_Increase_large_thres'] == 1) & (proxy_a['Market_Return_Decrease'] == 1)])\n",
    "    a_total_increases_large_market_decrease +=large_threshold\n",
    "print(a_total_increases_large_market_decrease)"
   ]
  },
  {
   "cell_type": "markdown",
   "metadata": {},
   "source": [
    "### Total decreases"
   ]
  },
  {
   "cell_type": "code",
   "execution_count": null,
   "metadata": {},
   "outputs": [],
   "source": [
    "a_total_decreases_market_decreases = 0\n",
    "\n",
    "for company in companies:\n",
    "    small_threshold=len(proxy_a[(proxy_a[f'{company}_Decrease_small_thres'] == 1) & (proxy_a['Market_Return_Decrease'] == 1)])\n",
    "    a_total_decreases_market_decreases  +=small_threshold\n",
    "    large_threshold=len(proxy_a[(proxy_a[f'{company}_Decrease_large_thres'] == 1) & (proxy_a['Market_Return_Decrease'] == 1)])\n",
    "    a_total_decreases_market_decreases  +=large_threshold\n",
    "print(a_total_decreases_market_decreases)"
   ]
  },
  {
   "cell_type": "markdown",
   "metadata": {},
   "source": [
    "#### Small threshold"
   ]
  },
  {
   "cell_type": "code",
   "execution_count": null,
   "metadata": {},
   "outputs": [],
   "source": [
    "a_total_decreases_small_market_decreases = 0\n",
    "\n",
    "for company in companies:\n",
    "    small_threshold=len(proxy_a[(proxy_a[f'{company}_Decrease_small_thres'] == 1) & (proxy_a['Market_Return_Decrease'] == 1)])\n",
    "    a_total_decreases_small_market_decreases +=small_threshold\n",
    "print(a_total_decreases_small_market_decreases)"
   ]
  },
  {
   "cell_type": "markdown",
   "metadata": {},
   "source": [
    "#### Large threshold"
   ]
  },
  {
   "cell_type": "code",
   "execution_count": null,
   "metadata": {},
   "outputs": [],
   "source": [
    "a_total_decreases_large_market_decreases = 0\n",
    "\n",
    "for company in companies:\n",
    "    large_threshold=len(proxy_a[(proxy_a[f'{company}_Decrease_large_thres'] == 1) & (proxy_a['Market_Return_Decrease'] == 1)])\n",
    "    a_total_decreases_large_market_decreases +=large_threshold\n",
    "print(a_total_decreases_large_market_decreases)"
   ]
  },
  {
   "cell_type": "markdown",
   "metadata": {},
   "source": [
    "## Proxy B"
   ]
  },
  {
   "cell_type": "markdown",
   "metadata": {},
   "source": [
    "### Total increases"
   ]
  },
  {
   "cell_type": "code",
   "execution_count": null,
   "metadata": {},
   "outputs": [],
   "source": [
    "b_total_increases_market_decrease = 0\n",
    "\n",
    "for company in companies:\n",
    "    small_threshold=len(proxy_b[(proxy_b[f'{company}_Increase_3std'] == 1) & (proxy_b['Market_Return_Decrease'] == 1)])\n",
    "    b_total_increases_market_decrease +=small_threshold\n",
    "    large_threshold=len(proxy_b[(proxy_b[f'{company}_Increase_4std'] == 1) & (proxy_b['Market_Return_Decrease'] == 1)])\n",
    "    b_total_increases_market_decrease +=large_threshold\n",
    "print(b_total_increases_market_decrease)"
   ]
  },
  {
   "cell_type": "markdown",
   "metadata": {},
   "source": [
    "#### Small threshold"
   ]
  },
  {
   "cell_type": "code",
   "execution_count": null,
   "metadata": {},
   "outputs": [],
   "source": [
    "b_total_increases_small_market_decrease = 0\n",
    "\n",
    "for company in companies:\n",
    "    small_threshold=len(proxy_b[(proxy_b[f'{company}_Increase_3std'] == 1) & (proxy_b['Market_Return_Decrease'] == 1)])\n",
    "    b_total_increases_small_market_decrease +=small_threshold\n",
    "print(b_total_increases_small_market_decrease)"
   ]
  },
  {
   "cell_type": "markdown",
   "metadata": {},
   "source": [
    "#### Large threshold"
   ]
  },
  {
   "cell_type": "code",
   "execution_count": null,
   "metadata": {},
   "outputs": [],
   "source": [
    "b_total_increases_large_market_decrease = 0\n",
    "\n",
    "for company in companies:\n",
    "    large_threshold=len(proxy_b[(proxy_b[f'{company}_Increase_4std'] == 1) & (proxy_b['Market_Return_Decrease'] == 1)])\n",
    "    b_total_increases_large_market_decrease +=large_threshold\n",
    "print(b_total_increases_large_market_decrease)"
   ]
  },
  {
   "cell_type": "markdown",
   "metadata": {},
   "source": [
    "### Total decreases"
   ]
  },
  {
   "cell_type": "code",
   "execution_count": null,
   "metadata": {},
   "outputs": [],
   "source": [
    "b_total_decreases_market_decreases = 0\n",
    "\n",
    "for company in companies:\n",
    "    small_threshold=len(proxy_b[(proxy_b[f'{company}_Decrease_3std'] == 1) & (proxy_b['Market_Return_Decrease'] == 1)])\n",
    "    b_total_decreases_market_decreases  +=small_threshold\n",
    "    large_threshold=len(proxy_b[(proxy_b[f'{company}_Decrease_4std'] == 1) & (proxy_b['Market_Return_Decrease'] == 1)])\n",
    "    b_total_decreases_market_decreases  +=large_threshold\n",
    "print(b_total_decreases_market_decreases)"
   ]
  },
  {
   "cell_type": "markdown",
   "metadata": {},
   "source": [
    "#### Small threshold"
   ]
  },
  {
   "cell_type": "code",
   "execution_count": null,
   "metadata": {},
   "outputs": [],
   "source": [
    "b_total_decreases_small_market_decreases = 0\n",
    "\n",
    "for company in companies:\n",
    "    small_threshold=len(proxy_b[(proxy_b[f'{company}_Decrease_3std'] == 1) & (proxy_b['Market_Return_Decrease'] == 1)])\n",
    "    b_total_decreases_small_market_decreases +=small_threshold\n",
    "print(b_total_decreases_small_market_decreases)"
   ]
  },
  {
   "cell_type": "markdown",
   "metadata": {},
   "source": [
    "#### Large threshold"
   ]
  },
  {
   "cell_type": "code",
   "execution_count": null,
   "metadata": {},
   "outputs": [],
   "source": [
    "b_total_decreases_large_market_decreases = 0\n",
    "\n",
    "for company in companies:\n",
    "    large_threshold=len(proxy_b[(proxy_b[f'{company}_Decrease_4std'] == 1) & (proxy_b['Market_Return_Decrease'] == 1)])\n",
    "    b_total_decreases_large_market_decreases +=large_threshold\n",
    "print(b_total_decreases_large_market_decreases)"
   ]
  },
  {
   "cell_type": "markdown",
   "metadata": {},
   "source": [
    "## Proxy C"
   ]
  },
  {
   "cell_type": "markdown",
   "metadata": {},
   "source": [
    "### Total increases"
   ]
  },
  {
   "cell_type": "code",
   "execution_count": null,
   "metadata": {},
   "outputs": [],
   "source": [
    "c_total_increases_market_decrease = 0\n",
    "\n",
    "for company in companies:\n",
    "    small_threshold=len(proxy_c[(proxy_c[f'{company}_Increase_small_thres'] == 1) & (proxy_c['Market_Return_Decrease'] == 1)])\n",
    "    c_total_increases_market_decrease +=small_threshold\n",
    "    large_threshold=len(proxy_c[(proxy_c[f'{company}_Increase_large_thres'] == 1) & (proxy_c['Market_Return_Decrease'] == 1)])\n",
    "    c_total_increases_market_decrease +=large_threshold\n",
    "print(c_total_increases_market_decrease)"
   ]
  },
  {
   "cell_type": "markdown",
   "metadata": {},
   "source": [
    "#### Small threshold"
   ]
  },
  {
   "cell_type": "code",
   "execution_count": null,
   "metadata": {},
   "outputs": [],
   "source": [
    "c_total_increases_small_market_decrease = 0\n",
    "\n",
    "for company in companies:\n",
    "    small_threshold=len(proxy_c[(proxy_c[f'{company}_Increase_small_thres'] == 1) & (proxy_c['Market_Return_Decrease'] == 1)])\n",
    "    c_total_increases_small_market_decrease +=small_threshold\n",
    "print(c_total_increases_small_market_decrease)"
   ]
  },
  {
   "cell_type": "markdown",
   "metadata": {},
   "source": [
    "#### Large threshold"
   ]
  },
  {
   "cell_type": "code",
   "execution_count": null,
   "metadata": {},
   "outputs": [],
   "source": [
    "c_total_increases_large_market_decrease = 0\n",
    "\n",
    "for company in companies:\n",
    "    large_threshold=len(proxy_c[(proxy_c[f'{company}_Increase_large_thres'] == 1) & (proxy_c['Market_Return_Decrease'] == 1)])\n",
    "    c_total_increases_large_market_decrease +=large_threshold\n",
    "print(c_total_increases_large_market_decrease)"
   ]
  },
  {
   "cell_type": "markdown",
   "metadata": {},
   "source": [
    "### Total decreases"
   ]
  },
  {
   "cell_type": "code",
   "execution_count": null,
   "metadata": {},
   "outputs": [],
   "source": [
    "c_total_decreases_market_decreases = 0\n",
    "\n",
    "for company in companies:\n",
    "    small_threshold=len(proxy_c[(proxy_c[f'{company}_Decrease_small_thres'] == 1) & (proxy_c['Market_Return_Decrease'] == 1)])\n",
    "    c_total_decreases_market_decreases  +=small_threshold\n",
    "    large_threshold=len(proxy_c[(proxy_c[f'{company}_Decrease_large_thres'] == 1) & (proxy_c['Market_Return_Decrease'] == 1)])\n",
    "    c_total_decreases_market_decreases  +=large_threshold\n",
    "print(c_total_decreases_market_decreases)"
   ]
  },
  {
   "cell_type": "markdown",
   "metadata": {},
   "source": [
    "#### Small threshold"
   ]
  },
  {
   "cell_type": "code",
   "execution_count": null,
   "metadata": {},
   "outputs": [],
   "source": [
    "c_total_decreases_small_market_decreases = 0\n",
    "\n",
    "for company in companies:\n",
    "    small_threshold=len(proxy_c[(proxy_c[f'{company}_Decrease_small_thres'] == 1) & (proxy_c['Market_Return_Decrease'] == 1)])\n",
    "    c_total_decreases_small_market_decreases +=small_threshold\n",
    "print(c_total_decreases_small_market_decreases)"
   ]
  },
  {
   "cell_type": "markdown",
   "metadata": {},
   "source": [
    "#### Large threshold"
   ]
  },
  {
   "cell_type": "code",
   "execution_count": null,
   "metadata": {},
   "outputs": [],
   "source": [
    "c_total_decreases_large_market_decreases = 0\n",
    "\n",
    "for company in companies:\n",
    "    large_threshold=len(proxy_c[(proxy_c[f'{company}_Decrease_large_thres'] == 1) & (proxy_c['Market_Return_Decrease'] == 1)])\n",
    "    c_total_decreases_large_market_decreases +=large_threshold\n",
    "print(c_total_decreases_large_market_decreases)"
   ]
  },
  {
   "cell_type": "markdown",
   "metadata": {},
   "source": [
    "# Market increases - Small-Cap"
   ]
  },
  {
   "cell_type": "code",
   "execution_count": null,
   "metadata": {},
   "outputs": [],
   "source": [
    "companies=small_cap['Security-Symbol'].to_list()"
   ]
  },
  {
   "cell_type": "markdown",
   "metadata": {},
   "source": [
    "## Proxy A"
   ]
  },
  {
   "cell_type": "markdown",
   "metadata": {},
   "source": [
    "### Total increases"
   ]
  },
  {
   "cell_type": "code",
   "execution_count": null,
   "metadata": {},
   "outputs": [],
   "source": [
    "a_small_increases_market_increase = 0\n",
    "\n",
    "for company in companies:\n",
    "    small_threshold=len(proxy_a[(proxy_a[f'{company}_Increase_small_thres'] == 1) & (proxy_a['Market_Return_Increase'] == 1)])\n",
    "    a_small_increases_market_increase +=small_threshold\n",
    "    large_threshold=len(proxy_a[(proxy_a[f'{company}_Increase_large_thres'] == 1) & (proxy_a['Market_Return_Increase'] == 1)])\n",
    "    a_small_increases_market_increase +=large_threshold\n",
    "print(a_small_increases_market_increase)"
   ]
  },
  {
   "cell_type": "markdown",
   "metadata": {},
   "source": [
    "#### Small threshold"
   ]
  },
  {
   "cell_type": "code",
   "execution_count": null,
   "metadata": {},
   "outputs": [],
   "source": [
    "a_small_increases_small_market_increase = 0\n",
    "\n",
    "for company in companies:\n",
    "    small_threshold=len(proxy_a[(proxy_a[f'{company}_Increase_small_thres'] == 1) & (proxy_a['Market_Return_Increase'] == 1)])\n",
    "    a_small_increases_small_market_increase +=small_threshold\n",
    "print(a_small_increases_small_market_increase)"
   ]
  },
  {
   "cell_type": "markdown",
   "metadata": {},
   "source": [
    "#### Large threshold"
   ]
  },
  {
   "cell_type": "code",
   "execution_count": null,
   "metadata": {},
   "outputs": [],
   "source": [
    "a_small_increases_large_market_increase = 0\n",
    "\n",
    "for company in companies:\n",
    "    large_threshold=len(proxy_a[(proxy_a[f'{company}_Increase_large_thres'] == 1) & (proxy_a['Market_Return_Increase'] == 1)])\n",
    "    a_small_increases_large_market_increase +=large_threshold\n",
    "print(a_small_increases_large_market_increase)"
   ]
  },
  {
   "cell_type": "markdown",
   "metadata": {},
   "source": [
    "### Total decreases"
   ]
  },
  {
   "cell_type": "code",
   "execution_count": null,
   "metadata": {},
   "outputs": [],
   "source": [
    "a_small_decreases_market_increases = 0\n",
    "\n",
    "for company in companies:\n",
    "    small_threshold=len(proxy_a[(proxy_a[f'{company}_Decrease_small_thres'] == 1) & (proxy_a['Market_Return_Increase'] == 1)])\n",
    "    a_small_decreases_market_increases  +=small_threshold\n",
    "    large_threshold=len(proxy_a[(proxy_a[f'{company}_Decrease_large_thres'] == 1) & (proxy_a['Market_Return_Increase'] == 1)])\n",
    "    a_small_decreases_market_increases  +=large_threshold\n",
    "print(a_small_decreases_market_increases)"
   ]
  },
  {
   "cell_type": "markdown",
   "metadata": {},
   "source": [
    "#### Small threshold"
   ]
  },
  {
   "cell_type": "code",
   "execution_count": null,
   "metadata": {},
   "outputs": [],
   "source": [
    "a_small_decreases_small_market_increases = 0\n",
    "\n",
    "for company in companies:\n",
    "    small_threshold=len(proxy_a[(proxy_a[f'{company}_Decrease_small_thres'] == 1) & (proxy_a['Market_Return_Increase'] == 1)])\n",
    "    a_small_decreases_small_market_increases +=small_threshold\n",
    "print(a_small_decreases_small_market_increases)"
   ]
  },
  {
   "cell_type": "markdown",
   "metadata": {},
   "source": [
    "#### Large threshold"
   ]
  },
  {
   "cell_type": "code",
   "execution_count": null,
   "metadata": {},
   "outputs": [],
   "source": [
    "a_small_decreases_large_market_increases = 0\n",
    "\n",
    "for company in companies:\n",
    "    large_threshold=len(proxy_a[(proxy_a[f'{company}_Decrease_large_thres'] == 1) & (proxy_a['Market_Return_Increase'] == 1)])\n",
    "    a_small_decreases_large_market_increases +=large_threshold\n",
    "print(a_small_decreases_large_market_increases)"
   ]
  },
  {
   "cell_type": "markdown",
   "metadata": {},
   "source": [
    "## Proxy B"
   ]
  },
  {
   "cell_type": "markdown",
   "metadata": {},
   "source": [
    "### Total increases"
   ]
  },
  {
   "cell_type": "code",
   "execution_count": null,
   "metadata": {},
   "outputs": [],
   "source": [
    "b_small_increases_market_increase = 0\n",
    "\n",
    "for company in companies:\n",
    "    small_threshold=len(proxy_b[(proxy_b[f'{company}_Increase_3std'] == 1) & (proxy_b['Market_Return_Increase'] == 1)])\n",
    "    b_small_increases_market_increase +=small_threshold\n",
    "    large_threshold=len(proxy_b[(proxy_b[f'{company}_Increase_4std'] == 1) & (proxy_b['Market_Return_Increase'] == 1)])\n",
    "    b_small_increases_market_increase +=large_threshold\n",
    "print(b_small_increases_market_increase)"
   ]
  },
  {
   "cell_type": "markdown",
   "metadata": {},
   "source": [
    "#### Small threshold"
   ]
  },
  {
   "cell_type": "code",
   "execution_count": null,
   "metadata": {},
   "outputs": [],
   "source": [
    "b_small_increases_small_market_increase = 0\n",
    "\n",
    "for company in companies:\n",
    "    small_threshold=len(proxy_b[(proxy_b[f'{company}_Increase_3std'] == 1) & (proxy_b['Market_Return_Increase'] == 1)])\n",
    "    b_small_increases_small_market_increase +=small_threshold\n",
    "print(b_small_increases_small_market_increase)"
   ]
  },
  {
   "cell_type": "markdown",
   "metadata": {},
   "source": [
    "#### Large threshold"
   ]
  },
  {
   "cell_type": "code",
   "execution_count": null,
   "metadata": {},
   "outputs": [],
   "source": [
    "b_small_increases_large_market_increase = 0\n",
    "\n",
    "for company in companies:\n",
    "    large_threshold=len(proxy_b[(proxy_b[f'{company}_Increase_4std'] == 1) & (proxy_b['Market_Return_Increase'] == 1)])\n",
    "    b_small_increases_large_market_increase +=large_threshold\n",
    "print(b_small_increases_large_market_increase)"
   ]
  },
  {
   "cell_type": "markdown",
   "metadata": {},
   "source": [
    "### Total decreases"
   ]
  },
  {
   "cell_type": "code",
   "execution_count": null,
   "metadata": {},
   "outputs": [],
   "source": [
    "b_small_decreases_market_increases = 0\n",
    "\n",
    "for company in companies:\n",
    "    small_threshold=len(proxy_b[(proxy_b[f'{company}_Decrease_3std'] == 1) & (proxy_b['Market_Return_Increase'] == 1)])\n",
    "    b_small_decreases_market_increases  +=small_threshold\n",
    "    large_threshold=len(proxy_b[(proxy_b[f'{company}_Decrease_4std'] == 1) & (proxy_b['Market_Return_Increase'] == 1)])\n",
    "    b_small_decreases_market_increases  +=large_threshold\n",
    "print(b_small_decreases_market_increases)"
   ]
  },
  {
   "cell_type": "markdown",
   "metadata": {},
   "source": [
    "#### Small threshold"
   ]
  },
  {
   "cell_type": "code",
   "execution_count": null,
   "metadata": {},
   "outputs": [],
   "source": [
    "b_small_decreases_small_market_increases = 0\n",
    "\n",
    "for company in companies:\n",
    "    small_threshold=len(proxy_b[(proxy_b[f'{company}_Decrease_3std'] == 1) & (proxy_b['Market_Return_Increase'] == 1)])\n",
    "    b_small_decreases_small_market_increases +=small_threshold\n",
    "print(b_small_decreases_small_market_increases)"
   ]
  },
  {
   "cell_type": "markdown",
   "metadata": {},
   "source": [
    "#### Large threshold"
   ]
  },
  {
   "cell_type": "code",
   "execution_count": null,
   "metadata": {},
   "outputs": [],
   "source": [
    "b_small_decreases_large_market_increases = 0\n",
    "\n",
    "for company in companies:\n",
    "    large_threshold=len(proxy_b[(proxy_b[f'{company}_Decrease_4std'] == 1) & (proxy_b['Market_Return_Increase'] == 1)])\n",
    "    b_small_decreases_large_market_increases +=large_threshold\n",
    "print(b_small_decreases_large_market_increases)"
   ]
  },
  {
   "cell_type": "markdown",
   "metadata": {},
   "source": [
    "## Proxy C"
   ]
  },
  {
   "cell_type": "markdown",
   "metadata": {},
   "source": [
    "### Total increases"
   ]
  },
  {
   "cell_type": "code",
   "execution_count": null,
   "metadata": {},
   "outputs": [],
   "source": [
    "c_small_increases_market_increase = 0\n",
    "\n",
    "for company in companies:\n",
    "    small_threshold=len(proxy_c[(proxy_c[f'{company}_Increase_small_thres'] == 1) & (proxy_c['Market_Return_Increase'] == 1)])\n",
    "    c_small_increases_market_increase +=small_threshold\n",
    "    large_threshold=len(proxy_c[(proxy_c[f'{company}_Increase_large_thres'] == 1) & (proxy_c['Market_Return_Increase'] == 1)])\n",
    "    c_small_increases_market_increase +=large_threshold\n",
    "print(c_small_increases_market_increase)"
   ]
  },
  {
   "cell_type": "markdown",
   "metadata": {},
   "source": [
    "#### Small threshold"
   ]
  },
  {
   "cell_type": "code",
   "execution_count": null,
   "metadata": {},
   "outputs": [],
   "source": [
    "c_small_increases_small_market_increase = 0\n",
    "\n",
    "for company in companies:\n",
    "    small_threshold=len(proxy_c[(proxy_c[f'{company}_Increase_small_thres'] == 1) & (proxy_c['Market_Return_Increase'] == 1)])\n",
    "    c_small_increases_small_market_increase +=small_threshold\n",
    "print(c_small_increases_small_market_increase)"
   ]
  },
  {
   "cell_type": "markdown",
   "metadata": {},
   "source": [
    "#### Large threshold"
   ]
  },
  {
   "cell_type": "code",
   "execution_count": null,
   "metadata": {},
   "outputs": [],
   "source": [
    "c_small_increases_large_market_increase = 0\n",
    "\n",
    "for company in companies:\n",
    "    large_threshold=len(proxy_c[(proxy_c[f'{company}_Increase_large_thres'] == 1) & (proxy_c['Market_Return_Increase'] == 1)])\n",
    "    c_small_increases_large_market_increase +=large_threshold\n",
    "print(c_small_increases_large_market_increase)"
   ]
  },
  {
   "cell_type": "markdown",
   "metadata": {},
   "source": [
    "### Total decreases"
   ]
  },
  {
   "cell_type": "code",
   "execution_count": null,
   "metadata": {},
   "outputs": [],
   "source": [
    "c_small_decreases_market_increases = 0\n",
    "\n",
    "for company in companies:\n",
    "    small_threshold=len(proxy_c[(proxy_c[f'{company}_Decrease_small_thres'] == 1) & (proxy_c['Market_Return_Increase'] == 1)])\n",
    "    c_small_decreases_market_increases  +=small_threshold\n",
    "    large_threshold=len(proxy_c[(proxy_c[f'{company}_Decrease_large_thres'] == 1) & (proxy_c['Market_Return_Increase'] == 1)])\n",
    "    c_small_decreases_market_increases  +=large_threshold\n",
    "print(c_small_decreases_market_increases)"
   ]
  },
  {
   "cell_type": "markdown",
   "metadata": {},
   "source": [
    "#### Small threshold"
   ]
  },
  {
   "cell_type": "code",
   "execution_count": null,
   "metadata": {},
   "outputs": [],
   "source": [
    "c_small_decreases_small_market_increases = 0\n",
    "\n",
    "for company in companies:\n",
    "    small_threshold=len(proxy_c[(proxy_c[f'{company}_Decrease_small_thres'] == 1) & (proxy_c['Market_Return_Increase'] == 1)])\n",
    "    c_small_decreases_small_market_increases +=small_threshold\n",
    "print(c_small_decreases_small_market_increases)"
   ]
  },
  {
   "cell_type": "markdown",
   "metadata": {},
   "source": [
    "#### Large threshold"
   ]
  },
  {
   "cell_type": "code",
   "execution_count": null,
   "metadata": {},
   "outputs": [],
   "source": [
    "c_small_decreases_large_market_increases = 0\n",
    "\n",
    "for company in companies:\n",
    "    large_threshold=len(proxy_c[(proxy_c[f'{company}_Decrease_large_thres'] == 1) & (proxy_c['Market_Return_Increase'] == 1)])\n",
    "    c_small_decreases_large_market_increases +=large_threshold\n",
    "print(c_small_decreases_large_market_increases)"
   ]
  },
  {
   "cell_type": "markdown",
   "metadata": {},
   "source": [
    "# Market decreases - Small-Cap"
   ]
  },
  {
   "cell_type": "markdown",
   "metadata": {},
   "source": [
    "## Proxy A"
   ]
  },
  {
   "cell_type": "markdown",
   "metadata": {},
   "source": [
    "### Total increases"
   ]
  },
  {
   "cell_type": "code",
   "execution_count": null,
   "metadata": {},
   "outputs": [],
   "source": [
    "a_small_increases_market_decrease = 0\n",
    "\n",
    "for company in companies:\n",
    "    small_threshold=len(proxy_a[(proxy_a[f'{company}_Increase_small_thres'] == 1) & (proxy_a['Market_Return_Decrease'] == 1)])\n",
    "    a_small_increases_market_decrease +=small_threshold\n",
    "    large_threshold=len(proxy_a[(proxy_a[f'{company}_Increase_large_thres'] == 1) & (proxy_a['Market_Return_Decrease'] == 1)])\n",
    "    a_small_increases_market_decrease +=large_threshold\n",
    "print(a_small_increases_market_decrease)"
   ]
  },
  {
   "cell_type": "markdown",
   "metadata": {},
   "source": [
    "#### Small threshold"
   ]
  },
  {
   "cell_type": "code",
   "execution_count": null,
   "metadata": {},
   "outputs": [],
   "source": [
    "a_small_increases_small_market_decrease = 0\n",
    "\n",
    "for company in companies:\n",
    "    small_threshold=len(proxy_a[(proxy_a[f'{company}_Increase_small_thres'] == 1) & (proxy_a['Market_Return_Decrease'] == 1)])\n",
    "    a_small_increases_small_market_decrease +=small_threshold\n",
    "print(a_small_increases_small_market_decrease)"
   ]
  },
  {
   "cell_type": "markdown",
   "metadata": {},
   "source": [
    "#### Large threshold"
   ]
  },
  {
   "cell_type": "code",
   "execution_count": null,
   "metadata": {},
   "outputs": [],
   "source": [
    "a_small_increases_large_market_decrease = 0\n",
    "\n",
    "for company in companies:\n",
    "    large_threshold=len(proxy_a[(proxy_a[f'{company}_Increase_large_thres'] == 1) & (proxy_a['Market_Return_Decrease'] == 1)])\n",
    "    a_small_increases_large_market_decrease +=large_threshold\n",
    "print(a_small_increases_large_market_decrease)"
   ]
  },
  {
   "cell_type": "markdown",
   "metadata": {},
   "source": [
    "### Total decreases"
   ]
  },
  {
   "cell_type": "code",
   "execution_count": null,
   "metadata": {},
   "outputs": [],
   "source": [
    "a_small_decreases_market_decreases = 0\n",
    "\n",
    "for company in companies:\n",
    "    small_threshold=len(proxy_a[(proxy_a[f'{company}_Decrease_small_thres'] == 1) & (proxy_a['Market_Return_Decrease'] == 1)])\n",
    "    a_small_decreases_market_decreases  +=small_threshold\n",
    "    large_threshold=len(proxy_a[(proxy_a[f'{company}_Decrease_large_thres'] == 1) & (proxy_a['Market_Return_Decrease'] == 1)])\n",
    "    a_small_decreases_market_decreases  +=large_threshold\n",
    "print(a_small_decreases_market_decreases)"
   ]
  },
  {
   "cell_type": "markdown",
   "metadata": {},
   "source": [
    "#### Small threshold"
   ]
  },
  {
   "cell_type": "code",
   "execution_count": null,
   "metadata": {},
   "outputs": [],
   "source": [
    "a_small_decreases_small_market_decreases = 0\n",
    "\n",
    "for company in companies:\n",
    "    small_threshold=len(proxy_a[(proxy_a[f'{company}_Decrease_small_thres'] == 1) & (proxy_a['Market_Return_Decrease'] == 1)])\n",
    "    a_small_decreases_small_market_decreases +=small_threshold\n",
    "print(a_small_decreases_small_market_decreases)"
   ]
  },
  {
   "cell_type": "markdown",
   "metadata": {},
   "source": [
    "#### Large threshold"
   ]
  },
  {
   "cell_type": "code",
   "execution_count": null,
   "metadata": {},
   "outputs": [],
   "source": [
    "a_small_decreases_large_market_decreases = 0\n",
    "\n",
    "for company in companies:\n",
    "    large_threshold=len(proxy_a[(proxy_a[f'{company}_Decrease_large_thres'] == 1) & (proxy_a['Market_Return_Decrease'] == 1)])\n",
    "    a_small_decreases_large_market_decreases +=large_threshold\n",
    "print(a_small_decreases_large_market_decreases)"
   ]
  },
  {
   "cell_type": "markdown",
   "metadata": {},
   "source": [
    "## Proxy B"
   ]
  },
  {
   "cell_type": "markdown",
   "metadata": {},
   "source": [
    "### Total increases"
   ]
  },
  {
   "cell_type": "code",
   "execution_count": null,
   "metadata": {},
   "outputs": [],
   "source": [
    "b_small_increases_market_decrease = 0\n",
    "\n",
    "for company in companies:\n",
    "    small_threshold=len(proxy_b[(proxy_b[f'{company}_Increase_3std'] == 1) & (proxy_b['Market_Return_Decrease'] == 1)])\n",
    "    b_small_increases_market_decrease +=small_threshold\n",
    "    large_threshold=len(proxy_b[(proxy_b[f'{company}_Increase_4std'] == 1) & (proxy_b['Market_Return_Decrease'] == 1)])\n",
    "    b_small_increases_market_decrease +=large_threshold\n",
    "print(b_small_increases_market_decrease)"
   ]
  },
  {
   "cell_type": "markdown",
   "metadata": {},
   "source": [
    "#### Small threshold"
   ]
  },
  {
   "cell_type": "code",
   "execution_count": null,
   "metadata": {},
   "outputs": [],
   "source": [
    "b_small_increases_small_market_decrease = 0\n",
    "\n",
    "for company in companies:\n",
    "    small_threshold=len(proxy_b[(proxy_b[f'{company}_Increase_3std'] == 1) & (proxy_b['Market_Return_Decrease'] == 1)])\n",
    "    b_small_increases_small_market_decrease +=small_threshold\n",
    "print(b_small_increases_small_market_decrease)"
   ]
  },
  {
   "cell_type": "markdown",
   "metadata": {},
   "source": [
    "#### Large threshold"
   ]
  },
  {
   "cell_type": "code",
   "execution_count": null,
   "metadata": {},
   "outputs": [],
   "source": [
    "b_small_increases_large_market_decrease = 0\n",
    "\n",
    "for company in companies:\n",
    "    large_threshold=len(proxy_b[(proxy_b[f'{company}_Increase_4std'] == 1) & (proxy_b['Market_Return_Decrease'] == 1)])\n",
    "    b_small_increases_large_market_decrease +=large_threshold\n",
    "print(b_small_increases_large_market_decrease)"
   ]
  },
  {
   "cell_type": "markdown",
   "metadata": {},
   "source": [
    "### Total decreases"
   ]
  },
  {
   "cell_type": "code",
   "execution_count": null,
   "metadata": {},
   "outputs": [],
   "source": [
    "b_small_decreases_market_decreases = 0\n",
    "\n",
    "for company in companies:\n",
    "    small_threshold=len(proxy_b[(proxy_b[f'{company}_Decrease_3std'] == 1) & (proxy_b['Market_Return_Decrease'] == 1)])\n",
    "    b_small_decreases_market_decreases  +=small_threshold\n",
    "    large_threshold=len(proxy_b[(proxy_b[f'{company}_Decrease_4std'] == 1) & (proxy_b['Market_Return_Decrease'] == 1)])\n",
    "    b_small_decreases_market_decreases  +=large_threshold\n",
    "print(b_small_decreases_market_decreases)"
   ]
  },
  {
   "cell_type": "markdown",
   "metadata": {},
   "source": [
    "#### Small threshold"
   ]
  },
  {
   "cell_type": "code",
   "execution_count": null,
   "metadata": {},
   "outputs": [],
   "source": [
    "b_small_decreases_small_market_decreases = 0\n",
    "\n",
    "for company in companies:\n",
    "    small_threshold=len(proxy_b[(proxy_b[f'{company}_Decrease_3std'] == 1) & (proxy_b['Market_Return_Decrease'] == 1)])\n",
    "    b_small_decreases_small_market_decreases +=small_threshold\n",
    "print(b_small_decreases_small_market_decreases)"
   ]
  },
  {
   "cell_type": "markdown",
   "metadata": {},
   "source": [
    "#### Large threshold"
   ]
  },
  {
   "cell_type": "code",
   "execution_count": null,
   "metadata": {},
   "outputs": [],
   "source": [
    "b_small_decreases_large_market_decreases = 0\n",
    "\n",
    "for company in companies:\n",
    "    large_threshold=len(proxy_b[(proxy_b[f'{company}_Decrease_4std'] == 1) & (proxy_b['Market_Return_Decrease'] == 1)])\n",
    "    b_small_decreases_large_market_decreases +=large_threshold\n",
    "print(b_small_decreases_large_market_decreases)"
   ]
  },
  {
   "cell_type": "markdown",
   "metadata": {},
   "source": [
    "## Proxy C"
   ]
  },
  {
   "cell_type": "markdown",
   "metadata": {},
   "source": [
    "### Total increases"
   ]
  },
  {
   "cell_type": "code",
   "execution_count": null,
   "metadata": {},
   "outputs": [],
   "source": [
    "c_small_increases_market_decrease = 0\n",
    "\n",
    "for company in companies:\n",
    "    small_threshold=len(proxy_c[(proxy_c[f'{company}_Increase_small_thres'] == 1) & (proxy_c['Market_Return_Decrease'] == 1)])\n",
    "    c_small_increases_market_decrease +=small_threshold\n",
    "    large_threshold=len(proxy_c[(proxy_c[f'{company}_Increase_large_thres'] == 1) & (proxy_c['Market_Return_Decrease'] == 1)])\n",
    "    c_small_increases_market_decrease +=large_threshold\n",
    "print(c_small_increases_market_decrease)"
   ]
  },
  {
   "cell_type": "markdown",
   "metadata": {},
   "source": [
    "#### Small threshold"
   ]
  },
  {
   "cell_type": "code",
   "execution_count": null,
   "metadata": {},
   "outputs": [],
   "source": [
    "c_small_increases_small_market_decrease = 0\n",
    "\n",
    "for company in companies:\n",
    "    small_threshold=len(proxy_c[(proxy_c[f'{company}_Increase_small_thres'] == 1) & (proxy_c['Market_Return_Decrease'] == 1)])\n",
    "    c_small_increases_small_market_decrease +=small_threshold\n",
    "print(c_small_increases_small_market_decrease)"
   ]
  },
  {
   "cell_type": "markdown",
   "metadata": {},
   "source": [
    "#### Large threshold"
   ]
  },
  {
   "cell_type": "code",
   "execution_count": null,
   "metadata": {},
   "outputs": [],
   "source": [
    "c_small_increases_large_market_decrease = 0\n",
    "\n",
    "for company in companies:\n",
    "    large_threshold=len(proxy_c[(proxy_c[f'{company}_Increase_large_thres'] == 1) & (proxy_c['Market_Return_Decrease'] == 1)])\n",
    "    c_small_increases_large_market_decrease +=large_threshold\n",
    "print(c_small_increases_large_market_decrease)"
   ]
  },
  {
   "cell_type": "markdown",
   "metadata": {},
   "source": [
    "### Total decreases"
   ]
  },
  {
   "cell_type": "code",
   "execution_count": null,
   "metadata": {},
   "outputs": [],
   "source": [
    "c_small_decreases_market_decreases = 0\n",
    "\n",
    "for company in companies:\n",
    "    small_threshold=len(proxy_c[(proxy_c[f'{company}_Decrease_small_thres'] == 1) & (proxy_c['Market_Return_Decrease'] == 1)])\n",
    "    c_small_decreases_market_decreases  +=small_threshold\n",
    "    large_threshold=len(proxy_c[(proxy_c[f'{company}_Decrease_large_thres'] == 1) & (proxy_c['Market_Return_Decrease'] == 1)])\n",
    "    c_small_decreases_market_decreases  +=large_threshold\n",
    "print(c_small_decreases_market_decreases)"
   ]
  },
  {
   "cell_type": "markdown",
   "metadata": {},
   "source": [
    "#### Small threshold"
   ]
  },
  {
   "cell_type": "code",
   "execution_count": null,
   "metadata": {},
   "outputs": [],
   "source": [
    "c_small_decreases_small_market_decreases = 0\n",
    "\n",
    "for company in companies:\n",
    "    small_threshold=len(proxy_c[(proxy_c[f'{company}_Decrease_small_thres'] == 1) & (proxy_c['Market_Return_Decrease'] == 1)])\n",
    "    c_small_decreases_small_market_decreases +=small_threshold\n",
    "print(c_small_decreases_small_market_decreases)"
   ]
  },
  {
   "cell_type": "markdown",
   "metadata": {},
   "source": [
    "#### Large threshold"
   ]
  },
  {
   "cell_type": "code",
   "execution_count": null,
   "metadata": {},
   "outputs": [],
   "source": [
    "c_small_decreases_large_market_decreases = 0\n",
    "\n",
    "for company in companies:\n",
    "    large_threshold=len(proxy_c[(proxy_c[f'{company}_Decrease_large_thres'] == 1) & (proxy_c['Market_Return_Decrease'] == 1)])\n",
    "    c_small_decreases_large_market_decreases +=large_threshold\n",
    "print(c_small_decreases_large_market_decreases)"
   ]
  },
  {
   "cell_type": "markdown",
   "metadata": {},
   "source": [
    "# Market increases - Mid-Cap"
   ]
  },
  {
   "cell_type": "code",
   "execution_count": null,
   "metadata": {},
   "outputs": [],
   "source": [
    "companies=mid_cap['Security-Symbol'].to_list()"
   ]
  },
  {
   "cell_type": "markdown",
   "metadata": {},
   "source": [
    "## Proxy A"
   ]
  },
  {
   "cell_type": "markdown",
   "metadata": {},
   "source": [
    "### Total increases"
   ]
  },
  {
   "cell_type": "code",
   "execution_count": null,
   "metadata": {},
   "outputs": [],
   "source": [
    "a_mid_increases_market_increase = 0\n",
    "\n",
    "for company in companies:\n",
    "    small_threshold=len(proxy_a[(proxy_a[f'{company}_Increase_small_thres'] == 1) & (proxy_a['Market_Return_Increase'] == 1)])\n",
    "    a_mid_increases_market_increase +=small_threshold\n",
    "    large_threshold=len(proxy_a[(proxy_a[f'{company}_Increase_large_thres'] == 1) & (proxy_a['Market_Return_Increase'] == 1)])\n",
    "    a_mid_increases_market_increase +=large_threshold\n",
    "print(a_mid_increases_market_increase)"
   ]
  },
  {
   "cell_type": "markdown",
   "metadata": {},
   "source": [
    "#### Small threshold"
   ]
  },
  {
   "cell_type": "code",
   "execution_count": null,
   "metadata": {},
   "outputs": [],
   "source": [
    "a_mid_increases_small_market_increase = 0\n",
    "\n",
    "for company in companies:\n",
    "    small_threshold=len(proxy_a[(proxy_a[f'{company}_Increase_small_thres'] == 1) & (proxy_a['Market_Return_Increase'] == 1)])\n",
    "    a_mid_increases_small_market_increase +=small_threshold\n",
    "print(a_mid_increases_small_market_increase)"
   ]
  },
  {
   "cell_type": "markdown",
   "metadata": {},
   "source": [
    "#### Large threshold"
   ]
  },
  {
   "cell_type": "code",
   "execution_count": null,
   "metadata": {},
   "outputs": [],
   "source": [
    "a_mid_increases_large_market_increase = 0\n",
    "\n",
    "for company in companies:\n",
    "    large_threshold=len(proxy_a[(proxy_a[f'{company}_Increase_large_thres'] == 1) & (proxy_a['Market_Return_Increase'] == 1)])\n",
    "    a_mid_increases_large_market_increase +=large_threshold\n",
    "print(a_mid_increases_large_market_increase)"
   ]
  },
  {
   "cell_type": "markdown",
   "metadata": {},
   "source": [
    "### Total decreases"
   ]
  },
  {
   "cell_type": "code",
   "execution_count": null,
   "metadata": {},
   "outputs": [],
   "source": [
    "a_mid_decreases_market_increases = 0\n",
    "\n",
    "for company in companies:\n",
    "    small_threshold=len(proxy_a[(proxy_a[f'{company}_Decrease_small_thres'] == 1) & (proxy_a['Market_Return_Increase'] == 1)])\n",
    "    a_mid_decreases_market_increases  +=small_threshold\n",
    "    large_threshold=len(proxy_a[(proxy_a[f'{company}_Decrease_large_thres'] == 1) & (proxy_a['Market_Return_Increase'] == 1)])\n",
    "    a_mid_decreases_market_increases  +=large_threshold\n",
    "print(a_mid_decreases_market_increases)"
   ]
  },
  {
   "cell_type": "markdown",
   "metadata": {},
   "source": [
    "#### Small threshold"
   ]
  },
  {
   "cell_type": "code",
   "execution_count": null,
   "metadata": {},
   "outputs": [],
   "source": [
    "a_mid_decreases_small_market_increases = 0\n",
    "\n",
    "for company in companies:\n",
    "    small_threshold=len(proxy_a[(proxy_a[f'{company}_Decrease_small_thres'] == 1) & (proxy_a['Market_Return_Increase'] == 1)])\n",
    "    a_mid_decreases_small_market_increases +=small_threshold\n",
    "print(a_mid_decreases_small_market_increases)"
   ]
  },
  {
   "cell_type": "markdown",
   "metadata": {},
   "source": [
    "#### Large threshold"
   ]
  },
  {
   "cell_type": "code",
   "execution_count": null,
   "metadata": {},
   "outputs": [],
   "source": [
    "a_mid_decreases_large_market_increases = 0\n",
    "\n",
    "for company in companies:\n",
    "    large_threshold=len(proxy_a[(proxy_a[f'{company}_Decrease_large_thres'] == 1) & (proxy_a['Market_Return_Increase'] == 1)])\n",
    "    a_mid_decreases_large_market_increases +=large_threshold\n",
    "print(a_mid_decreases_large_market_increases)"
   ]
  },
  {
   "cell_type": "markdown",
   "metadata": {},
   "source": [
    "## Proxy B"
   ]
  },
  {
   "cell_type": "markdown",
   "metadata": {},
   "source": [
    "### Total increases"
   ]
  },
  {
   "cell_type": "code",
   "execution_count": null,
   "metadata": {},
   "outputs": [],
   "source": [
    "b_mid_increases_market_increase = 0\n",
    "\n",
    "for company in companies:\n",
    "    small_threshold=len(proxy_b[(proxy_b[f'{company}_Increase_3std'] == 1) & (proxy_b['Market_Return_Increase'] == 1)])\n",
    "    b_mid_increases_market_increase +=small_threshold\n",
    "    large_threshold=len(proxy_b[(proxy_b[f'{company}_Increase_4std'] == 1) & (proxy_b['Market_Return_Increase'] == 1)])\n",
    "    b_mid_increases_market_increase +=large_threshold\n",
    "print(b_mid_increases_market_increase)"
   ]
  },
  {
   "cell_type": "markdown",
   "metadata": {},
   "source": [
    "#### Small threshold"
   ]
  },
  {
   "cell_type": "code",
   "execution_count": null,
   "metadata": {},
   "outputs": [],
   "source": [
    "b_mid_increases_small_market_increase = 0\n",
    "\n",
    "for company in companies:\n",
    "    small_threshold=len(proxy_b[(proxy_b[f'{company}_Increase_3std'] == 1) & (proxy_b['Market_Return_Increase'] == 1)])\n",
    "    b_mid_increases_small_market_increase +=small_threshold\n",
    "print(b_mid_increases_small_market_increase)"
   ]
  },
  {
   "cell_type": "markdown",
   "metadata": {},
   "source": [
    "#### Large threshold"
   ]
  },
  {
   "cell_type": "code",
   "execution_count": null,
   "metadata": {},
   "outputs": [],
   "source": [
    "b_mid_increases_large_market_increase = 0\n",
    "\n",
    "for company in companies:\n",
    "    large_threshold=len(proxy_b[(proxy_b[f'{company}_Increase_4std'] == 1) & (proxy_b['Market_Return_Increase'] == 1)])\n",
    "    b_mid_increases_large_market_increase +=large_threshold\n",
    "print(b_mid_increases_large_market_increase)"
   ]
  },
  {
   "cell_type": "markdown",
   "metadata": {},
   "source": [
    "### Total decreases"
   ]
  },
  {
   "cell_type": "code",
   "execution_count": null,
   "metadata": {},
   "outputs": [],
   "source": [
    "b_mid_decreases_market_increases = 0\n",
    "\n",
    "for company in companies:\n",
    "    small_threshold=len(proxy_b[(proxy_b[f'{company}_Decrease_3std'] == 1) & (proxy_b['Market_Return_Increase'] == 1)])\n",
    "    b_mid_decreases_market_increases  +=small_threshold\n",
    "    large_threshold=len(proxy_b[(proxy_b[f'{company}_Decrease_4std'] == 1) & (proxy_b['Market_Return_Increase'] == 1)])\n",
    "    b_mid_decreases_market_increases  +=large_threshold\n",
    "print(b_mid_decreases_market_increases)"
   ]
  },
  {
   "cell_type": "markdown",
   "metadata": {},
   "source": [
    "#### Small threshold"
   ]
  },
  {
   "cell_type": "code",
   "execution_count": null,
   "metadata": {},
   "outputs": [],
   "source": [
    "b_mid_decreases_small_market_increases = 0\n",
    "\n",
    "for company in companies:\n",
    "    small_threshold=len(proxy_b[(proxy_b[f'{company}_Decrease_3std'] == 1) & (proxy_b['Market_Return_Increase'] == 1)])\n",
    "    b_mid_decreases_small_market_increases +=small_threshold\n",
    "print(b_mid_decreases_small_market_increases)"
   ]
  },
  {
   "cell_type": "markdown",
   "metadata": {},
   "source": [
    "#### Large threshold"
   ]
  },
  {
   "cell_type": "code",
   "execution_count": null,
   "metadata": {},
   "outputs": [],
   "source": [
    "b_mid_decreases_large_market_increases = 0\n",
    "\n",
    "for company in companies:\n",
    "    large_threshold=len(proxy_b[(proxy_b[f'{company}_Decrease_4std'] == 1) & (proxy_b['Market_Return_Increase'] == 1)])\n",
    "    b_mid_decreases_large_market_increases +=large_threshold\n",
    "print(b_mid_decreases_large_market_increases)"
   ]
  },
  {
   "cell_type": "markdown",
   "metadata": {},
   "source": [
    "## Proxy C"
   ]
  },
  {
   "cell_type": "markdown",
   "metadata": {},
   "source": [
    "### Total increases"
   ]
  },
  {
   "cell_type": "code",
   "execution_count": null,
   "metadata": {},
   "outputs": [],
   "source": [
    "c_mid_increases_market_increase = 0\n",
    "\n",
    "for company in companies:\n",
    "    small_threshold=len(proxy_c[(proxy_c[f'{company}_Increase_small_thres'] == 1) & (proxy_c['Market_Return_Increase'] == 1)])\n",
    "    c_mid_increases_market_increase +=small_threshold\n",
    "    large_threshold=len(proxy_c[(proxy_c[f'{company}_Increase_large_thres'] == 1) & (proxy_c['Market_Return_Increase'] == 1)])\n",
    "    c_mid_increases_market_increase +=large_threshold\n",
    "print(c_mid_increases_market_increase)"
   ]
  },
  {
   "cell_type": "markdown",
   "metadata": {},
   "source": [
    "#### Small threshold"
   ]
  },
  {
   "cell_type": "code",
   "execution_count": null,
   "metadata": {},
   "outputs": [],
   "source": [
    "c_mid_increases_small_market_increase = 0\n",
    "\n",
    "for company in companies:\n",
    "    small_threshold=len(proxy_c[(proxy_c[f'{company}_Increase_small_thres'] == 1) & (proxy_c['Market_Return_Increase'] == 1)])\n",
    "    c_mid_increases_small_market_increase +=small_threshold\n",
    "print(c_mid_increases_small_market_increase)"
   ]
  },
  {
   "cell_type": "markdown",
   "metadata": {},
   "source": [
    "#### Large threshold"
   ]
  },
  {
   "cell_type": "code",
   "execution_count": null,
   "metadata": {},
   "outputs": [],
   "source": [
    "c_mid_increases_large_market_increase = 0\n",
    "\n",
    "for company in companies:\n",
    "    large_threshold=len(proxy_c[(proxy_c[f'{company}_Increase_large_thres'] == 1) & (proxy_c['Market_Return_Increase'] == 1)])\n",
    "    c_mid_increases_large_market_increase +=large_threshold\n",
    "print(c_mid_increases_large_market_increase)"
   ]
  },
  {
   "cell_type": "markdown",
   "metadata": {},
   "source": [
    "### Total decreases"
   ]
  },
  {
   "cell_type": "code",
   "execution_count": null,
   "metadata": {},
   "outputs": [],
   "source": [
    "c_mid_decreases_market_increases = 0\n",
    "\n",
    "for company in companies:\n",
    "    small_threshold=len(proxy_c[(proxy_c[f'{company}_Decrease_small_thres'] == 1) & (proxy_c['Market_Return_Increase'] == 1)])\n",
    "    c_mid_decreases_market_increases  +=small_threshold\n",
    "    large_threshold=len(proxy_c[(proxy_c[f'{company}_Decrease_large_thres'] == 1) & (proxy_c['Market_Return_Increase'] == 1)])\n",
    "    c_mid_decreases_market_increases  +=large_threshold\n",
    "print(c_mid_decreases_market_increases)"
   ]
  },
  {
   "cell_type": "markdown",
   "metadata": {},
   "source": [
    "#### Small threshold"
   ]
  },
  {
   "cell_type": "code",
   "execution_count": null,
   "metadata": {},
   "outputs": [],
   "source": [
    "c_mid_decreases_small_market_increases = 0\n",
    "\n",
    "for company in companies:\n",
    "    small_threshold=len(proxy_c[(proxy_c[f'{company}_Decrease_small_thres'] == 1) & (proxy_c['Market_Return_Increase'] == 1)])\n",
    "    c_mid_decreases_small_market_increases +=small_threshold\n",
    "print(c_mid_decreases_small_market_increases)"
   ]
  },
  {
   "cell_type": "markdown",
   "metadata": {},
   "source": [
    "#### Large threshold"
   ]
  },
  {
   "cell_type": "code",
   "execution_count": null,
   "metadata": {},
   "outputs": [],
   "source": [
    "c_mid_decreases_large_market_increases = 0\n",
    "\n",
    "for company in companies:\n",
    "    large_threshold=len(proxy_c[(proxy_c[f'{company}_Decrease_large_thres'] == 1) & (proxy_c['Market_Return_Increase'] == 1)])\n",
    "    c_mid_decreases_large_market_increases +=large_threshold\n",
    "print(c_mid_decreases_large_market_increases)"
   ]
  },
  {
   "cell_type": "markdown",
   "metadata": {},
   "source": [
    "# Market decreases - Mid-Cap"
   ]
  },
  {
   "cell_type": "markdown",
   "metadata": {},
   "source": [
    "## Proxy A"
   ]
  },
  {
   "cell_type": "markdown",
   "metadata": {},
   "source": [
    "### Total increases"
   ]
  },
  {
   "cell_type": "code",
   "execution_count": null,
   "metadata": {},
   "outputs": [],
   "source": [
    "a_mid_increases_market_decrease = 0\n",
    "\n",
    "for company in companies:\n",
    "    small_threshold=len(proxy_a[(proxy_a[f'{company}_Increase_small_thres'] == 1) & (proxy_a['Market_Return_Decrease'] == 1)])\n",
    "    a_mid_increases_market_decrease +=small_threshold\n",
    "    large_threshold=len(proxy_a[(proxy_a[f'{company}_Increase_large_thres'] == 1) & (proxy_a['Market_Return_Decrease'] == 1)])\n",
    "    a_mid_increases_market_decrease +=large_threshold\n",
    "print(a_mid_increases_market_decrease)"
   ]
  },
  {
   "cell_type": "markdown",
   "metadata": {},
   "source": [
    "#### Small threshold"
   ]
  },
  {
   "cell_type": "code",
   "execution_count": null,
   "metadata": {},
   "outputs": [],
   "source": [
    "a_mid_increases_small_market_decrease = 0\n",
    "\n",
    "for company in companies:\n",
    "    small_threshold=len(proxy_a[(proxy_a[f'{company}_Increase_small_thres'] == 1) & (proxy_a['Market_Return_Decrease'] == 1)])\n",
    "    a_mid_increases_small_market_decrease +=small_threshold\n",
    "print(a_mid_increases_small_market_decrease)"
   ]
  },
  {
   "cell_type": "markdown",
   "metadata": {},
   "source": [
    "#### Large threshold"
   ]
  },
  {
   "cell_type": "code",
   "execution_count": null,
   "metadata": {},
   "outputs": [],
   "source": [
    "a_mid_increases_large_market_decrease = 0\n",
    "\n",
    "for company in companies:\n",
    "    large_threshold=len(proxy_a[(proxy_a[f'{company}_Increase_large_thres'] == 1) & (proxy_a['Market_Return_Decrease'] == 1)])\n",
    "    a_mid_increases_large_market_decrease +=large_threshold\n",
    "print(a_mid_increases_large_market_decrease)"
   ]
  },
  {
   "cell_type": "markdown",
   "metadata": {},
   "source": [
    "### Total decreases"
   ]
  },
  {
   "cell_type": "code",
   "execution_count": null,
   "metadata": {},
   "outputs": [],
   "source": [
    "a_mid_decreases_market_decreases = 0\n",
    "\n",
    "for company in companies:\n",
    "    small_threshold=len(proxy_a[(proxy_a[f'{company}_Decrease_small_thres'] == 1) & (proxy_a['Market_Return_Decrease'] == 1)])\n",
    "    a_mid_decreases_market_decreases  +=small_threshold\n",
    "    large_threshold=len(proxy_a[(proxy_a[f'{company}_Decrease_large_thres'] == 1) & (proxy_a['Market_Return_Decrease'] == 1)])\n",
    "    a_mid_decreases_market_decreases  +=large_threshold\n",
    "print(a_mid_decreases_market_decreases)"
   ]
  },
  {
   "cell_type": "markdown",
   "metadata": {},
   "source": [
    "#### Small threshold"
   ]
  },
  {
   "cell_type": "code",
   "execution_count": null,
   "metadata": {},
   "outputs": [],
   "source": [
    "a_mid_decreases_small_market_decreases = 0\n",
    "\n",
    "for company in companies:\n",
    "    small_threshold=len(proxy_a[(proxy_a[f'{company}_Decrease_small_thres'] == 1) & (proxy_a['Market_Return_Decrease'] == 1)])\n",
    "    a_mid_decreases_small_market_decreases +=small_threshold\n",
    "print(a_mid_decreases_small_market_decreases)"
   ]
  },
  {
   "cell_type": "markdown",
   "metadata": {},
   "source": [
    "#### Large threshold"
   ]
  },
  {
   "cell_type": "code",
   "execution_count": null,
   "metadata": {},
   "outputs": [],
   "source": [
    "a_mid_decreases_large_market_decreases = 0\n",
    "\n",
    "for company in companies:\n",
    "    large_threshold=len(proxy_a[(proxy_a[f'{company}_Decrease_large_thres'] == 1) & (proxy_a['Market_Return_Decrease'] == 1)])\n",
    "    a_mid_decreases_large_market_decreases +=large_threshold\n",
    "print(a_mid_decreases_large_market_decreases)"
   ]
  },
  {
   "cell_type": "markdown",
   "metadata": {},
   "source": [
    "## Proxy B"
   ]
  },
  {
   "cell_type": "markdown",
   "metadata": {},
   "source": [
    "### Total increases"
   ]
  },
  {
   "cell_type": "code",
   "execution_count": null,
   "metadata": {},
   "outputs": [],
   "source": [
    "b_mid_increases_market_decrease = 0\n",
    "\n",
    "for company in companies:\n",
    "    small_threshold=len(proxy_b[(proxy_b[f'{company}_Increase_3std'] == 1) & (proxy_b['Market_Return_Decrease'] == 1)])\n",
    "    b_mid_increases_market_decrease +=small_threshold\n",
    "    large_threshold=len(proxy_b[(proxy_b[f'{company}_Increase_4std'] == 1) & (proxy_b['Market_Return_Decrease'] == 1)])\n",
    "    b_mid_increases_market_decrease +=large_threshold\n",
    "print(b_mid_increases_market_decrease)"
   ]
  },
  {
   "cell_type": "markdown",
   "metadata": {},
   "source": [
    "#### Small threshold"
   ]
  },
  {
   "cell_type": "code",
   "execution_count": null,
   "metadata": {},
   "outputs": [],
   "source": [
    "b_mid_increases_small_market_decrease = 0\n",
    "\n",
    "for company in companies:\n",
    "    small_threshold=len(proxy_b[(proxy_b[f'{company}_Increase_3std'] == 1) & (proxy_b['Market_Return_Decrease'] == 1)])\n",
    "    b_mid_increases_small_market_decrease +=small_threshold\n",
    "print(b_mid_increases_small_market_decrease)"
   ]
  },
  {
   "cell_type": "markdown",
   "metadata": {},
   "source": [
    "#### Large threshold"
   ]
  },
  {
   "cell_type": "code",
   "execution_count": null,
   "metadata": {},
   "outputs": [],
   "source": [
    "b_mid_increases_large_market_decrease = 0\n",
    "\n",
    "for company in companies:\n",
    "    large_threshold=len(proxy_b[(proxy_b[f'{company}_Increase_4std'] == 1) & (proxy_b['Market_Return_Decrease'] == 1)])\n",
    "    b_mid_increases_large_market_decrease +=large_threshold\n",
    "print(b_mid_increases_large_market_decrease)"
   ]
  },
  {
   "cell_type": "markdown",
   "metadata": {},
   "source": [
    "### Total decreases"
   ]
  },
  {
   "cell_type": "code",
   "execution_count": null,
   "metadata": {},
   "outputs": [],
   "source": [
    "b_mid_decreases_market_decreases = 0\n",
    "\n",
    "for company in companies:\n",
    "    small_threshold=len(proxy_b[(proxy_b[f'{company}_Decrease_3std'] == 1) & (proxy_b['Market_Return_Decrease'] == 1)])\n",
    "    b_mid_decreases_market_decreases  +=small_threshold\n",
    "    large_threshold=len(proxy_b[(proxy_b[f'{company}_Decrease_4std'] == 1) & (proxy_b['Market_Return_Decrease'] == 1)])\n",
    "    b_mid_decreases_market_decreases  +=large_threshold\n",
    "print(b_mid_decreases_market_decreases)"
   ]
  },
  {
   "cell_type": "markdown",
   "metadata": {},
   "source": [
    "#### Small threshold"
   ]
  },
  {
   "cell_type": "code",
   "execution_count": null,
   "metadata": {},
   "outputs": [],
   "source": [
    "b_mid_decreases_small_market_decreases = 0\n",
    "\n",
    "for company in companies:\n",
    "    small_threshold=len(proxy_b[(proxy_b[f'{company}_Decrease_3std'] == 1) & (proxy_b['Market_Return_Decrease'] == 1)])\n",
    "    b_mid_decreases_small_market_decreases +=small_threshold\n",
    "print(b_mid_decreases_small_market_decreases)"
   ]
  },
  {
   "cell_type": "markdown",
   "metadata": {},
   "source": [
    "#### Large threshold"
   ]
  },
  {
   "cell_type": "code",
   "execution_count": null,
   "metadata": {},
   "outputs": [],
   "source": [
    "b_mid_decreases_large_market_decreases = 0\n",
    "\n",
    "for company in companies:\n",
    "    large_threshold=len(proxy_b[(proxy_b[f'{company}_Decrease_4std'] == 1) & (proxy_b['Market_Return_Decrease'] == 1)])\n",
    "    b_mid_decreases_large_market_decreases +=large_threshold\n",
    "print(b_mid_decreases_large_market_decreases)"
   ]
  },
  {
   "cell_type": "markdown",
   "metadata": {},
   "source": [
    "## Proxy C"
   ]
  },
  {
   "cell_type": "markdown",
   "metadata": {},
   "source": [
    "### Total increases"
   ]
  },
  {
   "cell_type": "code",
   "execution_count": null,
   "metadata": {},
   "outputs": [],
   "source": [
    "c_mid_increases_market_decrease = 0\n",
    "\n",
    "for company in companies:\n",
    "    small_threshold=len(proxy_c[(proxy_c[f'{company}_Increase_small_thres'] == 1) & (proxy_c['Market_Return_Decrease'] == 1)])\n",
    "    c_mid_increases_market_decrease +=small_threshold\n",
    "    large_threshold=len(proxy_c[(proxy_c[f'{company}_Increase_large_thres'] == 1) & (proxy_c['Market_Return_Decrease'] == 1)])\n",
    "    c_mid_increases_market_decrease +=large_threshold\n",
    "print(c_mid_increases_market_decrease)"
   ]
  },
  {
   "cell_type": "markdown",
   "metadata": {},
   "source": [
    "#### Small threshold"
   ]
  },
  {
   "cell_type": "code",
   "execution_count": null,
   "metadata": {},
   "outputs": [],
   "source": [
    "c_mid_increases_small_market_decrease = 0\n",
    "\n",
    "for company in companies:\n",
    "    small_threshold=len(proxy_c[(proxy_c[f'{company}_Increase_small_thres'] == 1) & (proxy_c['Market_Return_Decrease'] == 1)])\n",
    "    c_mid_increases_small_market_decrease +=small_threshold\n",
    "print(c_mid_increases_small_market_decrease)"
   ]
  },
  {
   "cell_type": "markdown",
   "metadata": {},
   "source": [
    "#### Large threshold"
   ]
  },
  {
   "cell_type": "code",
   "execution_count": null,
   "metadata": {},
   "outputs": [],
   "source": [
    "c_mid_increases_large_market_decrease = 0\n",
    "\n",
    "for company in companies:\n",
    "    large_threshold=len(proxy_c[(proxy_c[f'{company}_Increase_large_thres'] == 1) & (proxy_c['Market_Return_Decrease'] == 1)])\n",
    "    c_mid_increases_large_market_decrease +=large_threshold\n",
    "print(c_mid_increases_large_market_decrease)"
   ]
  },
  {
   "cell_type": "markdown",
   "metadata": {},
   "source": [
    "### Total decreases"
   ]
  },
  {
   "cell_type": "code",
   "execution_count": null,
   "metadata": {},
   "outputs": [],
   "source": [
    "c_mid_decreases_market_decreases = 0\n",
    "\n",
    "for company in companies:\n",
    "    small_threshold=len(proxy_c[(proxy_c[f'{company}_Decrease_small_thres'] == 1) & (proxy_c['Market_Return_Decrease'] == 1)])\n",
    "    c_mid_decreases_market_decreases  +=small_threshold\n",
    "    large_threshold=len(proxy_c[(proxy_c[f'{company}_Decrease_large_thres'] == 1) & (proxy_c['Market_Return_Decrease'] == 1)])\n",
    "    c_mid_decreases_market_decreases  +=large_threshold\n",
    "print(c_mid_decreases_market_decreases)"
   ]
  },
  {
   "cell_type": "markdown",
   "metadata": {},
   "source": [
    "#### Small threshold"
   ]
  },
  {
   "cell_type": "code",
   "execution_count": null,
   "metadata": {},
   "outputs": [],
   "source": [
    "c_mid_decreases_small_market_decreases = 0\n",
    "\n",
    "for company in companies:\n",
    "    small_threshold=len(proxy_c[(proxy_c[f'{company}_Decrease_small_thres'] == 1) & (proxy_c['Market_Return_Decrease'] == 1)])\n",
    "    c_mid_decreases_small_market_decreases +=small_threshold\n",
    "print(c_mid_decreases_small_market_decreases)"
   ]
  },
  {
   "cell_type": "markdown",
   "metadata": {},
   "source": [
    "#### Large threshold"
   ]
  },
  {
   "cell_type": "code",
   "execution_count": null,
   "metadata": {},
   "outputs": [],
   "source": [
    "c_mid_decreases_large_market_decreases = 0\n",
    "\n",
    "for company in companies:\n",
    "    large_threshold=len(proxy_c[(proxy_c[f'{company}_Decrease_large_thres'] == 1) & (proxy_c['Market_Return_Decrease'] == 1)])\n",
    "    c_mid_decreases_large_market_decreases +=large_threshold\n",
    "print(c_mid_decreases_large_market_decreases)"
   ]
  },
  {
   "cell_type": "markdown",
   "metadata": {},
   "source": [
    "# Market increases - Large-Cap"
   ]
  },
  {
   "cell_type": "code",
   "execution_count": null,
   "metadata": {},
   "outputs": [],
   "source": [
    "companies=large_cap['Security-Symbol'].to_list()"
   ]
  },
  {
   "cell_type": "markdown",
   "metadata": {},
   "source": [
    "## Proxy A"
   ]
  },
  {
   "cell_type": "markdown",
   "metadata": {},
   "source": [
    "### Total increases"
   ]
  },
  {
   "cell_type": "code",
   "execution_count": null,
   "metadata": {},
   "outputs": [],
   "source": [
    "a_large_increases_market_increase = 0\n",
    "\n",
    "for company in companies:\n",
    "    small_threshold=len(proxy_a[(proxy_a[f'{company}_Increase_small_thres'] == 1) & (proxy_a['Market_Return_Increase'] == 1)])\n",
    "    a_large_increases_market_increase +=small_threshold\n",
    "    large_threshold=len(proxy_a[(proxy_a[f'{company}_Increase_large_thres'] == 1) & (proxy_a['Market_Return_Increase'] == 1)])\n",
    "    a_large_increases_market_increase +=large_threshold\n",
    "print(a_large_increases_market_increase)"
   ]
  },
  {
   "cell_type": "markdown",
   "metadata": {},
   "source": [
    "#### Small threshold"
   ]
  },
  {
   "cell_type": "code",
   "execution_count": null,
   "metadata": {},
   "outputs": [],
   "source": [
    "a_large_increases_small_market_increase = 0\n",
    "\n",
    "for company in companies:\n",
    "    small_threshold=len(proxy_a[(proxy_a[f'{company}_Increase_small_thres'] == 1) & (proxy_a['Market_Return_Increase'] == 1)])\n",
    "    a_large_increases_small_market_increase +=small_threshold\n",
    "print(a_large_increases_small_market_increase)"
   ]
  },
  {
   "cell_type": "markdown",
   "metadata": {},
   "source": [
    "#### Large threshold"
   ]
  },
  {
   "cell_type": "code",
   "execution_count": null,
   "metadata": {},
   "outputs": [],
   "source": [
    "a_large_increases_large_market_increase = 0\n",
    "\n",
    "for company in companies:\n",
    "    large_threshold=len(proxy_a[(proxy_a[f'{company}_Increase_large_thres'] == 1) & (proxy_a['Market_Return_Increase'] == 1)])\n",
    "    a_large_increases_large_market_increase +=large_threshold\n",
    "print(a_large_increases_large_market_increase)"
   ]
  },
  {
   "cell_type": "markdown",
   "metadata": {},
   "source": [
    "### Total decreases"
   ]
  },
  {
   "cell_type": "code",
   "execution_count": null,
   "metadata": {},
   "outputs": [],
   "source": [
    "a_large_decreases_market_increases = 0\n",
    "\n",
    "for company in companies:\n",
    "    small_threshold=len(proxy_a[(proxy_a[f'{company}_Decrease_small_thres'] == 1) & (proxy_a['Market_Return_Increase'] == 1)])\n",
    "    a_large_decreases_market_increases  +=small_threshold\n",
    "    large_threshold=len(proxy_a[(proxy_a[f'{company}_Decrease_large_thres'] == 1) & (proxy_a['Market_Return_Increase'] == 1)])\n",
    "    a_large_decreases_market_increases  +=large_threshold\n",
    "print(a_large_decreases_market_increases)"
   ]
  },
  {
   "cell_type": "markdown",
   "metadata": {},
   "source": [
    "#### Small threshold"
   ]
  },
  {
   "cell_type": "code",
   "execution_count": null,
   "metadata": {},
   "outputs": [],
   "source": [
    "a_large_decreases_small_market_increases = 0\n",
    "\n",
    "for company in companies:\n",
    "    small_threshold=len(proxy_a[(proxy_a[f'{company}_Decrease_small_thres'] == 1) & (proxy_a['Market_Return_Increase'] == 1)])\n",
    "    a_large_decreases_small_market_increases +=small_threshold\n",
    "print(a_large_decreases_small_market_increases)"
   ]
  },
  {
   "cell_type": "markdown",
   "metadata": {},
   "source": [
    "#### Large threshold"
   ]
  },
  {
   "cell_type": "code",
   "execution_count": null,
   "metadata": {},
   "outputs": [],
   "source": [
    "a_large_decreases_large_market_increases = 0\n",
    "\n",
    "for company in companies:\n",
    "    large_threshold=len(proxy_a[(proxy_a[f'{company}_Decrease_large_thres'] == 1) & (proxy_a['Market_Return_Increase'] == 1)])\n",
    "    a_large_decreases_large_market_increases +=large_threshold\n",
    "print(a_large_decreases_large_market_increases)"
   ]
  },
  {
   "cell_type": "markdown",
   "metadata": {},
   "source": [
    "## Proxy B"
   ]
  },
  {
   "cell_type": "markdown",
   "metadata": {},
   "source": [
    "### Total increases"
   ]
  },
  {
   "cell_type": "code",
   "execution_count": null,
   "metadata": {},
   "outputs": [],
   "source": [
    "b_large_increases_market_increase = 0\n",
    "\n",
    "for company in companies:\n",
    "    small_threshold=len(proxy_b[(proxy_b[f'{company}_Increase_3std'] == 1) & (proxy_b['Market_Return_Increase'] == 1)])\n",
    "    b_large_increases_market_increase +=small_threshold\n",
    "    large_threshold=len(proxy_b[(proxy_b[f'{company}_Increase_4std'] == 1) & (proxy_b['Market_Return_Increase'] == 1)])\n",
    "    b_large_increases_market_increase +=large_threshold\n",
    "print(b_large_increases_market_increase)"
   ]
  },
  {
   "cell_type": "markdown",
   "metadata": {},
   "source": [
    "#### Small threshold"
   ]
  },
  {
   "cell_type": "code",
   "execution_count": null,
   "metadata": {},
   "outputs": [],
   "source": [
    "b_large_increases_small_market_increase = 0\n",
    "\n",
    "for company in companies:\n",
    "    small_threshold=len(proxy_b[(proxy_b[f'{company}_Increase_3std'] == 1) & (proxy_b['Market_Return_Increase'] == 1)])\n",
    "    b_large_increases_small_market_increase +=small_threshold\n",
    "print(b_large_increases_small_market_increase)"
   ]
  },
  {
   "cell_type": "markdown",
   "metadata": {},
   "source": [
    "#### Large threshold"
   ]
  },
  {
   "cell_type": "code",
   "execution_count": null,
   "metadata": {},
   "outputs": [],
   "source": [
    "b_large_increases_large_market_increase = 0\n",
    "\n",
    "for company in companies:\n",
    "    large_threshold=len(proxy_b[(proxy_b[f'{company}_Increase_4std'] == 1) & (proxy_b['Market_Return_Increase'] == 1)])\n",
    "    b_large_increases_large_market_increase +=large_threshold\n",
    "print(b_large_increases_large_market_increase)"
   ]
  },
  {
   "cell_type": "markdown",
   "metadata": {},
   "source": [
    "### Total decreases"
   ]
  },
  {
   "cell_type": "code",
   "execution_count": null,
   "metadata": {},
   "outputs": [],
   "source": [
    "b_large_decreases_market_increases = 0\n",
    "\n",
    "for company in companies:\n",
    "    small_threshold=len(proxy_b[(proxy_b[f'{company}_Decrease_3std'] == 1) & (proxy_b['Market_Return_Increase'] == 1)])\n",
    "    b_large_decreases_market_increases  +=small_threshold\n",
    "    large_threshold=len(proxy_b[(proxy_b[f'{company}_Decrease_4std'] == 1) & (proxy_b['Market_Return_Increase'] == 1)])\n",
    "    b_large_decreases_market_increases  +=large_threshold\n",
    "print(b_large_decreases_market_increases)"
   ]
  },
  {
   "cell_type": "markdown",
   "metadata": {},
   "source": [
    "#### Small threshold"
   ]
  },
  {
   "cell_type": "code",
   "execution_count": null,
   "metadata": {},
   "outputs": [],
   "source": [
    "b_large_decreases_small_market_increases = 0\n",
    "\n",
    "for company in companies:\n",
    "    small_threshold=len(proxy_b[(proxy_b[f'{company}_Decrease_3std'] == 1) & (proxy_b['Market_Return_Increase'] == 1)])\n",
    "    b_large_decreases_small_market_increases +=small_threshold\n",
    "print(b_large_decreases_small_market_increases)"
   ]
  },
  {
   "cell_type": "markdown",
   "metadata": {},
   "source": [
    "#### Large threshold"
   ]
  },
  {
   "cell_type": "code",
   "execution_count": null,
   "metadata": {},
   "outputs": [],
   "source": [
    "b_large_decreases_large_market_increases = 0\n",
    "\n",
    "for company in companies:\n",
    "    large_threshold=len(proxy_b[(proxy_b[f'{company}_Decrease_4std'] == 1) & (proxy_b['Market_Return_Increase'] == 1)])\n",
    "    b_large_decreases_large_market_increases +=large_threshold\n",
    "print(b_large_decreases_large_market_increases)"
   ]
  },
  {
   "cell_type": "markdown",
   "metadata": {},
   "source": [
    "## Proxy C"
   ]
  },
  {
   "cell_type": "markdown",
   "metadata": {},
   "source": [
    "### Total increases"
   ]
  },
  {
   "cell_type": "code",
   "execution_count": null,
   "metadata": {},
   "outputs": [],
   "source": [
    "c_large_increases_market_increase = 0\n",
    "\n",
    "for company in companies:\n",
    "    small_threshold=len(proxy_c[(proxy_c[f'{company}_Increase_small_thres'] == 1) & (proxy_c['Market_Return_Increase'] == 1)])\n",
    "    c_large_increases_market_increase +=small_threshold\n",
    "    large_threshold=len(proxy_c[(proxy_c[f'{company}_Increase_large_thres'] == 1) & (proxy_c['Market_Return_Increase'] == 1)])\n",
    "    c_large_increases_market_increase +=large_threshold\n",
    "print(c_large_increases_market_increase)"
   ]
  },
  {
   "cell_type": "markdown",
   "metadata": {},
   "source": [
    "#### Small threshold"
   ]
  },
  {
   "cell_type": "code",
   "execution_count": null,
   "metadata": {},
   "outputs": [],
   "source": [
    "c_large_increases_small_market_increase = 0\n",
    "\n",
    "for company in companies:\n",
    "    small_threshold=len(proxy_c[(proxy_c[f'{company}_Increase_small_thres'] == 1) & (proxy_c['Market_Return_Increase'] == 1)])\n",
    "    c_large_increases_small_market_increase +=small_threshold\n",
    "print(c_large_increases_small_market_increase)"
   ]
  },
  {
   "cell_type": "markdown",
   "metadata": {},
   "source": [
    "#### Large threshold"
   ]
  },
  {
   "cell_type": "code",
   "execution_count": null,
   "metadata": {},
   "outputs": [],
   "source": [
    "c_large_increases_large_market_increase = 0\n",
    "\n",
    "for company in companies:\n",
    "    large_threshold=len(proxy_c[(proxy_c[f'{company}_Increase_large_thres'] == 1) & (proxy_c['Market_Return_Increase'] == 1)])\n",
    "    c_large_increases_large_market_increase +=large_threshold\n",
    "print(c_large_increases_large_market_increase)"
   ]
  },
  {
   "cell_type": "markdown",
   "metadata": {},
   "source": [
    "### Total decreases"
   ]
  },
  {
   "cell_type": "code",
   "execution_count": null,
   "metadata": {},
   "outputs": [],
   "source": [
    "c_large_decreases_market_increases = 0\n",
    "\n",
    "for company in companies:\n",
    "    small_threshold=len(proxy_c[(proxy_c[f'{company}_Decrease_small_thres'] == 1) & (proxy_c['Market_Return_Increase'] == 1)])\n",
    "    c_large_decreases_market_increases  +=small_threshold\n",
    "    large_threshold=len(proxy_c[(proxy_c[f'{company}_Decrease_large_thres'] == 1) & (proxy_c['Market_Return_Increase'] == 1)])\n",
    "    c_large_decreases_market_increases  +=large_threshold\n",
    "print(c_large_decreases_market_increases)"
   ]
  },
  {
   "cell_type": "markdown",
   "metadata": {},
   "source": [
    "#### Small threshold"
   ]
  },
  {
   "cell_type": "code",
   "execution_count": null,
   "metadata": {},
   "outputs": [],
   "source": [
    "c_large_decreases_small_market_increases = 0\n",
    "\n",
    "for company in companies:\n",
    "    small_threshold=len(proxy_c[(proxy_c[f'{company}_Decrease_small_thres'] == 1) & (proxy_c['Market_Return_Increase'] == 1)])\n",
    "    c_large_decreases_small_market_increases +=small_threshold\n",
    "print(c_large_decreases_small_market_increases)"
   ]
  },
  {
   "cell_type": "markdown",
   "metadata": {},
   "source": [
    "#### Large threshold"
   ]
  },
  {
   "cell_type": "code",
   "execution_count": null,
   "metadata": {},
   "outputs": [],
   "source": [
    "c_mid_decreases_large_market_increases = 0\n",
    "\n",
    "for company in companies:\n",
    "    large_threshold=len(proxy_c[(proxy_c[f'{company}_Decrease_large_thres'] == 1) & (proxy_c['Market_Return_Increase'] == 1)])\n",
    "    c_mid_decreases_large_market_increases +=large_threshold\n",
    "print(c_mid_decreases_large_market_increases)"
   ]
  },
  {
   "cell_type": "markdown",
   "metadata": {},
   "source": [
    "# Market decreases - Large-Cap"
   ]
  },
  {
   "cell_type": "markdown",
   "metadata": {},
   "source": [
    "## Proxy A"
   ]
  },
  {
   "cell_type": "markdown",
   "metadata": {},
   "source": [
    "### Total increases"
   ]
  },
  {
   "cell_type": "code",
   "execution_count": null,
   "metadata": {},
   "outputs": [],
   "source": [
    "a_large_increases_market_decrease = 0\n",
    "\n",
    "for company in companies:\n",
    "    small_threshold=len(proxy_a[(proxy_a[f'{company}_Increase_small_thres'] == 1) & (proxy_a['Market_Return_Decrease'] == 1)])\n",
    "    a_large_increases_market_decrease +=small_threshold\n",
    "    large_threshold=len(proxy_a[(proxy_a[f'{company}_Increase_large_thres'] == 1) & (proxy_a['Market_Return_Decrease'] == 1)])\n",
    "    a_large_increases_market_decrease +=large_threshold\n",
    "print(a_large_increases_market_decrease)"
   ]
  },
  {
   "cell_type": "markdown",
   "metadata": {},
   "source": [
    "#### Small threshold"
   ]
  },
  {
   "cell_type": "code",
   "execution_count": null,
   "metadata": {},
   "outputs": [],
   "source": [
    "a_large_increases_small_market_decrease = 0\n",
    "\n",
    "for company in companies:\n",
    "    small_threshold=len(proxy_a[(proxy_a[f'{company}_Increase_small_thres'] == 1) & (proxy_a['Market_Return_Decrease'] == 1)])\n",
    "    a_large_increases_small_market_decrease +=small_threshold\n",
    "print(a_large_increases_small_market_decrease)"
   ]
  },
  {
   "cell_type": "markdown",
   "metadata": {},
   "source": [
    "#### Large threshold"
   ]
  },
  {
   "cell_type": "code",
   "execution_count": null,
   "metadata": {},
   "outputs": [],
   "source": [
    "a_large_increases_large_market_decrease = 0\n",
    "\n",
    "for company in companies:\n",
    "    large_threshold=len(proxy_a[(proxy_a[f'{company}_Increase_large_thres'] == 1) & (proxy_a['Market_Return_Decrease'] == 1)])\n",
    "    a_large_increases_large_market_decrease +=large_threshold\n",
    "print(a_large_increases_large_market_decrease)"
   ]
  },
  {
   "cell_type": "markdown",
   "metadata": {},
   "source": [
    "### Total decreases"
   ]
  },
  {
   "cell_type": "code",
   "execution_count": null,
   "metadata": {},
   "outputs": [],
   "source": [
    "a_large_decreases_market_decreases = 0\n",
    "\n",
    "for company in companies:\n",
    "    small_threshold=len(proxy_a[(proxy_a[f'{company}_Decrease_small_thres'] == 1) & (proxy_a['Market_Return_Decrease'] == 1)])\n",
    "    a_large_decreases_market_decreases  +=small_threshold\n",
    "    large_threshold=len(proxy_a[(proxy_a[f'{company}_Decrease_large_thres'] == 1) & (proxy_a['Market_Return_Decrease'] == 1)])\n",
    "    a_large_decreases_market_decreases  +=large_threshold\n",
    "print(a_large_decreases_market_decreases)"
   ]
  },
  {
   "cell_type": "markdown",
   "metadata": {},
   "source": [
    "#### Small threshold"
   ]
  },
  {
   "cell_type": "code",
   "execution_count": null,
   "metadata": {},
   "outputs": [],
   "source": [
    "a_large_decreases_small_market_decreases = 0\n",
    "\n",
    "for company in companies:\n",
    "    small_threshold=len(proxy_a[(proxy_a[f'{company}_Decrease_small_thres'] == 1) & (proxy_a['Market_Return_Decrease'] == 1)])\n",
    "    a_large_decreases_small_market_decreases +=small_threshold\n",
    "print(a_large_decreases_small_market_decreases)"
   ]
  },
  {
   "cell_type": "markdown",
   "metadata": {},
   "source": [
    "#### Large threshold"
   ]
  },
  {
   "cell_type": "code",
   "execution_count": null,
   "metadata": {},
   "outputs": [],
   "source": [
    "a_large_decreases_large_market_decreases = 0\n",
    "\n",
    "for company in companies:\n",
    "    large_threshold=len(proxy_a[(proxy_a[f'{company}_Decrease_large_thres'] == 1) & (proxy_a['Market_Return_Decrease'] == 1)])\n",
    "    a_large_decreases_large_market_decreases +=large_threshold\n",
    "print(a_large_decreases_large_market_decreases)"
   ]
  },
  {
   "cell_type": "markdown",
   "metadata": {},
   "source": [
    "## Proxy B"
   ]
  },
  {
   "cell_type": "markdown",
   "metadata": {},
   "source": [
    "### Total increases"
   ]
  },
  {
   "cell_type": "code",
   "execution_count": null,
   "metadata": {},
   "outputs": [],
   "source": [
    "b_large_increases_market_decrease = 0\n",
    "\n",
    "for company in companies:\n",
    "    small_threshold=len(proxy_b[(proxy_b[f'{company}_Increase_3std'] == 1) & (proxy_b['Market_Return_Decrease'] == 1)])\n",
    "    b_large_increases_market_decrease +=small_threshold\n",
    "    large_threshold=len(proxy_b[(proxy_b[f'{company}_Increase_4std'] == 1) & (proxy_b['Market_Return_Decrease'] == 1)])\n",
    "    b_large_increases_market_decrease +=large_threshold\n",
    "print(b_large_increases_market_decrease)"
   ]
  },
  {
   "cell_type": "markdown",
   "metadata": {},
   "source": [
    "#### Small threshold"
   ]
  },
  {
   "cell_type": "code",
   "execution_count": null,
   "metadata": {},
   "outputs": [],
   "source": [
    "b_large_increases_small_market_decrease = 0\n",
    "\n",
    "for company in companies:\n",
    "    small_threshold=len(proxy_b[(proxy_b[f'{company}_Increase_3std'] == 1) & (proxy_b['Market_Return_Decrease'] == 1)])\n",
    "    b_large_increases_small_market_decrease +=small_threshold\n",
    "print(b_large_increases_small_market_decrease)"
   ]
  },
  {
   "cell_type": "markdown",
   "metadata": {},
   "source": [
    "#### Large threshold"
   ]
  },
  {
   "cell_type": "code",
   "execution_count": null,
   "metadata": {},
   "outputs": [],
   "source": [
    "b_large_increases_large_market_decrease = 0\n",
    "\n",
    "for company in companies:\n",
    "    large_threshold=len(proxy_b[(proxy_b[f'{company}_Increase_4std'] == 1) & (proxy_b['Market_Return_Decrease'] == 1)])\n",
    "    b_large_increases_large_market_decrease +=large_threshold\n",
    "print(b_large_increases_large_market_decrease)"
   ]
  },
  {
   "cell_type": "markdown",
   "metadata": {},
   "source": [
    "### Total decreases"
   ]
  },
  {
   "cell_type": "code",
   "execution_count": null,
   "metadata": {},
   "outputs": [],
   "source": [
    "b_large_decreases_market_decreases = 0\n",
    "\n",
    "for company in companies:\n",
    "    small_threshold=len(proxy_b[(proxy_b[f'{company}_Decrease_3std'] == 1) & (proxy_b['Market_Return_Decrease'] == 1)])\n",
    "    b_large_decreases_market_decreases  +=small_threshold\n",
    "    large_threshold=len(proxy_b[(proxy_b[f'{company}_Decrease_4std'] == 1) & (proxy_b['Market_Return_Decrease'] == 1)])\n",
    "    b_large_decreases_market_decreases  +=large_threshold\n",
    "print(b_large_decreases_market_decreases)"
   ]
  },
  {
   "cell_type": "markdown",
   "metadata": {},
   "source": [
    "#### Small threshold"
   ]
  },
  {
   "cell_type": "code",
   "execution_count": null,
   "metadata": {},
   "outputs": [],
   "source": [
    "b_large_decreases_small_market_decreases = 0\n",
    "\n",
    "for company in companies:\n",
    "    small_threshold=len(proxy_b[(proxy_b[f'{company}_Decrease_3std'] == 1) & (proxy_b['Market_Return_Decrease'] == 1)])\n",
    "    b_large_decreases_small_market_decreases +=small_threshold\n",
    "print(b_large_decreases_small_market_decreases)"
   ]
  },
  {
   "cell_type": "markdown",
   "metadata": {},
   "source": [
    "#### Large threshold"
   ]
  },
  {
   "cell_type": "code",
   "execution_count": null,
   "metadata": {},
   "outputs": [],
   "source": [
    "b_large_decreases_large_market_decreases = 0\n",
    "\n",
    "for company in companies:\n",
    "    large_threshold=len(proxy_b[(proxy_b[f'{company}_Decrease_4std'] == 1) & (proxy_b['Market_Return_Decrease'] == 1)])\n",
    "    b_large_decreases_large_market_decreases +=large_threshold\n",
    "print(b_large_decreases_large_market_decreases)"
   ]
  },
  {
   "cell_type": "markdown",
   "metadata": {},
   "source": [
    "## Proxy C"
   ]
  },
  {
   "cell_type": "markdown",
   "metadata": {},
   "source": [
    "### Total increases"
   ]
  },
  {
   "cell_type": "code",
   "execution_count": null,
   "metadata": {},
   "outputs": [],
   "source": [
    "c_large_increases_market_decrease = 0\n",
    "\n",
    "for company in companies:\n",
    "    small_threshold=len(proxy_c[(proxy_c[f'{company}_Increase_small_thres'] == 1) & (proxy_c['Market_Return_Decrease'] == 1)])\n",
    "    c_large_increases_market_decrease +=small_threshold\n",
    "    large_threshold=len(proxy_c[(proxy_c[f'{company}_Increase_large_thres'] == 1) & (proxy_c['Market_Return_Decrease'] == 1)])\n",
    "    c_large_increases_market_decrease +=large_threshold\n",
    "print(c_large_increases_market_decrease)"
   ]
  },
  {
   "cell_type": "markdown",
   "metadata": {},
   "source": [
    "#### Small threshold"
   ]
  },
  {
   "cell_type": "code",
   "execution_count": null,
   "metadata": {},
   "outputs": [],
   "source": [
    "c_large_increases_small_market_decrease = 0\n",
    "\n",
    "for company in companies:\n",
    "    small_threshold=len(proxy_c[(proxy_c[f'{company}_Increase_small_thres'] == 1) & (proxy_c['Market_Return_Decrease'] == 1)])\n",
    "    c_large_increases_small_market_decrease +=small_threshold\n",
    "print(c_large_increases_small_market_decrease)"
   ]
  },
  {
   "cell_type": "markdown",
   "metadata": {},
   "source": [
    "#### Large threshold"
   ]
  },
  {
   "cell_type": "code",
   "execution_count": null,
   "metadata": {},
   "outputs": [],
   "source": [
    "c_large_increases_large_market_decrease = 0\n",
    "\n",
    "for company in companies:\n",
    "    large_threshold=len(proxy_c[(proxy_c[f'{company}_Increase_large_thres'] == 1) & (proxy_c['Market_Return_Decrease'] == 1)])\n",
    "    c_large_increases_large_market_decrease +=large_threshold\n",
    "print(c_large_increases_large_market_decrease)"
   ]
  },
  {
   "cell_type": "markdown",
   "metadata": {},
   "source": [
    "### Total decreases"
   ]
  },
  {
   "cell_type": "code",
   "execution_count": null,
   "metadata": {},
   "outputs": [],
   "source": [
    "c_large_decreases_market_decreases = 0\n",
    "\n",
    "for company in companies:\n",
    "    small_threshold=len(proxy_c[(proxy_c[f'{company}_Decrease_small_thres'] == 1) & (proxy_c['Market_Return_Decrease'] == 1)])\n",
    "    c_large_decreases_market_decreases  +=small_threshold\n",
    "    large_threshold=len(proxy_c[(proxy_c[f'{company}_Decrease_large_thres'] == 1) & (proxy_c['Market_Return_Decrease'] == 1)])\n",
    "    c_large_decreases_market_decreases  +=large_threshold\n",
    "print(c_large_decreases_market_decreases)"
   ]
  },
  {
   "cell_type": "markdown",
   "metadata": {},
   "source": [
    "#### Small threshold"
   ]
  },
  {
   "cell_type": "code",
   "execution_count": null,
   "metadata": {},
   "outputs": [],
   "source": [
    "c_large_decreases_small_market_decreases = 0\n",
    "\n",
    "for company in companies:\n",
    "    small_threshold=len(proxy_c[(proxy_c[f'{company}_Decrease_small_thres'] == 1) & (proxy_c['Market_Return_Decrease'] == 1)])\n",
    "    c_large_decreases_small_market_decreases +=small_threshold\n",
    "print(c_large_decreases_small_market_decreases)"
   ]
  },
  {
   "cell_type": "markdown",
   "metadata": {},
   "source": [
    "#### Large threshold"
   ]
  },
  {
   "cell_type": "code",
   "execution_count": null,
   "metadata": {},
   "outputs": [],
   "source": [
    "c_large_decreases_large_market_decreases = 0\n",
    "\n",
    "for company in companies:\n",
    "    large_threshold=len(proxy_c[(proxy_c[f'{company}_Decrease_large_thres'] == 1) & (proxy_c['Market_Return_Decrease'] == 1)])\n",
    "    c_large_decreases_large_market_decreases +=large_threshold\n",
    "print(c_large_decreases_large_market_decreases)"
   ]
  }
 ],
 "metadata": {
  "kernelspec": {
   "display_name": "empirical",
   "language": "python",
   "name": "python3"
  },
  "language_info": {
   "codemirror_mode": {
    "name": "ipython",
    "version": 3
   },
   "file_extension": ".py",
   "mimetype": "text/x-python",
   "name": "python",
   "nbconvert_exporter": "python",
   "pygments_lexer": "ipython3",
   "version": "3.10.6"
  }
 },
 "nbformat": 4,
 "nbformat_minor": 2
}
