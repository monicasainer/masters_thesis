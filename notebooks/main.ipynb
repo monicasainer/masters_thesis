{
 "cells": [
  {
   "cell_type": "code",
   "execution_count": 1,
   "metadata": {},
   "outputs": [],
   "source": [
    "import os\n",
    "import sys\n",
    "import yfinance as yf\n",
    "import pandas as pd\n",
    "import numpy as np\n",
    "import matplotlib.pyplot as plt\n",
    "import plotly.express as px\n",
    "import warnings\n"
   ]
  },
  {
   "cell_type": "code",
   "execution_count": 2,
   "metadata": {},
   "outputs": [
    {
     "name": "stdout",
     "output_type": "stream",
     "text": [
      "/Users/monic/Desktop/Master_Thesis/empirical\n"
     ]
    }
   ],
   "source": [
    "warnings.filterwarnings('ignore')\n",
    "path = os.getenv(\"ROOT_PATH\")\n",
    "sys.path.append(path)\n",
    "print(path)\n"
   ]
  },
  {
   "cell_type": "markdown",
   "metadata": {},
   "source": [
    "The list of **all the current components** of the OMX Stockholm PI index can be found [here](https://indexes.nasdaqomx.com/Index/Weighting/OMXSPI) by the end of the day of 16th February 2024.\n",
    "\n",
    "The list of **large-caps** of the OMX Stockholm PI index can be found [here](https://indexes.nasdaqomx.com/Index/Weighting/OMXSLCPI) by the end of the day of 16th February 2024.\n",
    "\n",
    "The list of **mid-caps** of the OMX Stockholm PI index can be found [here](https://indexes.nasdaqomx.com/Index/Weighting/OMXSMCPI) by the end of the day of 16th February 2024.\n",
    "\n",
    "The list of **small-caps** of the OMS Stockholm PI index can be found [here](https://indexes.nasdaqomx.com/Index/Weighting/OMXSSCPI) by the end of the day of 16th February 2024.\n"
   ]
  },
  {
   "cell_type": "markdown",
   "metadata": {},
   "source": [
    "In the following steps we're charging the name of all the components and turn them into a list.\n",
    "\n",
    "The latter will be used to fetch the data - adjusted closed price and volume - from Yahoo Finance. And save accordingly in a file called `raw_data.csv`"
   ]
  },
  {
   "cell_type": "code",
   "execution_count": null,
   "metadata": {},
   "outputs": [],
   "source": [
    "tickers= pd.read_excel(f\"{path}/raw_data/main/Weightings_20240216_OMXSPI.xlsx\",header=0)\n",
    "# If error shows up run: !pip3 install xlrd\n"
   ]
  },
  {
   "cell_type": "code",
   "execution_count": null,
   "metadata": {},
   "outputs": [
    {
     "data": {
      "text/html": [
       "<div>\n",
       "<style scoped>\n",
       "    .dataframe tbody tr th:only-of-type {\n",
       "        vertical-align: middle;\n",
       "    }\n",
       "\n",
       "    .dataframe tbody tr th {\n",
       "        vertical-align: top;\n",
       "    }\n",
       "\n",
       "    .dataframe thead th {\n",
       "        text-align: right;\n",
       "    }\n",
       "</style>\n",
       "<table border=\"1\" class=\"dataframe\">\n",
       "  <thead>\n",
       "    <tr style=\"text-align: right;\">\n",
       "      <th></th>\n",
       "      <th>Company Name</th>\n",
       "      <th>Security-Symbol</th>\n",
       "    </tr>\n",
       "  </thead>\n",
       "  <tbody>\n",
       "    <tr>\n",
       "      <th>0</th>\n",
       "      <td>TRATON SE</td>\n",
       "      <td>8TRA.ST</td>\n",
       "    </tr>\n",
       "    <tr>\n",
       "      <th>1</th>\n",
       "      <td>AAK AB</td>\n",
       "      <td>AAK.ST</td>\n",
       "    </tr>\n",
       "    <tr>\n",
       "      <th>2</th>\n",
       "      <td>ABB Ltd</td>\n",
       "      <td>ABB.ST</td>\n",
       "    </tr>\n",
       "    <tr>\n",
       "      <th>3</th>\n",
       "      <td>Abliva AB</td>\n",
       "      <td>ABLI.ST</td>\n",
       "    </tr>\n",
       "    <tr>\n",
       "      <th>4</th>\n",
       "      <td>AcadeMedia AB</td>\n",
       "      <td>ACAD.ST</td>\n",
       "    </tr>\n",
       "  </tbody>\n",
       "</table>\n",
       "</div>"
      ],
      "text/plain": [
       "    Company Name Security-Symbol\n",
       "0      TRATON SE         8TRA.ST\n",
       "1         AAK AB          AAK.ST\n",
       "2        ABB Ltd          ABB.ST\n",
       "3      Abliva AB         ABLI.ST\n",
       "4  AcadeMedia AB         ACAD.ST"
      ]
     },
     "metadata": {},
     "output_type": "display_data"
    }
   ],
   "source": [
    "tickers.head()\n"
   ]
  },
  {
   "cell_type": "code",
   "execution_count": null,
   "metadata": {},
   "outputs": [],
   "source": [
    "tickers_list=tickers['Security-Symbol'].to_list()\n"
   ]
  },
  {
   "cell_type": "code",
   "execution_count": null,
   "metadata": {},
   "outputs": [
    {
     "name": "stderr",
     "output_type": "stream",
     "text": [
      "[*********************100%%**********************]  393 of 393 completed\n"
     ]
    }
   ],
   "source": [
    "data = yf.download(tickers_list, start=\"2014-03-06\")\n"
   ]
  },
  {
   "cell_type": "code",
   "execution_count": null,
   "metadata": {},
   "outputs": [],
   "source": [
    "data.head()\n"
   ]
  },
  {
   "cell_type": "code",
   "execution_count": null,
   "metadata": {},
   "outputs": [],
   "source": [
    "data.to_csv(f\"{path}/raw_data/raw_data.csv\")\n"
   ]
  },
  {
   "cell_type": "markdown",
   "metadata": {},
   "source": [
    "During the following cells we are going to create different lists with the names of the companies considered large-caps, mid-caps, and small caps."
   ]
  },
  {
   "cell_type": "code",
   "execution_count": 5,
   "metadata": {},
   "outputs": [],
   "source": [
    "l_caps=pd.read_excel(f\"{path}/raw_data/main/large_caps.xlsx\")\n",
    "l_caps_list=l_caps['Security-Symbol'].to_list()\n"
   ]
  },
  {
   "cell_type": "code",
   "execution_count": 6,
   "metadata": {},
   "outputs": [],
   "source": [
    "m_caps=pd.read_excel(f\"{path}/raw_data/main/mid_caps.xlsx\")\n",
    "m_caps_list=m_caps['Security-Symbol'].to_list()\n"
   ]
  },
  {
   "cell_type": "code",
   "execution_count": 7,
   "metadata": {},
   "outputs": [],
   "source": [
    "s_caps=pd.read_excel(f\"{path}/raw_data/main/small_caps.xlsx\")\n",
    "s_caps_list=s_caps['Security-Symbol'].to_list()\n"
   ]
  },
  {
   "cell_type": "code",
   "execution_count": 1,
   "metadata": {},
   "outputs": [
    {
     "ename": "NameError",
     "evalue": "name 'df_price' is not defined",
     "output_type": "error",
     "traceback": [
      "\u001b[0;31m---------------------------------------------------------------------------\u001b[0m",
      "\u001b[0;31mNameError\u001b[0m                                 Traceback (most recent call last)",
      "\u001b[1;32m/Users/monic/Desktop/Master_Thesis/empirical/notebooks/main.ipynb Cell 17\u001b[0m line \u001b[0;36m1\n\u001b[0;32m----> <a href='vscode-notebook-cell:/Users/monic/Desktop/Master_Thesis/empirical/notebooks/main.ipynb#X16sZmlsZQ%3D%3D?line=0'>1</a>\u001b[0m \u001b[39mlen\u001b[39m(df_price\u001b[39m.\u001b[39mcolumns[\u001b[39m1\u001b[39m:\u001b[39m-\u001b[39m\u001b[39m1\u001b[39m])\n",
      "\u001b[0;31mNameError\u001b[0m: name 'df_price' is not defined"
     ]
    }
   ],
   "source": [
    "len(tickers_list)\n"
   ]
  },
  {
   "cell_type": "markdown",
   "metadata": {},
   "source": [
    "There is one company that we cannot classify as large, mid or small-cap. \n",
    "\n",
    "It'll be pointed out in the following steps."
   ]
  },
  {
   "cell_type": "markdown",
   "metadata": {},
   "source": [
    "## Cleaning data"
   ]
  },
  {
   "cell_type": "markdown",
   "metadata": {},
   "source": [
    "After downloading the data in the file `raw_data.csv` you must open it in Microsoft Excel.\n",
    "In the **first row** we can find the number of the metric fetched.\n",
    "In the **second row** we can find the names of the different companies.\n",
    "In the **first column** we can find the dates we have exported.\n",
    "\n",
    "To clean up the dataset, delete those columns where the first row differs from `adjClose` and `volume`.\n",
    "As soon as this is done, cut those columns where the first row is `volume` and paste them in a new spreadsheet (not tab). \n",
    "Remove the first row as it doesn't add useful information at the moment. Call `volumes` to this new spreadsheet and save it as a .csv file.\n",
    "\n",
    "Come back to the initial spreadsheet called `raw_data.csv`. \n",
    "Since we only have `adjClose` prices, remove the first row.\n",
    "Rename the spreadsheet as `price` and save it as a .csv file\n",
    "\n"
   ]
  },
  {
   "cell_type": "code",
   "execution_count": 3,
   "metadata": {},
   "outputs": [],
   "source": [
    "df_price = pd.read_excel(f'{path}/raw_data/main/price.xlsx')\n"
   ]
  },
  {
   "cell_type": "code",
   "execution_count": 4,
   "metadata": {},
   "outputs": [
    {
     "name": "stdout",
     "output_type": "stream",
     "text": [
      "Number of companies in the sample: 393\n"
     ]
    }
   ],
   "source": [
    "print(f\"Number of companies in the sample: {df_price.shape[1]-2}\") # Excluding the 'Date' and '^OMXSPI' columns.\n"
   ]
  },
  {
   "cell_type": "code",
   "execution_count": 9,
   "metadata": {},
   "outputs": [],
   "source": [
    "null_percentage_dict={'Company':[],'Null_percentage':[],'Type':[]}\n",
    "\n",
    "for column in df_price.columns[1:-1]:\n",
    "    company_name=column\n",
    "    null_percentage = df_price[company_name].isnull().mean()*100\n",
    "    null_percentage_dict['Company'].append(company_name)\n",
    "    null_percentage_dict['Null_percentage'].append(null_percentage)\n",
    "    if company_name in l_caps_list:\n",
    "        null_percentage_dict['Type'].append(\"l-cap\")\n",
    "    elif company_name in m_caps_list:\n",
    "        null_percentage_dict['Type'].append(\"m-cap\")\n",
    "    elif company_name in s_caps_list:\n",
    "        null_percentage_dict['Type'].append(\"s-cap\")\n",
    "    else: null_percentage_dict['Type'].append(\"non-registered\")\n",
    "\n",
    "df_null_percentage=pd.DataFrame.from_dict(null_percentage_dict)\n"
   ]
  },
  {
   "cell_type": "code",
   "execution_count": 10,
   "metadata": {},
   "outputs": [
    {
     "data": {
      "text/html": [
       "<div>\n",
       "<style scoped>\n",
       "    .dataframe tbody tr th:only-of-type {\n",
       "        vertical-align: middle;\n",
       "    }\n",
       "\n",
       "    .dataframe tbody tr th {\n",
       "        vertical-align: top;\n",
       "    }\n",
       "\n",
       "    .dataframe thead th {\n",
       "        text-align: right;\n",
       "    }\n",
       "</style>\n",
       "<table border=\"1\" class=\"dataframe\">\n",
       "  <thead>\n",
       "    <tr style=\"text-align: right;\">\n",
       "      <th></th>\n",
       "      <th>Company</th>\n",
       "      <th>Null_percentage</th>\n",
       "      <th>Type</th>\n",
       "    </tr>\n",
       "  </thead>\n",
       "  <tbody>\n",
       "    <tr>\n",
       "      <th>249</th>\n",
       "      <td>NOKIA-SEK.ST</td>\n",
       "      <td>0.0</td>\n",
       "      <td>non-registered</td>\n",
       "    </tr>\n",
       "  </tbody>\n",
       "</table>\n",
       "</div>"
      ],
      "text/plain": [
       "          Company  Null_percentage            Type\n",
       "249  NOKIA-SEK.ST              0.0  non-registered"
      ]
     },
     "execution_count": 10,
     "metadata": {},
     "output_type": "execute_result"
    }
   ],
   "source": [
    "df_null_percentage[df_null_percentage['Type']==\"non-registered\"]\n"
   ]
  },
  {
   "cell_type": "code",
   "execution_count": 11,
   "metadata": {},
   "outputs": [
    {
     "data": {
      "text/html": [
       "<div>\n",
       "<style scoped>\n",
       "    .dataframe tbody tr th:only-of-type {\n",
       "        vertical-align: middle;\n",
       "    }\n",
       "\n",
       "    .dataframe tbody tr th {\n",
       "        vertical-align: top;\n",
       "    }\n",
       "\n",
       "    .dataframe thead th {\n",
       "        text-align: right;\n",
       "    }\n",
       "</style>\n",
       "<table border=\"1\" class=\"dataframe\">\n",
       "  <thead>\n",
       "    <tr style=\"text-align: right;\">\n",
       "      <th></th>\n",
       "      <th>Company</th>\n",
       "      <th>Null_percentage</th>\n",
       "      <th>Type</th>\n",
       "    </tr>\n",
       "  </thead>\n",
       "  <tbody>\n",
       "    <tr>\n",
       "      <th>152</th>\n",
       "      <td>HAKI-B.ST</td>\n",
       "      <td>98.282748</td>\n",
       "      <td>s-cap</td>\n",
       "    </tr>\n",
       "    <tr>\n",
       "      <th>294</th>\n",
       "      <td>RUSTA.ST</td>\n",
       "      <td>96.725240</td>\n",
       "      <td>m-cap</td>\n",
       "    </tr>\n",
       "    <tr>\n",
       "      <th>301</th>\n",
       "      <td>SAMPO-SDB.ST</td>\n",
       "      <td>87.500000</td>\n",
       "      <td>l-cap</td>\n",
       "    </tr>\n",
       "    <tr>\n",
       "      <th>15</th>\n",
       "      <td>ALLEI.ST</td>\n",
       "      <td>85.143770</td>\n",
       "      <td>l-cap</td>\n",
       "    </tr>\n",
       "    <tr>\n",
       "      <th>252</th>\n",
       "      <td>NORION.ST</td>\n",
       "      <td>84.664537</td>\n",
       "      <td>m-cap</td>\n",
       "    </tr>\n",
       "  </tbody>\n",
       "</table>\n",
       "</div>"
      ],
      "text/plain": [
       "          Company  Null_percentage   Type\n",
       "152     HAKI-B.ST        98.282748  s-cap\n",
       "294      RUSTA.ST        96.725240  m-cap\n",
       "301  SAMPO-SDB.ST        87.500000  l-cap\n",
       "15       ALLEI.ST        85.143770  l-cap\n",
       "252     NORION.ST        84.664537  m-cap"
      ]
     },
     "execution_count": 11,
     "metadata": {},
     "output_type": "execute_result"
    }
   ],
   "source": [
    "df_null_percentage=df_null_percentage.sort_values(by=\"Null_percentage\",ascending=False)\n",
    "\n",
    "df_null_percentage.head()\n"
   ]
  },
  {
   "cell_type": "code",
   "execution_count": 12,
   "metadata": {},
   "outputs": [],
   "source": [
    "df_null_percentage.to_excel(f'{path}/raw_data/main/null_percentage.xlsx')\n"
   ]
  },
  {
   "cell_type": "code",
   "execution_count": 14,
   "metadata": {},
   "outputs": [
    {
     "data": {
      "application/vnd.plotly.v1+json": {
       "config": {
        "plotlyServerURL": "https://plot.ly"
       },
       "data": [
        {
         "alignmentgroup": "True",
         "customdata": [
          [
           "s-cap"
          ],
          [
           "s-cap"
          ],
          [
           "s-cap"
          ],
          [
           "s-cap"
          ],
          [
           "s-cap"
          ],
          [
           "s-cap"
          ],
          [
           "s-cap"
          ],
          [
           "s-cap"
          ],
          [
           "s-cap"
          ],
          [
           "s-cap"
          ],
          [
           "s-cap"
          ],
          [
           "s-cap"
          ],
          [
           "s-cap"
          ],
          [
           "s-cap"
          ],
          [
           "s-cap"
          ],
          [
           "s-cap"
          ],
          [
           "s-cap"
          ],
          [
           "s-cap"
          ],
          [
           "s-cap"
          ],
          [
           "s-cap"
          ],
          [
           "s-cap"
          ],
          [
           "s-cap"
          ],
          [
           "s-cap"
          ],
          [
           "s-cap"
          ],
          [
           "s-cap"
          ],
          [
           "s-cap"
          ],
          [
           "s-cap"
          ],
          [
           "s-cap"
          ],
          [
           "s-cap"
          ],
          [
           "s-cap"
          ],
          [
           "s-cap"
          ],
          [
           "s-cap"
          ],
          [
           "s-cap"
          ],
          [
           "s-cap"
          ],
          [
           "s-cap"
          ],
          [
           "s-cap"
          ],
          [
           "s-cap"
          ],
          [
           "s-cap"
          ],
          [
           "s-cap"
          ],
          [
           "s-cap"
          ],
          [
           "s-cap"
          ],
          [
           "s-cap"
          ],
          [
           "s-cap"
          ],
          [
           "s-cap"
          ],
          [
           "s-cap"
          ],
          [
           "s-cap"
          ],
          [
           "s-cap"
          ],
          [
           "s-cap"
          ],
          [
           "s-cap"
          ],
          [
           "s-cap"
          ],
          [
           "s-cap"
          ],
          [
           "s-cap"
          ],
          [
           "s-cap"
          ],
          [
           "s-cap"
          ],
          [
           "s-cap"
          ],
          [
           "s-cap"
          ],
          [
           "s-cap"
          ],
          [
           "s-cap"
          ],
          [
           "s-cap"
          ],
          [
           "s-cap"
          ],
          [
           "s-cap"
          ],
          [
           "s-cap"
          ],
          [
           "s-cap"
          ],
          [
           "s-cap"
          ],
          [
           "s-cap"
          ],
          [
           "s-cap"
          ],
          [
           "s-cap"
          ],
          [
           "s-cap"
          ],
          [
           "s-cap"
          ],
          [
           "s-cap"
          ],
          [
           "s-cap"
          ],
          [
           "s-cap"
          ],
          [
           "s-cap"
          ],
          [
           "s-cap"
          ],
          [
           "s-cap"
          ],
          [
           "s-cap"
          ],
          [
           "s-cap"
          ],
          [
           "s-cap"
          ],
          [
           "s-cap"
          ],
          [
           "s-cap"
          ],
          [
           "s-cap"
          ],
          [
           "s-cap"
          ],
          [
           "s-cap"
          ],
          [
           "s-cap"
          ],
          [
           "s-cap"
          ],
          [
           "s-cap"
          ],
          [
           "s-cap"
          ],
          [
           "s-cap"
          ],
          [
           "s-cap"
          ],
          [
           "s-cap"
          ],
          [
           "s-cap"
          ],
          [
           "s-cap"
          ],
          [
           "s-cap"
          ],
          [
           "s-cap"
          ],
          [
           "s-cap"
          ],
          [
           "s-cap"
          ],
          [
           "s-cap"
          ],
          [
           "s-cap"
          ],
          [
           "s-cap"
          ],
          [
           "s-cap"
          ],
          [
           "s-cap"
          ],
          [
           "s-cap"
          ],
          [
           "s-cap"
          ],
          [
           "s-cap"
          ],
          [
           "s-cap"
          ],
          [
           "s-cap"
          ]
         ],
         "hovertemplate": "Type=%{customdata[0]}<br>Company=%{x}<br>Null_percentage=%{y}<extra></extra>",
         "legendgroup": "s-cap",
         "marker": {
          "color": "#636efa",
          "pattern": {
           "shape": ""
          }
         },
         "name": "s-cap",
         "offsetgroup": "s-cap",
         "orientation": "v",
         "showlegend": true,
         "textposition": "auto",
         "type": "bar",
         "x": [
          "HAKI-B.ST",
          "SFAB.ST",
          "NETEL.ST",
          "NORB-B.ST",
          "WTW-A.ST",
          "SLEEP.ST",
          "ARPL.ST",
          "PIERCE.ST",
          "ACRI-B.ST",
          "ANNE-B.ST",
          "WBGR-B.ST",
          "QLIRO.ST",
          "SEAF.ST",
          "K2A-B.ST",
          "ACE.ST",
          "QLINEA.ST",
          "PENG-B.ST",
          "OVZON.ST",
          "INFREA.ST",
          "FNM.ST",
          "BALCO.ST",
          "XSPRAY.ST",
          "ATIC.ST",
          "ISOFOL.ST",
          "IRLAB-A.ST",
          "ONCO.ST",
          "ATORX.ST",
          "MAHA-A.ST",
          "SYNACT.ST",
          "B3.ST",
          "IBT-B.ST",
          "XBRANE.ST",
          "VICO.ST",
          "IMMNOV.ST",
          "NICA.ST",
          "NIL-B.ST",
          "STAR-A.ST",
          "TRANS.ST",
          "TOBII.ST",
          "CANTA.ST",
          "ACRI-A.ST",
          "ELTEL.ST",
          "FASTAT.ST",
          "CBTT-B.ST",
          "BESQ.ST",
          "SANION.ST",
          "SGG.ST",
          "PREC.ST",
          "PION-B.ST",
          "PROF-B.ST",
          "PREV-B.ST",
          "ORTI-A.ST",
          "ORTI-B.ST",
          "ORX.ST",
          "WISE.ST",
          "OP.ST",
          "NTEK-B.ST",
          "SVED-B.ST",
          "STAR-B.ST",
          "SEZI.ST",
          "SINT.ST",
          "SOF-B.ST",
          "SIVE.ST",
          "TRAD.ST",
          "VIVE.ST",
          "RAIL.ST",
          "RIZZO-B.ST",
          "SVIK.ST",
          "STWK.ST",
          "SAFETY-B.ST",
          "STRAX.ST",
          "SAS.ST",
          "CNCJO-B.ST",
          "BULTEN.ST",
          "CRAD-B.ST",
          "DEDI.ST",
          "ELON.ST",
          "ENRO.ST",
          "EGTX.ST",
          "DURC-B.ST",
          "DORO.ST",
          "BOUL.ST",
          "BORG.ST",
          "BONG.ST",
          "ANOT.ST",
          "ACTI.ST",
          "ABLI.ST",
          "BEGR.ST",
          "EPIS-B.ST",
          "MEAB-B.ST",
          "MOB.ST",
          "LAMM-B.ST",
          "MOMENT.ST",
          "KDEV.ST",
          "NGS.ST",
          "NELLY.ST",
          "NAXS.ST",
          "MSAB-B.ST",
          "MVIR.ST",
          "MSON-B.ST",
          "MSON-A.ST",
          "HAKI-A.ST",
          "FPIP.ST",
          "FING-B.ST",
          "IS.ST",
          "IMMU.ST"
         ],
         "xaxis": "x",
         "y": [
          98.28274760383387,
          77.67571884984025,
          76.35782747603834,
          76.23801916932908,
          73.1629392971246,
          72.68370607028754,
          72.28434504792332,
          70.72683706070288,
          70.56709265175719,
          67.93130990415335,
          66.21405750798722,
          65.93450479233228,
          53.99361022364217,
          53.03514376996805,
          50.47923322683706,
          47.96325878594249,
          43.05111821086262,
          42.17252396166134,
          41.45367412140575,
          36.66134185303515,
          36.06230031948881,
          35.822683706070286,
          31.030351437699682,
          30.910543130990416,
          29.91214057507987,
          29.752396166134186,
          27.23642172523962,
          23.921725239616613,
          23.362619808306707,
          22.603833865814696,
          20.527156549520768,
          19.049520766773163,
          17.691693290734825,
          17.412140575079874,
          16.533546325878596,
          12.579872204472844,
          12.539936102236421,
          11.940894568690096,
          11.261980830670927,
          10.223642172523961,
          9.784345047923322,
          9.145367412140574,
          6.469648562300319,
          6.230031948881789,
          2.5958466453674123,
          1.2380191693290734,
          0.3993610223642172,
          0,
          0,
          0,
          0,
          0,
          0,
          0,
          0,
          0,
          0,
          0,
          0,
          0,
          0,
          0,
          0,
          0,
          0,
          0,
          0,
          0,
          0,
          0,
          0,
          0,
          0,
          0,
          0,
          0,
          0,
          0,
          0,
          0,
          0,
          0,
          0,
          0,
          0,
          0,
          0,
          0,
          0,
          0,
          0,
          0,
          0,
          0,
          0,
          0,
          0,
          0,
          0,
          0,
          0,
          0,
          0,
          0,
          0,
          0
         ],
         "yaxis": "y"
        },
        {
         "alignmentgroup": "True",
         "customdata": [
          [
           "m-cap"
          ],
          [
           "m-cap"
          ],
          [
           "m-cap"
          ],
          [
           "m-cap"
          ],
          [
           "m-cap"
          ],
          [
           "m-cap"
          ],
          [
           "m-cap"
          ],
          [
           "m-cap"
          ],
          [
           "m-cap"
          ],
          [
           "m-cap"
          ],
          [
           "m-cap"
          ],
          [
           "m-cap"
          ],
          [
           "m-cap"
          ],
          [
           "m-cap"
          ],
          [
           "m-cap"
          ],
          [
           "m-cap"
          ],
          [
           "m-cap"
          ],
          [
           "m-cap"
          ],
          [
           "m-cap"
          ],
          [
           "m-cap"
          ],
          [
           "m-cap"
          ],
          [
           "m-cap"
          ],
          [
           "m-cap"
          ],
          [
           "m-cap"
          ],
          [
           "m-cap"
          ],
          [
           "m-cap"
          ],
          [
           "m-cap"
          ],
          [
           "m-cap"
          ],
          [
           "m-cap"
          ],
          [
           "m-cap"
          ],
          [
           "m-cap"
          ],
          [
           "m-cap"
          ],
          [
           "m-cap"
          ],
          [
           "m-cap"
          ],
          [
           "m-cap"
          ],
          [
           "m-cap"
          ],
          [
           "m-cap"
          ],
          [
           "m-cap"
          ],
          [
           "m-cap"
          ],
          [
           "m-cap"
          ],
          [
           "m-cap"
          ],
          [
           "m-cap"
          ],
          [
           "m-cap"
          ],
          [
           "m-cap"
          ],
          [
           "m-cap"
          ],
          [
           "m-cap"
          ],
          [
           "m-cap"
          ],
          [
           "m-cap"
          ],
          [
           "m-cap"
          ],
          [
           "m-cap"
          ],
          [
           "m-cap"
          ],
          [
           "m-cap"
          ],
          [
           "m-cap"
          ],
          [
           "m-cap"
          ],
          [
           "m-cap"
          ],
          [
           "m-cap"
          ],
          [
           "m-cap"
          ],
          [
           "m-cap"
          ],
          [
           "m-cap"
          ],
          [
           "m-cap"
          ],
          [
           "m-cap"
          ],
          [
           "m-cap"
          ],
          [
           "m-cap"
          ],
          [
           "m-cap"
          ],
          [
           "m-cap"
          ],
          [
           "m-cap"
          ],
          [
           "m-cap"
          ],
          [
           "m-cap"
          ],
          [
           "m-cap"
          ],
          [
           "m-cap"
          ],
          [
           "m-cap"
          ],
          [
           "m-cap"
          ],
          [
           "m-cap"
          ],
          [
           "m-cap"
          ],
          [
           "m-cap"
          ],
          [
           "m-cap"
          ],
          [
           "m-cap"
          ],
          [
           "m-cap"
          ],
          [
           "m-cap"
          ],
          [
           "m-cap"
          ],
          [
           "m-cap"
          ],
          [
           "m-cap"
          ],
          [
           "m-cap"
          ],
          [
           "m-cap"
          ],
          [
           "m-cap"
          ],
          [
           "m-cap"
          ],
          [
           "m-cap"
          ],
          [
           "m-cap"
          ],
          [
           "m-cap"
          ],
          [
           "m-cap"
          ],
          [
           "m-cap"
          ],
          [
           "m-cap"
          ],
          [
           "m-cap"
          ],
          [
           "m-cap"
          ],
          [
           "m-cap"
          ],
          [
           "m-cap"
          ],
          [
           "m-cap"
          ],
          [
           "m-cap"
          ],
          [
           "m-cap"
          ],
          [
           "m-cap"
          ],
          [
           "m-cap"
          ],
          [
           "m-cap"
          ],
          [
           "m-cap"
          ],
          [
           "m-cap"
          ],
          [
           "m-cap"
          ],
          [
           "m-cap"
          ],
          [
           "m-cap"
          ],
          [
           "m-cap"
          ],
          [
           "m-cap"
          ],
          [
           "m-cap"
          ],
          [
           "m-cap"
          ],
          [
           "m-cap"
          ],
          [
           "m-cap"
          ],
          [
           "m-cap"
          ],
          [
           "m-cap"
          ],
          [
           "m-cap"
          ],
          [
           "m-cap"
          ],
          [
           "m-cap"
          ],
          [
           "m-cap"
          ],
          [
           "m-cap"
          ],
          [
           "m-cap"
          ],
          [
           "m-cap"
          ],
          [
           "m-cap"
          ],
          [
           "m-cap"
          ],
          [
           "m-cap"
          ],
          [
           "m-cap"
          ],
          [
           "m-cap"
          ],
          [
           "m-cap"
          ],
          [
           "m-cap"
          ],
          [
           "m-cap"
          ],
          [
           "m-cap"
          ],
          [
           "m-cap"
          ]
         ],
         "hovertemplate": "Type=%{customdata[0]}<br>Company=%{x}<br>Null_percentage=%{y}<extra></extra>",
         "legendgroup": "m-cap",
         "marker": {
          "color": "#EF553B",
          "pattern": {
           "shape": ""
          }
         },
         "name": "m-cap",
         "offsetgroup": "m-cap",
         "orientation": "v",
         "showlegend": true,
         "textposition": "auto",
         "type": "bar",
         "x": [
          "RUSTA.ST",
          "NORION.ST",
          "ENGCON-B.ST",
          "EMIL-B.ST",
          "MMGR-B.ST",
          "SLP-B.ST",
          "NORVA.ST",
          "TDVOX.ST",
          "NIVI-B.ST",
          "KLARA-B.ST",
          "LOGI-B.ST",
          "SYNSAM.ST",
          "BFG.ST",
          "CTEK.ST",
          "PRFO.ST",
          "RVRC.ST",
          "MILDEF.ST",
          "LINC.ST",
          "CS.ST",
          "CINT.ST",
          "FG.ST",
          "NPAPER.ST",
          "GPG.ST",
          "VNV.ST",
          "KFAST-B.ST",
          "JOMA.ST",
          "KAR.ST",
          "VPLAY-A.ST",
          "VPLAY-B.ST",
          "GIGSEK.ST",
          "LIME.ST",
          "CALTX.ST",
          "BHG.ST",
          "GREEN.ST",
          "CIBUS.ST",
          "SEDANA.ST",
          "TRIAN-B.ST",
          "ALLIGO-B.ST",
          "BONEX.ST",
          "BOOZT.ST",
          "SDIP-B.ST",
          "FMM-B.ST",
          "AMBEA.ST",
          "VOLO.ST",
          "BICO.ST",
          "BRIN-B.ST",
          "ACAD.ST",
          "TFBANK.ST",
          "NWG.ST",
          "BONAV-A.ST",
          "BONAV-B.ST",
          "RESURS.ST",
          "HUM.ST",
          "GARO.ST",
          "CTM.ST",
          "SF.ST",
          "SHOT.ST",
          "ATT.ST",
          "ALIG.ST",
          "COOR.ST",
          "HOFI.ST",
          "DUST.ST",
          "PCELL.ST",
          "GRNG.ST",
          "INWI.ST",
          "SCST.ST",
          "HANZA.ST",
          "BACTI-B.ST",
          "COPP.ST",
          "PLAZ-B.ST",
          "TRAC-B.ST",
          "PRIC-B.ST",
          "PROB.ST",
          "ORES.ST",
          "NOTE.ST",
          "XANO-B.ST",
          "OEM-B.ST",
          "TETY.ST",
          "PACT.ST",
          "ORRON.ST",
          "VESTUM.ST",
          "NOBI.ST",
          "SKIS-B.ST",
          "RAY-B.ST",
          "REJL-B.ST",
          "VBG-B.ST",
          "RROS.ST",
          "STEF-B.ST",
          "NMAN.ST",
          "COIC.ST",
          "CLAS-B.ST",
          "CLA-B.ST",
          "CEVI.ST",
          "CCC.ST",
          "CAT-B.ST",
          "CAT-A.ST",
          "BUFAB.ST",
          "BTS-B.ST",
          "CTT.ST",
          "EPEN.ST",
          "EOLU-B.ST",
          "ENEA.ST",
          "ELAN-B.ST",
          "EAST.ST",
          "DUNI.ST",
          "ARP.ST",
          "ARISE.ST",
          "AQ.ST",
          "AOI.ST",
          "BMAX.ST",
          "BIOG-B.ST",
          "BINV.ST",
          "BERG-B.ST",
          "BEIA-B.ST",
          "LOGI-A.ST",
          "MCAP.ST",
          "MANG.ST",
          "LUC.ST",
          "KNOW.ST",
          "MEKO.ST",
          "NETI-B.ST",
          "KABE-B.ST",
          "EWRK.ST",
          "HNSA.ST",
          "HEBA-B.ST",
          "G5EN.ST",
          "FAG.ST",
          "IVSO.ST",
          "ITAB.ST",
          "HTRO.ST",
          "IAR-B.ST",
          "XVIVO.ST"
         ],
         "xaxis": "x",
         "y": [
          96.72523961661342,
          84.66453674121406,
          83.06709265175719,
          82.9073482428115,
          80.99041533546327,
          80.75079872204472,
          77.91533546325878,
          77.91533546325878,
          77.7555910543131,
          77.71565495207668,
          77.39616613418531,
          76.75718849840256,
          76.35782747603834,
          75.75878594249201,
          73.3226837060703,
          72.92332268370608,
          72.60383386581469,
          72.40415335463258,
          70.28753993610223,
          69.72843450479233,
          67.8514376996805,
          66.49361022364218,
          63.21884984025559,
          63.17891373801917,
          57.587859424920126,
          52.715654952076676,
          51.31789137380191,
          50.918530351437695,
          50.918530351437695,
          50.39936102236422,
          47.92332268370607,
          43.370607028753994,
          40.814696485623,
          40.73482428115016,
          40.33546325878594,
          32.98722044728434,
          32.98722044728434,
          32.98722044728434,
          32.98722044728434,
          32.38817891373802,
          31.908945686900957,
          31.070287539936103,
          30.830670926517573,
          27.43610223642173,
          26.677316293929714,
          25.718849840255594,
          22.683706070287542,
          22.64376996805112,
          22.563897763578275,
          22.523961661341854,
          22.523961661341854,
          21.445686900958467,
          20.4073482428115,
          20.247603833865817,
          19.289137380191693,
          17.61182108626198,
          17.452076677316295,
          17.37220447284345,
          12.699680511182109,
          12.659744408945686,
          10.463258785942491,
          9.345047923322685,
          7.987220447284344,
          5.9904153354632586,
          5.5910543130990416,
          2.9952076677316293,
          2.7955271565495208,
          2.7955271565495208,
          0.9185303514376997,
          0,
          0,
          0,
          0,
          0,
          0,
          0,
          0,
          0,
          0,
          0,
          0,
          0,
          0,
          0,
          0,
          0,
          0,
          0,
          0,
          0,
          0,
          0,
          0,
          0,
          0,
          0,
          0,
          0,
          0,
          0,
          0,
          0,
          0,
          0,
          0,
          0,
          0,
          0,
          0,
          0,
          0,
          0,
          0,
          0,
          0,
          0,
          0,
          0,
          0,
          0,
          0,
          0,
          0,
          0,
          0,
          0,
          0,
          0,
          0,
          0,
          0,
          0
         ],
         "yaxis": "y"
        },
        {
         "alignmentgroup": "True",
         "customdata": [
          [
           "l-cap"
          ],
          [
           "l-cap"
          ],
          [
           "l-cap"
          ],
          [
           "l-cap"
          ],
          [
           "l-cap"
          ],
          [
           "l-cap"
          ],
          [
           "l-cap"
          ],
          [
           "l-cap"
          ],
          [
           "l-cap"
          ],
          [
           "l-cap"
          ],
          [
           "l-cap"
          ],
          [
           "l-cap"
          ],
          [
           "l-cap"
          ],
          [
           "l-cap"
          ],
          [
           "l-cap"
          ],
          [
           "l-cap"
          ],
          [
           "l-cap"
          ],
          [
           "l-cap"
          ],
          [
           "l-cap"
          ],
          [
           "l-cap"
          ],
          [
           "l-cap"
          ],
          [
           "l-cap"
          ],
          [
           "l-cap"
          ],
          [
           "l-cap"
          ],
          [
           "l-cap"
          ],
          [
           "l-cap"
          ],
          [
           "l-cap"
          ],
          [
           "l-cap"
          ],
          [
           "l-cap"
          ],
          [
           "l-cap"
          ],
          [
           "l-cap"
          ],
          [
           "l-cap"
          ],
          [
           "l-cap"
          ],
          [
           "l-cap"
          ],
          [
           "l-cap"
          ],
          [
           "l-cap"
          ],
          [
           "l-cap"
          ],
          [
           "l-cap"
          ],
          [
           "l-cap"
          ],
          [
           "l-cap"
          ],
          [
           "l-cap"
          ],
          [
           "l-cap"
          ],
          [
           "l-cap"
          ],
          [
           "l-cap"
          ],
          [
           "l-cap"
          ],
          [
           "l-cap"
          ],
          [
           "l-cap"
          ],
          [
           "l-cap"
          ],
          [
           "l-cap"
          ],
          [
           "l-cap"
          ],
          [
           "l-cap"
          ],
          [
           "l-cap"
          ],
          [
           "l-cap"
          ],
          [
           "l-cap"
          ],
          [
           "l-cap"
          ],
          [
           "l-cap"
          ],
          [
           "l-cap"
          ],
          [
           "l-cap"
          ],
          [
           "l-cap"
          ],
          [
           "l-cap"
          ],
          [
           "l-cap"
          ],
          [
           "l-cap"
          ],
          [
           "l-cap"
          ],
          [
           "l-cap"
          ],
          [
           "l-cap"
          ],
          [
           "l-cap"
          ],
          [
           "l-cap"
          ],
          [
           "l-cap"
          ],
          [
           "l-cap"
          ],
          [
           "l-cap"
          ],
          [
           "l-cap"
          ],
          [
           "l-cap"
          ],
          [
           "l-cap"
          ],
          [
           "l-cap"
          ],
          [
           "l-cap"
          ],
          [
           "l-cap"
          ],
          [
           "l-cap"
          ],
          [
           "l-cap"
          ],
          [
           "l-cap"
          ],
          [
           "l-cap"
          ],
          [
           "l-cap"
          ],
          [
           "l-cap"
          ],
          [
           "l-cap"
          ],
          [
           "l-cap"
          ],
          [
           "l-cap"
          ],
          [
           "l-cap"
          ],
          [
           "l-cap"
          ],
          [
           "l-cap"
          ],
          [
           "l-cap"
          ],
          [
           "l-cap"
          ],
          [
           "l-cap"
          ],
          [
           "l-cap"
          ],
          [
           "l-cap"
          ],
          [
           "l-cap"
          ],
          [
           "l-cap"
          ],
          [
           "l-cap"
          ],
          [
           "l-cap"
          ],
          [
           "l-cap"
          ],
          [
           "l-cap"
          ],
          [
           "l-cap"
          ],
          [
           "l-cap"
          ],
          [
           "l-cap"
          ],
          [
           "l-cap"
          ],
          [
           "l-cap"
          ],
          [
           "l-cap"
          ],
          [
           "l-cap"
          ],
          [
           "l-cap"
          ],
          [
           "l-cap"
          ],
          [
           "l-cap"
          ],
          [
           "l-cap"
          ],
          [
           "l-cap"
          ],
          [
           "l-cap"
          ],
          [
           "l-cap"
          ],
          [
           "l-cap"
          ],
          [
           "l-cap"
          ],
          [
           "l-cap"
          ],
          [
           "l-cap"
          ],
          [
           "l-cap"
          ],
          [
           "l-cap"
          ],
          [
           "l-cap"
          ],
          [
           "l-cap"
          ],
          [
           "l-cap"
          ],
          [
           "l-cap"
          ],
          [
           "l-cap"
          ],
          [
           "l-cap"
          ],
          [
           "l-cap"
          ],
          [
           "l-cap"
          ],
          [
           "l-cap"
          ],
          [
           "l-cap"
          ],
          [
           "l-cap"
          ],
          [
           "l-cap"
          ],
          [
           "l-cap"
          ],
          [
           "l-cap"
          ],
          [
           "l-cap"
          ],
          [
           "l-cap"
          ],
          [
           "l-cap"
          ],
          [
           "l-cap"
          ],
          [
           "l-cap"
          ],
          [
           "l-cap"
          ],
          [
           "l-cap"
          ],
          [
           "l-cap"
          ],
          [
           "l-cap"
          ],
          [
           "l-cap"
          ],
          [
           "l-cap"
          ],
          [
           "l-cap"
          ],
          [
           "l-cap"
          ],
          [
           "l-cap"
          ],
          [
           "l-cap"
          ],
          [
           "l-cap"
          ],
          [
           "l-cap"
          ],
          [
           "l-cap"
          ],
          [
           "l-cap"
          ],
          [
           "l-cap"
          ],
          [
           "l-cap"
          ]
         ],
         "hovertemplate": "Type=%{customdata[0]}<br>Company=%{x}<br>Null_percentage=%{y}<extra></extra>",
         "legendgroup": "l-cap",
         "marker": {
          "color": "#00cc96",
          "pattern": {
           "shape": ""
          }
         },
         "name": "l-cap",
         "offsetgroup": "l-cap",
         "orientation": "v",
         "showlegend": true,
         "textposition": "auto",
         "type": "bar",
         "x": [
          "SAMPO-SDB.ST",
          "ALLEI.ST",
          "VOLCAR-B.ST",
          "TRUE-B.ST",
          "STOR-B.ST",
          "OX2.ST",
          "CORE-D.ST",
          "HEM.ST",
          "SAVE.ST",
          "EPRO-B.ST",
          "FPAR-D.ST",
          "EQT.ST",
          "8TRA.ST",
          "SBB-D.ST",
          "NYF.ST",
          "EPI-B.ST",
          "EPI-A.ST",
          "ARION-SDB.ST",
          "BETCO.ST",
          "NCAB.ST",
          "CORE-B.ST",
          "ARJO-B.ST",
          "BIOA-B.ST",
          "ESSITY-A.ST",
          "ESSITY-B.ST",
          "LUMI.ST",
          "MCOV-B.ST",
          "MTRS.ST",
          "INSTAL.ST",
          "IPCO.ST",
          "MIPS.ST",
          "EMBRAC-B.ST",
          "SAGA-D.ST",
          "ALIF-B.ST",
          "CAMX.ST",
          "DOM.ST",
          "BRAV.ST",
          "SINCH.ST",
          "PNDX-B.ST",
          "TROAX.ST",
          "EVO.ST",
          "LUG.ST",
          "NP3.ST",
          "THULE.ST",
          "LIFCO-B.ST",
          "FOI-B.ST",
          "TEL2-A.ST",
          "WALL-B.ST",
          "SYSR.ST",
          "NOLA-B.ST",
          "WIHL.ST",
          "TIETOS.ST",
          "PEAB-B.ST",
          "TIGO-SDB.ST",
          "TEL2-B.ST",
          "TELIA.ST",
          "VOLV-B.ST",
          "TREL-B.ST",
          "STE-A.ST",
          "VITR.ST",
          "SEB-A.ST",
          "SEB-C.ST",
          "SECT-B.ST",
          "SECU-B.ST",
          "VIT-B.ST",
          "SSAB-B.ST",
          "SWED-A.ST",
          "SHB-A.ST",
          "SSAB-A.ST",
          "SHB-B.ST",
          "SKA-B.ST",
          "SKF-A.ST",
          "SKF-B.ST",
          "SOBI.ST",
          "STE-R.ST",
          "SCA-B.ST",
          "RATO-A.ST",
          "RATO-B.ST",
          "SWEC-B.ST",
          "SWEC-A.ST",
          "VOLV-A.ST",
          "SAAB-B.ST",
          "SAGA-A.ST",
          "SAGA-B.ST",
          "SAND.ST",
          "SBB-B.ST",
          "SCA-A.ST",
          "KINV-A.ST",
          "NIBE-B.ST",
          "CORE-A.ST",
          "CATE.ST",
          "CAST.ST",
          "BURE.ST",
          "ELUX-B.ST",
          "ELUX-A.ST",
          "DIOS.ST",
          "EKTA-B.ST",
          "ANOD-B.ST",
          "ASSA-B.ST",
          "ALIV-SDB.ST",
          "ATCO-B.ST",
          "ALFA.ST",
          "AFRY.ST",
          "ADDT-B.ST",
          "ABB.ST",
          "ATCO-A.ST",
          "ATRLJ-B.ST",
          "BOL.ST",
          "BETS-B.ST",
          "BIOT.ST",
          "BILL.ST",
          "BILI-A.ST",
          "AXFO.ST",
          "BEIJ-B.ST",
          "BALD-B.ST",
          "AZN.ST",
          "AZA.ST",
          "ERIC-A.ST",
          "ERIC-B.ST",
          "LUND-B.ST",
          "LOOMIS.ST",
          "LIAB.ST",
          "LATO-B.ST",
          "LAGR-B.ST",
          "KINV-B.ST",
          "AAK.ST",
          "NCC-A.ST",
          "NEWA-B.ST",
          "NDA-SE.ST",
          "NCC-B.ST",
          "MYCR.ST",
          "MTG-B.ST",
          "MTG-A.ST",
          "KIND-SDB.ST",
          "GETI-B.ST",
          "HMS.ST",
          "HM-B.ST",
          "HEXA-B.ST",
          "HOLM-B.ST",
          "FPAR-A.ST",
          "FNOX.ST",
          "FABG.ST",
          "HOLM-A.ST",
          "HPOL-B.ST",
          "JM.ST",
          "INDU-C.ST",
          "INVE-B.ST",
          "INVE-A.ST",
          "INTRUM.ST",
          "INDU-A.ST",
          "INDT.ST",
          "HUSQ-B.ST",
          "HUSQ-A.ST",
          "HUFV-A.ST"
         ],
         "xaxis": "x",
         "y": [
          87.5,
          85.14376996805112,
          76.75718849840256,
          76.15814696485623,
          76.0782747603834,
          73.12300319488818,
          73.00319488817891,
          71.52555910543131,
          67.4520766773163,
          60.58306709265175,
          57.98722044728435,
          55.670926517571885,
          53.23482428115016,
          48.1629392971246,
          47.563897763578275,
          43.0111821086262,
          43.0111821086262,
          42.97124600638978,
          42.77156549520767,
          42.6517571884984,
          37.97923322683706,
          37.93929712460064,
          36.222044728434504,
          32.82747603833866,
          32.82747603833866,
          32.62779552715655,
          32.18849840255591,
          32.108626198083066,
          31.869009584664536,
          31.389776357827476,
          30.591054313099043,
          27.1964856230032,
          26.837060702875398,
          20.247603833865817,
          17.492012779552716,
          17.252396166134183,
          16.134185303514375,
          15.894568690095848,
          12.73961661341853,
          10.543130990415335,
          10.343450479233226,
          8.027156549520766,
          7.5479233226837055,
          7.308306709265176,
          7.188498402555911,
          2.9552715654952078,
          0,
          0,
          0,
          0,
          0,
          0,
          0,
          0,
          0,
          0,
          0,
          0,
          0,
          0,
          0,
          0,
          0,
          0,
          0,
          0,
          0,
          0,
          0,
          0,
          0,
          0,
          0,
          0,
          0,
          0,
          0,
          0,
          0,
          0,
          0,
          0,
          0,
          0,
          0,
          0,
          0,
          0,
          0,
          0,
          0,
          0,
          0,
          0,
          0,
          0,
          0,
          0,
          0,
          0,
          0,
          0,
          0,
          0,
          0,
          0,
          0,
          0,
          0,
          0,
          0,
          0,
          0,
          0,
          0,
          0,
          0,
          0,
          0,
          0,
          0,
          0,
          0,
          0,
          0,
          0,
          0,
          0,
          0,
          0,
          0,
          0,
          0,
          0,
          0,
          0,
          0,
          0,
          0,
          0,
          0,
          0,
          0,
          0,
          0,
          0,
          0,
          0,
          0,
          0,
          0,
          0,
          0,
          0
         ],
         "yaxis": "y"
        },
        {
         "alignmentgroup": "True",
         "customdata": [
          [
           "non-registered"
          ]
         ],
         "hovertemplate": "Type=%{customdata[0]}<br>Company=%{x}<br>Null_percentage=%{y}<extra></extra>",
         "legendgroup": "non-registered",
         "marker": {
          "color": "#ab63fa",
          "pattern": {
           "shape": ""
          }
         },
         "name": "non-registered",
         "offsetgroup": "non-registered",
         "orientation": "v",
         "showlegend": true,
         "textposition": "auto",
         "type": "bar",
         "x": [
          "NOKIA-SEK.ST"
         ],
         "xaxis": "x",
         "y": [
          0
         ],
         "yaxis": "y"
        }
       ],
       "layout": {
        "barmode": "group",
        "legend": {
         "title": {
          "text": "Type"
         },
         "tracegroupgap": 0
        },
        "template": {
         "data": {
          "bar": [
           {
            "error_x": {
             "color": "#2a3f5f"
            },
            "error_y": {
             "color": "#2a3f5f"
            },
            "marker": {
             "line": {
              "color": "#E5ECF6",
              "width": 0.5
             },
             "pattern": {
              "fillmode": "overlay",
              "size": 10,
              "solidity": 0.2
             }
            },
            "type": "bar"
           }
          ],
          "barpolar": [
           {
            "marker": {
             "line": {
              "color": "#E5ECF6",
              "width": 0.5
             },
             "pattern": {
              "fillmode": "overlay",
              "size": 10,
              "solidity": 0.2
             }
            },
            "type": "barpolar"
           }
          ],
          "carpet": [
           {
            "aaxis": {
             "endlinecolor": "#2a3f5f",
             "gridcolor": "white",
             "linecolor": "white",
             "minorgridcolor": "white",
             "startlinecolor": "#2a3f5f"
            },
            "baxis": {
             "endlinecolor": "#2a3f5f",
             "gridcolor": "white",
             "linecolor": "white",
             "minorgridcolor": "white",
             "startlinecolor": "#2a3f5f"
            },
            "type": "carpet"
           }
          ],
          "choropleth": [
           {
            "colorbar": {
             "outlinewidth": 0,
             "ticks": ""
            },
            "type": "choropleth"
           }
          ],
          "contour": [
           {
            "colorbar": {
             "outlinewidth": 0,
             "ticks": ""
            },
            "colorscale": [
             [
              0,
              "#0d0887"
             ],
             [
              0.1111111111111111,
              "#46039f"
             ],
             [
              0.2222222222222222,
              "#7201a8"
             ],
             [
              0.3333333333333333,
              "#9c179e"
             ],
             [
              0.4444444444444444,
              "#bd3786"
             ],
             [
              0.5555555555555556,
              "#d8576b"
             ],
             [
              0.6666666666666666,
              "#ed7953"
             ],
             [
              0.7777777777777778,
              "#fb9f3a"
             ],
             [
              0.8888888888888888,
              "#fdca26"
             ],
             [
              1,
              "#f0f921"
             ]
            ],
            "type": "contour"
           }
          ],
          "contourcarpet": [
           {
            "colorbar": {
             "outlinewidth": 0,
             "ticks": ""
            },
            "type": "contourcarpet"
           }
          ],
          "heatmap": [
           {
            "colorbar": {
             "outlinewidth": 0,
             "ticks": ""
            },
            "colorscale": [
             [
              0,
              "#0d0887"
             ],
             [
              0.1111111111111111,
              "#46039f"
             ],
             [
              0.2222222222222222,
              "#7201a8"
             ],
             [
              0.3333333333333333,
              "#9c179e"
             ],
             [
              0.4444444444444444,
              "#bd3786"
             ],
             [
              0.5555555555555556,
              "#d8576b"
             ],
             [
              0.6666666666666666,
              "#ed7953"
             ],
             [
              0.7777777777777778,
              "#fb9f3a"
             ],
             [
              0.8888888888888888,
              "#fdca26"
             ],
             [
              1,
              "#f0f921"
             ]
            ],
            "type": "heatmap"
           }
          ],
          "heatmapgl": [
           {
            "colorbar": {
             "outlinewidth": 0,
             "ticks": ""
            },
            "colorscale": [
             [
              0,
              "#0d0887"
             ],
             [
              0.1111111111111111,
              "#46039f"
             ],
             [
              0.2222222222222222,
              "#7201a8"
             ],
             [
              0.3333333333333333,
              "#9c179e"
             ],
             [
              0.4444444444444444,
              "#bd3786"
             ],
             [
              0.5555555555555556,
              "#d8576b"
             ],
             [
              0.6666666666666666,
              "#ed7953"
             ],
             [
              0.7777777777777778,
              "#fb9f3a"
             ],
             [
              0.8888888888888888,
              "#fdca26"
             ],
             [
              1,
              "#f0f921"
             ]
            ],
            "type": "heatmapgl"
           }
          ],
          "histogram": [
           {
            "marker": {
             "pattern": {
              "fillmode": "overlay",
              "size": 10,
              "solidity": 0.2
             }
            },
            "type": "histogram"
           }
          ],
          "histogram2d": [
           {
            "colorbar": {
             "outlinewidth": 0,
             "ticks": ""
            },
            "colorscale": [
             [
              0,
              "#0d0887"
             ],
             [
              0.1111111111111111,
              "#46039f"
             ],
             [
              0.2222222222222222,
              "#7201a8"
             ],
             [
              0.3333333333333333,
              "#9c179e"
             ],
             [
              0.4444444444444444,
              "#bd3786"
             ],
             [
              0.5555555555555556,
              "#d8576b"
             ],
             [
              0.6666666666666666,
              "#ed7953"
             ],
             [
              0.7777777777777778,
              "#fb9f3a"
             ],
             [
              0.8888888888888888,
              "#fdca26"
             ],
             [
              1,
              "#f0f921"
             ]
            ],
            "type": "histogram2d"
           }
          ],
          "histogram2dcontour": [
           {
            "colorbar": {
             "outlinewidth": 0,
             "ticks": ""
            },
            "colorscale": [
             [
              0,
              "#0d0887"
             ],
             [
              0.1111111111111111,
              "#46039f"
             ],
             [
              0.2222222222222222,
              "#7201a8"
             ],
             [
              0.3333333333333333,
              "#9c179e"
             ],
             [
              0.4444444444444444,
              "#bd3786"
             ],
             [
              0.5555555555555556,
              "#d8576b"
             ],
             [
              0.6666666666666666,
              "#ed7953"
             ],
             [
              0.7777777777777778,
              "#fb9f3a"
             ],
             [
              0.8888888888888888,
              "#fdca26"
             ],
             [
              1,
              "#f0f921"
             ]
            ],
            "type": "histogram2dcontour"
           }
          ],
          "mesh3d": [
           {
            "colorbar": {
             "outlinewidth": 0,
             "ticks": ""
            },
            "type": "mesh3d"
           }
          ],
          "parcoords": [
           {
            "line": {
             "colorbar": {
              "outlinewidth": 0,
              "ticks": ""
             }
            },
            "type": "parcoords"
           }
          ],
          "pie": [
           {
            "automargin": true,
            "type": "pie"
           }
          ],
          "scatter": [
           {
            "fillpattern": {
             "fillmode": "overlay",
             "size": 10,
             "solidity": 0.2
            },
            "type": "scatter"
           }
          ],
          "scatter3d": [
           {
            "line": {
             "colorbar": {
              "outlinewidth": 0,
              "ticks": ""
             }
            },
            "marker": {
             "colorbar": {
              "outlinewidth": 0,
              "ticks": ""
             }
            },
            "type": "scatter3d"
           }
          ],
          "scattercarpet": [
           {
            "marker": {
             "colorbar": {
              "outlinewidth": 0,
              "ticks": ""
             }
            },
            "type": "scattercarpet"
           }
          ],
          "scattergeo": [
           {
            "marker": {
             "colorbar": {
              "outlinewidth": 0,
              "ticks": ""
             }
            },
            "type": "scattergeo"
           }
          ],
          "scattergl": [
           {
            "marker": {
             "colorbar": {
              "outlinewidth": 0,
              "ticks": ""
             }
            },
            "type": "scattergl"
           }
          ],
          "scattermapbox": [
           {
            "marker": {
             "colorbar": {
              "outlinewidth": 0,
              "ticks": ""
             }
            },
            "type": "scattermapbox"
           }
          ],
          "scatterpolar": [
           {
            "marker": {
             "colorbar": {
              "outlinewidth": 0,
              "ticks": ""
             }
            },
            "type": "scatterpolar"
           }
          ],
          "scatterpolargl": [
           {
            "marker": {
             "colorbar": {
              "outlinewidth": 0,
              "ticks": ""
             }
            },
            "type": "scatterpolargl"
           }
          ],
          "scatterternary": [
           {
            "marker": {
             "colorbar": {
              "outlinewidth": 0,
              "ticks": ""
             }
            },
            "type": "scatterternary"
           }
          ],
          "surface": [
           {
            "colorbar": {
             "outlinewidth": 0,
             "ticks": ""
            },
            "colorscale": [
             [
              0,
              "#0d0887"
             ],
             [
              0.1111111111111111,
              "#46039f"
             ],
             [
              0.2222222222222222,
              "#7201a8"
             ],
             [
              0.3333333333333333,
              "#9c179e"
             ],
             [
              0.4444444444444444,
              "#bd3786"
             ],
             [
              0.5555555555555556,
              "#d8576b"
             ],
             [
              0.6666666666666666,
              "#ed7953"
             ],
             [
              0.7777777777777778,
              "#fb9f3a"
             ],
             [
              0.8888888888888888,
              "#fdca26"
             ],
             [
              1,
              "#f0f921"
             ]
            ],
            "type": "surface"
           }
          ],
          "table": [
           {
            "cells": {
             "fill": {
              "color": "#EBF0F8"
             },
             "line": {
              "color": "white"
             }
            },
            "header": {
             "fill": {
              "color": "#C8D4E3"
             },
             "line": {
              "color": "white"
             }
            },
            "type": "table"
           }
          ]
         },
         "layout": {
          "annotationdefaults": {
           "arrowcolor": "#2a3f5f",
           "arrowhead": 0,
           "arrowwidth": 1
          },
          "autotypenumbers": "strict",
          "coloraxis": {
           "colorbar": {
            "outlinewidth": 0,
            "ticks": ""
           }
          },
          "colorscale": {
           "diverging": [
            [
             0,
             "#8e0152"
            ],
            [
             0.1,
             "#c51b7d"
            ],
            [
             0.2,
             "#de77ae"
            ],
            [
             0.3,
             "#f1b6da"
            ],
            [
             0.4,
             "#fde0ef"
            ],
            [
             0.5,
             "#f7f7f7"
            ],
            [
             0.6,
             "#e6f5d0"
            ],
            [
             0.7,
             "#b8e186"
            ],
            [
             0.8,
             "#7fbc41"
            ],
            [
             0.9,
             "#4d9221"
            ],
            [
             1,
             "#276419"
            ]
           ],
           "sequential": [
            [
             0,
             "#0d0887"
            ],
            [
             0.1111111111111111,
             "#46039f"
            ],
            [
             0.2222222222222222,
             "#7201a8"
            ],
            [
             0.3333333333333333,
             "#9c179e"
            ],
            [
             0.4444444444444444,
             "#bd3786"
            ],
            [
             0.5555555555555556,
             "#d8576b"
            ],
            [
             0.6666666666666666,
             "#ed7953"
            ],
            [
             0.7777777777777778,
             "#fb9f3a"
            ],
            [
             0.8888888888888888,
             "#fdca26"
            ],
            [
             1,
             "#f0f921"
            ]
           ],
           "sequentialminus": [
            [
             0,
             "#0d0887"
            ],
            [
             0.1111111111111111,
             "#46039f"
            ],
            [
             0.2222222222222222,
             "#7201a8"
            ],
            [
             0.3333333333333333,
             "#9c179e"
            ],
            [
             0.4444444444444444,
             "#bd3786"
            ],
            [
             0.5555555555555556,
             "#d8576b"
            ],
            [
             0.6666666666666666,
             "#ed7953"
            ],
            [
             0.7777777777777778,
             "#fb9f3a"
            ],
            [
             0.8888888888888888,
             "#fdca26"
            ],
            [
             1,
             "#f0f921"
            ]
           ]
          },
          "colorway": [
           "#636efa",
           "#EF553B",
           "#00cc96",
           "#ab63fa",
           "#FFA15A",
           "#19d3f3",
           "#FF6692",
           "#B6E880",
           "#FF97FF",
           "#FECB52"
          ],
          "font": {
           "color": "#2a3f5f"
          },
          "geo": {
           "bgcolor": "white",
           "lakecolor": "white",
           "landcolor": "#E5ECF6",
           "showlakes": true,
           "showland": true,
           "subunitcolor": "white"
          },
          "hoverlabel": {
           "align": "left"
          },
          "hovermode": "closest",
          "mapbox": {
           "style": "light"
          },
          "paper_bgcolor": "white",
          "plot_bgcolor": "#E5ECF6",
          "polar": {
           "angularaxis": {
            "gridcolor": "white",
            "linecolor": "white",
            "ticks": ""
           },
           "bgcolor": "#E5ECF6",
           "radialaxis": {
            "gridcolor": "white",
            "linecolor": "white",
            "ticks": ""
           }
          },
          "scene": {
           "xaxis": {
            "backgroundcolor": "#E5ECF6",
            "gridcolor": "white",
            "gridwidth": 2,
            "linecolor": "white",
            "showbackground": true,
            "ticks": "",
            "zerolinecolor": "white"
           },
           "yaxis": {
            "backgroundcolor": "#E5ECF6",
            "gridcolor": "white",
            "gridwidth": 2,
            "linecolor": "white",
            "showbackground": true,
            "ticks": "",
            "zerolinecolor": "white"
           },
           "zaxis": {
            "backgroundcolor": "#E5ECF6",
            "gridcolor": "white",
            "gridwidth": 2,
            "linecolor": "white",
            "showbackground": true,
            "ticks": "",
            "zerolinecolor": "white"
           }
          },
          "shapedefaults": {
           "line": {
            "color": "#2a3f5f"
           }
          },
          "ternary": {
           "aaxis": {
            "gridcolor": "white",
            "linecolor": "white",
            "ticks": ""
           },
           "baxis": {
            "gridcolor": "white",
            "linecolor": "white",
            "ticks": ""
           },
           "bgcolor": "#E5ECF6",
           "caxis": {
            "gridcolor": "white",
            "linecolor": "white",
            "ticks": ""
           }
          },
          "title": {
           "x": 0.05
          },
          "xaxis": {
           "automargin": true,
           "gridcolor": "white",
           "linecolor": "white",
           "ticks": "",
           "title": {
            "standoff": 15
           },
           "zerolinecolor": "white",
           "zerolinewidth": 2
          },
          "yaxis": {
           "automargin": true,
           "gridcolor": "white",
           "linecolor": "white",
           "ticks": "",
           "title": {
            "standoff": 15
           },
           "zerolinecolor": "white",
           "zerolinewidth": 2
          }
         }
        },
        "title": {
         "text": "Null Percentage of Companies by Cap Classification"
        },
        "xaxis": {
         "anchor": "y",
         "domain": [
          0,
          1
         ],
         "title": {
          "text": "Company"
         }
        },
        "yaxis": {
         "anchor": "x",
         "domain": [
          0,
          1
         ],
         "title": {
          "text": "Null_percentage"
         }
        }
       }
      }
     },
     "metadata": {},
     "output_type": "display_data"
    }
   ],
   "source": [
    "fig = px.bar(df_null_percentage, x='Company', y='Null_percentage', color='Type',\n",
    "             labels={'Null_percentage': 'Null_percentage'},\n",
    "             title='Null Percentage of Companies by Cap Classification',\n",
    "             hover_data=['Company', 'Null_percentage', 'Type'])\n",
    "fig.update_layout(barmode='group', xaxis_title='Company', yaxis_title='Null_percentage')\n",
    "fig.show()\n"
   ]
  },
  {
   "cell_type": "markdown",
   "metadata": {},
   "source": [
    "Components over time of the OMXSPI [here](https://indexes.nasdaqomx.com/Index/Weighting/OMXSPI)\n",
    "\n",
    "Methodology of the index [here](https://indexes.nasdaqomx.com/docs/Methodology_Nordic_AllShare.pdf)"
   ]
  },
  {
   "cell_type": "markdown",
   "metadata": {},
   "source": [
    "## Proxy A:\n",
    "\n",
    "Daily raw stock returns with absolute values exceeding 8% and 10%"
   ]
  },
  {
   "cell_type": "code",
   "execution_count": 15,
   "metadata": {},
   "outputs": [],
   "source": [
    "threshold_8_percent = 0.08\n",
    "threshold_10_percent = 0.10\n",
    "\n",
    "proxy_a_df = pd.DataFrame(df_price['Date'].copy())\n"
   ]
  },
  {
   "cell_type": "code",
   "execution_count": 16,
   "metadata": {},
   "outputs": [],
   "source": [
    "for column in df_price.columns[1:-1]:  # Excluding the 'Date' and '^OMXSPI' columns.\n",
    "\n",
    "    stock_returns = df_price[column].pct_change()\n",
    "\n",
    "    # Create proxy columns based on the defined thresholds\n",
    "    proxy_a_df[f'{column}_Proxy_A_8%'] = (abs(stock_returns) > threshold_8_percent).astype(int)\n",
    "    proxy_a_df[f'{column}_Proxy_A_10%'] = (abs(stock_returns) > threshold_10_percent).astype(int)\n",
    "\n",
    "index_returns = df_price['^OMXSPI'].pct_change()\n",
    "proxy_a_df['OMXSPI_Return_Direction'] = (index_returns > 0).astype(int)\n",
    "\n",
    "\n",
    "proxy_a_df.to_excel(f'{path}/raw_data/main/proxy_a.xlsx')\n"
   ]
  },
  {
   "attachments": {
    "summary_proxy_a.png": {
     "image/png": "[encoded data removed]"
    }
   },
   "cell_type": "markdown",
   "metadata": {},
   "source": [
    "![summary_proxy_a.png](attachment:summary_proxy_a.png)"
   ]
  },
  {
   "cell_type": "markdown",
   "metadata": {},
   "source": [
    "## Proxy B:\n",
    "\n",
    "Daily raw stock returns with absolute values exceeding 3 and 4 standard deviations."
   ]
  },
  {
   "cell_type": "code",
   "execution_count": null,
   "metadata": {},
   "outputs": [],
   "source": [
    "price_2013 = yf.download(tickers_list, start=\"2013-03-06\")\n"
   ]
  },
  {
   "cell_type": "code",
   "execution_count": 17,
   "metadata": {},
   "outputs": [
    {
     "data": {
      "text/plain": [
       "Index(['Date'], dtype='object')"
      ]
     },
     "execution_count": 17,
     "metadata": {},
     "output_type": "execute_result"
    }
   ],
   "source": [
    "threshold_3_std = 3\n",
    "threshold_4_std = 4\n",
    "window_size = 250 # Number of trading days for calculating the rolling standard deviation\n",
    "df_price_2013 = pd.read_excel(f\"{path}/raw_data/main/price_2013.xlsx\")\n",
    "\n",
    "proxy_b_df = pd.DataFrame(df_price['Date'].copy())\n"
   ]
  },
  {
   "cell_type": "code",
   "execution_count": 18,
   "metadata": {},
   "outputs": [],
   "source": [
    "for column in df_price_2013.columns[1:-1]:  # Exclude the 'Date' and '^OMXSPI' columns\n",
    "    stock_returns = df_price_2013[column].pct_change()\n",
    "    rolling_std = stock_returns.rolling(window=window_size).std()\n",
    "    result_df = pd.DataFrame({\n",
    "    'Date': df_price_2013['Date'],\n",
    "    'Stock_Returns': stock_returns,\n",
    "    'Rolling_Std': rolling_std\n",
    "})\n",
    "\n",
    "    result_df[f'{column}_Proxy_B_3std'] = (abs(stock_returns) > threshold_3_std * rolling_std).astype(int)\n",
    "    result_df[f'{column}_Proxy_B_4std'] = (abs(stock_returns) > threshold_4_std * rolling_std).astype(int)\n",
    "\n",
    "    result_df = result_df[result_df['Date']>='2014-03-06']\n",
    "    result_df.drop(columns=['Stock_Returns','Rolling_Std'],inplace=True)\n",
    "    proxy_b_df=pd.merge(proxy_b_df,result_df,left_on='Date', right_on='Date', how='left')\n",
    "proxy_b_df.head()\n",
    "\n",
    "index_returns = df_price['^OMXSPI'].pct_change()\n",
    "\n",
    "proxy_b_df['OMXSPI_Return_Direction'] = (index_returns > 0).astype(int)\n",
    "\n",
    "proxy_b_df.to_excel(f'{path}/raw_data/main/proxy_b.xlsx')\n"
   ]
  },
  {
   "attachments": {
    "summary_proxy_b.png": {
     "image/png": "[encoded data removed]"
    }
   },
   "cell_type": "markdown",
   "metadata": {},
   "source": [
    "![summary_proxy_b.png](attachment:summary_proxy_b.png)"
   ]
  },
  {
   "cell_type": "code",
   "execution_count": 19,
   "metadata": {},
   "outputs": [
    {
     "data": {
      "text/html": [
       "<div>\n",
       "<style scoped>\n",
       "    .dataframe tbody tr th:only-of-type {\n",
       "        vertical-align: middle;\n",
       "    }\n",
       "\n",
       "    .dataframe tbody tr th {\n",
       "        vertical-align: top;\n",
       "    }\n",
       "\n",
       "    .dataframe thead th {\n",
       "        text-align: right;\n",
       "    }\n",
       "</style>\n",
       "<table border=\"1\" class=\"dataframe\">\n",
       "  <thead>\n",
       "    <tr style=\"text-align: right;\">\n",
       "      <th></th>\n",
       "      <th>Date</th>\n",
       "      <th>8TRA.ST_Proxy_B_3std</th>\n",
       "      <th>8TRA.ST_Proxy_B_4std</th>\n",
       "      <th>AAK.ST_Proxy_B_3std</th>\n",
       "      <th>AAK.ST_Proxy_B_4std</th>\n",
       "      <th>ABB.ST_Proxy_B_3std</th>\n",
       "      <th>ABB.ST_Proxy_B_4std</th>\n",
       "      <th>ABLI.ST_Proxy_B_3std</th>\n",
       "      <th>ABLI.ST_Proxy_B_4std</th>\n",
       "      <th>ACAD.ST_Proxy_B_3std</th>\n",
       "      <th>...</th>\n",
       "      <th>WTW-A.ST_Proxy_B_4std</th>\n",
       "      <th>XANO-B.ST_Proxy_B_3std</th>\n",
       "      <th>XANO-B.ST_Proxy_B_4std</th>\n",
       "      <th>XBRANE.ST_Proxy_B_3std</th>\n",
       "      <th>XBRANE.ST_Proxy_B_4std</th>\n",
       "      <th>XSPRAY.ST_Proxy_B_3std</th>\n",
       "      <th>XSPRAY.ST_Proxy_B_4std</th>\n",
       "      <th>XVIVO.ST_Proxy_B_3std</th>\n",
       "      <th>XVIVO.ST_Proxy_B_4std</th>\n",
       "      <th>OMXSPI_Return_Direction</th>\n",
       "    </tr>\n",
       "  </thead>\n",
       "  <tbody>\n",
       "    <tr>\n",
       "      <th>0</th>\n",
       "      <td>2014-03-06</td>\n",
       "      <td>0</td>\n",
       "      <td>0</td>\n",
       "      <td>0</td>\n",
       "      <td>0</td>\n",
       "      <td>0</td>\n",
       "      <td>0</td>\n",
       "      <td>0</td>\n",
       "      <td>0</td>\n",
       "      <td>0</td>\n",
       "      <td>...</td>\n",
       "      <td>0</td>\n",
       "      <td>0</td>\n",
       "      <td>0</td>\n",
       "      <td>0</td>\n",
       "      <td>0</td>\n",
       "      <td>0</td>\n",
       "      <td>0</td>\n",
       "      <td>0</td>\n",
       "      <td>0</td>\n",
       "      <td>0</td>\n",
       "    </tr>\n",
       "    <tr>\n",
       "      <th>1</th>\n",
       "      <td>2014-03-07</td>\n",
       "      <td>0</td>\n",
       "      <td>0</td>\n",
       "      <td>0</td>\n",
       "      <td>0</td>\n",
       "      <td>0</td>\n",
       "      <td>0</td>\n",
       "      <td>0</td>\n",
       "      <td>0</td>\n",
       "      <td>0</td>\n",
       "      <td>...</td>\n",
       "      <td>0</td>\n",
       "      <td>0</td>\n",
       "      <td>0</td>\n",
       "      <td>0</td>\n",
       "      <td>0</td>\n",
       "      <td>0</td>\n",
       "      <td>0</td>\n",
       "      <td>0</td>\n",
       "      <td>0</td>\n",
       "      <td>0</td>\n",
       "    </tr>\n",
       "    <tr>\n",
       "      <th>2</th>\n",
       "      <td>2014-03-10</td>\n",
       "      <td>0</td>\n",
       "      <td>0</td>\n",
       "      <td>0</td>\n",
       "      <td>0</td>\n",
       "      <td>0</td>\n",
       "      <td>0</td>\n",
       "      <td>0</td>\n",
       "      <td>0</td>\n",
       "      <td>0</td>\n",
       "      <td>...</td>\n",
       "      <td>0</td>\n",
       "      <td>0</td>\n",
       "      <td>0</td>\n",
       "      <td>0</td>\n",
       "      <td>0</td>\n",
       "      <td>0</td>\n",
       "      <td>0</td>\n",
       "      <td>0</td>\n",
       "      <td>0</td>\n",
       "      <td>1</td>\n",
       "    </tr>\n",
       "    <tr>\n",
       "      <th>3</th>\n",
       "      <td>2014-03-11</td>\n",
       "      <td>0</td>\n",
       "      <td>0</td>\n",
       "      <td>0</td>\n",
       "      <td>0</td>\n",
       "      <td>0</td>\n",
       "      <td>0</td>\n",
       "      <td>0</td>\n",
       "      <td>0</td>\n",
       "      <td>0</td>\n",
       "      <td>...</td>\n",
       "      <td>0</td>\n",
       "      <td>0</td>\n",
       "      <td>0</td>\n",
       "      <td>0</td>\n",
       "      <td>0</td>\n",
       "      <td>0</td>\n",
       "      <td>0</td>\n",
       "      <td>0</td>\n",
       "      <td>0</td>\n",
       "      <td>0</td>\n",
       "    </tr>\n",
       "    <tr>\n",
       "      <th>4</th>\n",
       "      <td>2014-03-12</td>\n",
       "      <td>0</td>\n",
       "      <td>0</td>\n",
       "      <td>0</td>\n",
       "      <td>0</td>\n",
       "      <td>0</td>\n",
       "      <td>0</td>\n",
       "      <td>0</td>\n",
       "      <td>0</td>\n",
       "      <td>0</td>\n",
       "      <td>...</td>\n",
       "      <td>0</td>\n",
       "      <td>0</td>\n",
       "      <td>0</td>\n",
       "      <td>0</td>\n",
       "      <td>0</td>\n",
       "      <td>0</td>\n",
       "      <td>0</td>\n",
       "      <td>0</td>\n",
       "      <td>0</td>\n",
       "      <td>0</td>\n",
       "    </tr>\n",
       "  </tbody>\n",
       "</table>\n",
       "<p>5 rows × 788 columns</p>\n",
       "</div>"
      ],
      "text/plain": [
       "        Date  8TRA.ST_Proxy_B_3std  8TRA.ST_Proxy_B_4std  AAK.ST_Proxy_B_3std  \\\n",
       "0 2014-03-06                     0                     0                    0   \n",
       "1 2014-03-07                     0                     0                    0   \n",
       "2 2014-03-10                     0                     0                    0   \n",
       "3 2014-03-11                     0                     0                    0   \n",
       "4 2014-03-12                     0                     0                    0   \n",
       "\n",
       "   AAK.ST_Proxy_B_4std  ABB.ST_Proxy_B_3std  ABB.ST_Proxy_B_4std  \\\n",
       "0                    0                    0                    0   \n",
       "1                    0                    0                    0   \n",
       "2                    0                    0                    0   \n",
       "3                    0                    0                    0   \n",
       "4                    0                    0                    0   \n",
       "\n",
       "   ABLI.ST_Proxy_B_3std  ABLI.ST_Proxy_B_4std  ACAD.ST_Proxy_B_3std  ...  \\\n",
       "0                     0                     0                     0  ...   \n",
       "1                     0                     0                     0  ...   \n",
       "2                     0                     0                     0  ...   \n",
       "3                     0                     0                     0  ...   \n",
       "4                     0                     0                     0  ...   \n",
       "\n",
       "   WTW-A.ST_Proxy_B_4std  XANO-B.ST_Proxy_B_3std  XANO-B.ST_Proxy_B_4std  \\\n",
       "0                      0                       0                       0   \n",
       "1                      0                       0                       0   \n",
       "2                      0                       0                       0   \n",
       "3                      0                       0                       0   \n",
       "4                      0                       0                       0   \n",
       "\n",
       "   XBRANE.ST_Proxy_B_3std  XBRANE.ST_Proxy_B_4std  XSPRAY.ST_Proxy_B_3std  \\\n",
       "0                       0                       0                       0   \n",
       "1                       0                       0                       0   \n",
       "2                       0                       0                       0   \n",
       "3                       0                       0                       0   \n",
       "4                       0                       0                       0   \n",
       "\n",
       "   XSPRAY.ST_Proxy_B_4std  XVIVO.ST_Proxy_B_3std  XVIVO.ST_Proxy_B_4std  \\\n",
       "0                       0                      0                      0   \n",
       "1                       0                      0                      0   \n",
       "2                       0                      0                      0   \n",
       "3                       0                      0                      0   \n",
       "4                       0                      0                      0   \n",
       "\n",
       "   OMXSPI_Return_Direction  \n",
       "0                        0  \n",
       "1                        0  \n",
       "2                        1  \n",
       "3                        0  \n",
       "4                        0  \n",
       "\n",
       "[5 rows x 788 columns]"
      ]
     },
     "execution_count": 19,
     "metadata": {},
     "output_type": "execute_result"
    }
   ],
   "source": [
    "proxy_b_df.head()\n"
   ]
  },
  {
   "cell_type": "markdown",
   "metadata": {},
   "source": [
    "## Proxy C\n",
    "\n",
    "Daily abnormal stock returns with absolute values exceeding 8% and 10% using Market Model Adjusted Returns"
   ]
  },
  {
   "cell_type": "code",
   "execution_count": 23,
   "metadata": {},
   "outputs": [],
   "source": [
    "threshold_8_percent = 0.08\n",
    "threshold_10_percent = 0.10\n",
    "window_size = 250  # Number of trading days for estimating beta\n",
    "\n",
    "risk_free_rate_df= pd.read_excel(f\"{path}/raw_data/main/risk_free.xlsx\")\n",
    "\n",
    "proxy_c_df = pd.DataFrame(df_price['Date'].copy())\n",
    "\n",
    "\n",
    "for column in df_price_2013.columns[1:-1]:  # Exclude the 'Date' and '^OMXSPI' column\n",
    "\n",
    "    stock_returns = df_price_2013[column].pct_change()\n",
    "\n",
    "    # Market returns (e.g., using OMXSPI as a proxy for the market)\n",
    "    market_returns = df_price_2013['^OMXSPI'].pct_change()\n",
    "\n",
    "    # beta over the preceding 250 trading days\n",
    "\n",
    "\n",
    "    result_df = pd.DataFrame({\n",
    "    'Date': df_price_2013['Date'],\n",
    "    'Stock_Returns': stock_returns,\n",
    "    'Market_Returns': market_returns\n",
    "})\n",
    "    result_df['beta'] = result_df['Stock_Returns'].rolling(window=window_size).cov(result_df['Market_Returns']).div(result_df['Market_Returns'].rolling(window=window_size).var())\n",
    "    result_df = pd.merge(result_df,risk_free_rate_df, left_on='Date', right_on='Date', how='left')\n",
    "    result_df['Swedish Treasury Bills (SE TB 1 Month)'].fillna(method='ffill', inplace=True)\n",
    "\n",
    "    result_df['MMAR'] = result_df['Stock_Returns'] - (result_df['Market_Returns']+ result_df['beta'] * (result_df['Market_Returns'] - result_df['Swedish Treasury Bills (SE TB 1 Month)']))\n",
    "\n",
    "    result_df[f'{column}_ARs'] = result_df['Stock_Returns'] - result_df['MMAR']\n",
    "\n",
    "    result_df.drop(columns=['Stock_Returns','Market_Returns','beta','Swedish Treasury Bills (SE TB 1 Month)','MMAR'],inplace=True)\n",
    "\n",
    "    proxy_c_df = pd.merge(proxy_c_df,result_df, left_on='Date',right_on='Date',how='left')\n",
    "\n",
    "    proxy_c_df[f'{column}_Proxy_C_8%'] = (abs(proxy_c_df[f'{column}_ARs']) > threshold_8_percent).astype(int)\n",
    "    proxy_c_df[f'{column}_Proxy_C_10%'] = (abs(proxy_c_df[f'{column}_ARs']) > threshold_10_percent).astype(int)\n",
    "    proxy_c_df.drop(columns=[f'{column}_ARs'],inplace=True)\n",
    "\n",
    "proxy_c_df.to_excel(f\"{path}/raw_data/main/proxy_c.xlsx\")\n"
   ]
  },
  {
   "attachments": {
    "summary_proxy_c.png": {
     "image/png": "[encoded data removed]"
    }
   },
   "cell_type": "markdown",
   "metadata": {},
   "source": [
    "![summary_proxy_c.png](attachment:summary_proxy_c.png)"
   ]
  },
  {
   "cell_type": "markdown",
   "metadata": {},
   "source": []
  }
 ],
 "metadata": {
  "kernelspec": {
   "display_name": "empirical",
   "language": "python",
   "name": "python3"
  },
  "language_info": {
   "codemirror_mode": {
    "name": "ipython",
    "version": 3
   },
   "file_extension": ".py",
   "mimetype": "text/x-python",
   "name": "python",
   "nbconvert_exporter": "python",
   "pygments_lexer": "ipython3",
   "version": "3.10.6"
  }
 },
 "nbformat": 4,
 "nbformat_minor": 2
}
