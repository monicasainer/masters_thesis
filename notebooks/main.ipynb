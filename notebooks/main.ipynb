{
 "cells": [
  {
   "cell_type": "markdown",
   "metadata": {},
   "source": [
    "# Empirical Analysis"
   ]
  },
  {
   "cell_type": "markdown",
   "metadata": {},
   "source": [
    "## Extracting the data"
   ]
  },
  {
   "cell_type": "markdown",
   "metadata": {},
   "source": [
    "Import the necessary libraries"
   ]
  },
  {
   "cell_type": "code",
   "execution_count": 1,
   "metadata": {},
   "outputs": [],
   "source": [
    "import os\n",
    "import sys\n",
    "import yfinance as yf\n",
    "import pandas as pd\n",
    "import numpy as np\n",
    "import matplotlib.pyplot as plt\n",
    "import plotly.express as px\n",
    "import warnings\n"
   ]
  },
  {
   "cell_type": "code",
   "execution_count": 2,
   "metadata": {},
   "outputs": [
    {
     "name": "stdout",
     "output_type": "stream",
     "text": [
      "/Users/monic/Desktop/Master_Thesis/empirical\n"
     ]
    }
   ],
   "source": [
    "warnings.filterwarnings('ignore')\n",
    "path = os.getenv(\"ROOT_PATH\")\n",
    "sys.path.append(path)\n",
    "print(path)\n"
   ]
  },
  {
   "cell_type": "markdown",
   "metadata": {},
   "source": [
    "The list of **all the current components** of the OMX Stockholm PI index can be found [here](https://indexes.nasdaqomx.com/Index/Weighting/OMXSPI) by the end of the day of 16th February 2024.\n",
    "\n",
    "The list of **large-caps** of the OMX Stockholm PI index can be found [here](https://indexes.nasdaqomx.com/Index/Weighting/OMXSLCPI) by the end of the day of 16th February 2024.\n",
    "\n",
    "The list of **mid-caps** of the OMX Stockholm PI index can be found [here](https://indexes.nasdaqomx.com/Index/Weighting/OMXSMCPI) by the end of the day of 16th February 2024.\n",
    "\n",
    "The list of **small-caps** of the OMS Stockholm PI index can be found [here](https://indexes.nasdaqomx.com/Index/Weighting/OMXSSCPI) by the end of the day of 16th February 2024.\n"
   ]
  },
  {
   "cell_type": "markdown",
   "metadata": {},
   "source": [
    "In the following steps we're charging the name of all the components and turn them into a list.\n",
    "\n",
    "The latter will be used to fetch the data - adjusted closed price and volume - from Yahoo Finance. And save accordingly in a file called `raw_data.csv`"
   ]
  },
  {
   "cell_type": "code",
   "execution_count": 3,
   "metadata": {},
   "outputs": [],
   "source": [
    "tickers= pd.read_excel(f\"{path}/raw_data/Weightings_20240216_OMXSPI.xlsx\",header=0)\n",
    "# If error shows up run: !pip3 install xlrd\n"
   ]
  },
  {
   "cell_type": "code",
   "execution_count": 4,
   "metadata": {},
   "outputs": [
    {
     "data": {
      "text/html": [
       "<div>\n",
       "<style scoped>\n",
       "    .dataframe tbody tr th:only-of-type {\n",
       "        vertical-align: middle;\n",
       "    }\n",
       "\n",
       "    .dataframe tbody tr th {\n",
       "        vertical-align: top;\n",
       "    }\n",
       "\n",
       "    .dataframe thead th {\n",
       "        text-align: right;\n",
       "    }\n",
       "</style>\n",
       "<table border=\"1\" class=\"dataframe\">\n",
       "  <thead>\n",
       "    <tr style=\"text-align: right;\">\n",
       "      <th></th>\n",
       "      <th>Company Name</th>\n",
       "      <th>Security-Symbol</th>\n",
       "    </tr>\n",
       "  </thead>\n",
       "  <tbody>\n",
       "    <tr>\n",
       "      <th>0</th>\n",
       "      <td>TRATON SE</td>\n",
       "      <td>8TRA.ST</td>\n",
       "    </tr>\n",
       "    <tr>\n",
       "      <th>1</th>\n",
       "      <td>AAK AB</td>\n",
       "      <td>AAK.ST</td>\n",
       "    </tr>\n",
       "    <tr>\n",
       "      <th>2</th>\n",
       "      <td>ABB Ltd</td>\n",
       "      <td>ABB.ST</td>\n",
       "    </tr>\n",
       "    <tr>\n",
       "      <th>3</th>\n",
       "      <td>Abliva AB</td>\n",
       "      <td>ABLI.ST</td>\n",
       "    </tr>\n",
       "    <tr>\n",
       "      <th>4</th>\n",
       "      <td>AcadeMedia AB</td>\n",
       "      <td>ACAD.ST</td>\n",
       "    </tr>\n",
       "  </tbody>\n",
       "</table>\n",
       "</div>"
      ],
      "text/plain": [
       "    Company Name Security-Symbol\n",
       "0      TRATON SE         8TRA.ST\n",
       "1         AAK AB          AAK.ST\n",
       "2        ABB Ltd          ABB.ST\n",
       "3      Abliva AB         ABLI.ST\n",
       "4  AcadeMedia AB         ACAD.ST"
      ]
     },
     "execution_count": 4,
     "metadata": {},
     "output_type": "execute_result"
    }
   ],
   "source": [
    "tickers.head()\n"
   ]
  },
  {
   "cell_type": "code",
   "execution_count": 5,
   "metadata": {},
   "outputs": [],
   "source": [
    "tickers_list=tickers['Security-Symbol'].to_list()\n"
   ]
  },
  {
   "cell_type": "code",
   "execution_count": 6,
   "metadata": {},
   "outputs": [
    {
     "name": "stderr",
     "output_type": "stream",
     "text": [
      "[*********************100%%**********************]  393 of 393 completed\n"
     ]
    }
   ],
   "source": [
    "data = yf.download(tickers_list, start=\"2013-01-01\")\n"
   ]
  },
  {
   "cell_type": "code",
   "execution_count": 7,
   "metadata": {},
   "outputs": [
    {
     "data": {
      "text/html": [
       "<div>\n",
       "<style scoped>\n",
       "    .dataframe tbody tr th:only-of-type {\n",
       "        vertical-align: middle;\n",
       "    }\n",
       "\n",
       "    .dataframe tbody tr th {\n",
       "        vertical-align: top;\n",
       "    }\n",
       "\n",
       "    .dataframe thead tr th {\n",
       "        text-align: left;\n",
       "    }\n",
       "\n",
       "    .dataframe thead tr:last-of-type th {\n",
       "        text-align: right;\n",
       "    }\n",
       "</style>\n",
       "<table border=\"1\" class=\"dataframe\">\n",
       "  <thead>\n",
       "    <tr>\n",
       "      <th>Price</th>\n",
       "      <th colspan=\"10\" halign=\"left\">Adj Close</th>\n",
       "      <th>...</th>\n",
       "      <th colspan=\"10\" halign=\"left\">Volume</th>\n",
       "    </tr>\n",
       "    <tr>\n",
       "      <th>Ticker</th>\n",
       "      <th>8TRA.ST</th>\n",
       "      <th>AAK.ST</th>\n",
       "      <th>ABB.ST</th>\n",
       "      <th>ABLI.ST</th>\n",
       "      <th>ACAD.ST</th>\n",
       "      <th>ACE.ST</th>\n",
       "      <th>ACRI-A.ST</th>\n",
       "      <th>ACRI-B.ST</th>\n",
       "      <th>ACTI.ST</th>\n",
       "      <th>ADDT-B.ST</th>\n",
       "      <th>...</th>\n",
       "      <th>VPLAY-B.ST</th>\n",
       "      <th>WALL-B.ST</th>\n",
       "      <th>WBGR-B.ST</th>\n",
       "      <th>WIHL.ST</th>\n",
       "      <th>WISE.ST</th>\n",
       "      <th>WTW-A.ST</th>\n",
       "      <th>XANO-B.ST</th>\n",
       "      <th>XBRANE.ST</th>\n",
       "      <th>XSPRAY.ST</th>\n",
       "      <th>XVIVO.ST</th>\n",
       "    </tr>\n",
       "    <tr>\n",
       "      <th>Date</th>\n",
       "      <th></th>\n",
       "      <th></th>\n",
       "      <th></th>\n",
       "      <th></th>\n",
       "      <th></th>\n",
       "      <th></th>\n",
       "      <th></th>\n",
       "      <th></th>\n",
       "      <th></th>\n",
       "      <th></th>\n",
       "      <th></th>\n",
       "      <th></th>\n",
       "      <th></th>\n",
       "      <th></th>\n",
       "      <th></th>\n",
       "      <th></th>\n",
       "      <th></th>\n",
       "      <th></th>\n",
       "      <th></th>\n",
       "      <th></th>\n",
       "      <th></th>\n",
       "    </tr>\n",
       "  </thead>\n",
       "  <tbody>\n",
       "    <tr>\n",
       "      <th>2013-01-02</th>\n",
       "      <td>NaN</td>\n",
       "      <td>39.280941</td>\n",
       "      <td>126.969963</td>\n",
       "      <td>13.919730</td>\n",
       "      <td>NaN</td>\n",
       "      <td>NaN</td>\n",
       "      <td>NaN</td>\n",
       "      <td>NaN</td>\n",
       "      <td>31.909622</td>\n",
       "      <td>11.440967</td>\n",
       "      <td>...</td>\n",
       "      <td>NaN</td>\n",
       "      <td>329316</td>\n",
       "      <td>NaN</td>\n",
       "      <td>216712</td>\n",
       "      <td>3273</td>\n",
       "      <td>NaN</td>\n",
       "      <td>5632</td>\n",
       "      <td>NaN</td>\n",
       "      <td>NaN</td>\n",
       "      <td>37698</td>\n",
       "    </tr>\n",
       "    <tr>\n",
       "      <th>2013-01-03</th>\n",
       "      <td>NaN</td>\n",
       "      <td>39.280941</td>\n",
       "      <td>125.590866</td>\n",
       "      <td>13.844893</td>\n",
       "      <td>NaN</td>\n",
       "      <td>NaN</td>\n",
       "      <td>NaN</td>\n",
       "      <td>NaN</td>\n",
       "      <td>32.190765</td>\n",
       "      <td>11.410128</td>\n",
       "      <td>...</td>\n",
       "      <td>NaN</td>\n",
       "      <td>185792</td>\n",
       "      <td>NaN</td>\n",
       "      <td>107776</td>\n",
       "      <td>2280</td>\n",
       "      <td>NaN</td>\n",
       "      <td>17749</td>\n",
       "      <td>NaN</td>\n",
       "      <td>NaN</td>\n",
       "      <td>24970</td>\n",
       "    </tr>\n",
       "    <tr>\n",
       "      <th>2013-01-04</th>\n",
       "      <td>NaN</td>\n",
       "      <td>39.565578</td>\n",
       "      <td>126.326378</td>\n",
       "      <td>13.545544</td>\n",
       "      <td>NaN</td>\n",
       "      <td>NaN</td>\n",
       "      <td>NaN</td>\n",
       "      <td>NaN</td>\n",
       "      <td>32.190765</td>\n",
       "      <td>11.502641</td>\n",
       "      <td>...</td>\n",
       "      <td>NaN</td>\n",
       "      <td>160304</td>\n",
       "      <td>NaN</td>\n",
       "      <td>215020</td>\n",
       "      <td>3305</td>\n",
       "      <td>NaN</td>\n",
       "      <td>13726</td>\n",
       "      <td>NaN</td>\n",
       "      <td>NaN</td>\n",
       "      <td>37145</td>\n",
       "    </tr>\n",
       "    <tr>\n",
       "      <th>2013-01-07</th>\n",
       "      <td>NaN</td>\n",
       "      <td>39.779072</td>\n",
       "      <td>125.223076</td>\n",
       "      <td>13.470707</td>\n",
       "      <td>NaN</td>\n",
       "      <td>NaN</td>\n",
       "      <td>NaN</td>\n",
       "      <td>NaN</td>\n",
       "      <td>32.050194</td>\n",
       "      <td>11.502641</td>\n",
       "      <td>...</td>\n",
       "      <td>NaN</td>\n",
       "      <td>226744</td>\n",
       "      <td>NaN</td>\n",
       "      <td>170032</td>\n",
       "      <td>9196</td>\n",
       "      <td>NaN</td>\n",
       "      <td>18712</td>\n",
       "      <td>NaN</td>\n",
       "      <td>NaN</td>\n",
       "      <td>30260</td>\n",
       "    </tr>\n",
       "    <tr>\n",
       "      <th>2013-01-08</th>\n",
       "      <td>NaN</td>\n",
       "      <td>39.280941</td>\n",
       "      <td>125.774734</td>\n",
       "      <td>13.770056</td>\n",
       "      <td>NaN</td>\n",
       "      <td>NaN</td>\n",
       "      <td>NaN</td>\n",
       "      <td>NaN</td>\n",
       "      <td>31.347340</td>\n",
       "      <td>11.718507</td>\n",
       "      <td>...</td>\n",
       "      <td>NaN</td>\n",
       "      <td>495576</td>\n",
       "      <td>NaN</td>\n",
       "      <td>210944</td>\n",
       "      <td>2322</td>\n",
       "      <td>NaN</td>\n",
       "      <td>87030</td>\n",
       "      <td>NaN</td>\n",
       "      <td>NaN</td>\n",
       "      <td>23163</td>\n",
       "    </tr>\n",
       "  </tbody>\n",
       "</table>\n",
       "<p>5 rows × 2358 columns</p>\n",
       "</div>"
      ],
      "text/plain": [
       "Price      Adj Close                                                   \\\n",
       "Ticker       8TRA.ST     AAK.ST      ABB.ST    ABLI.ST ACAD.ST ACE.ST   \n",
       "Date                                                                    \n",
       "2013-01-02       NaN  39.280941  126.969963  13.919730     NaN    NaN   \n",
       "2013-01-03       NaN  39.280941  125.590866  13.844893     NaN    NaN   \n",
       "2013-01-04       NaN  39.565578  126.326378  13.545544     NaN    NaN   \n",
       "2013-01-07       NaN  39.779072  125.223076  13.470707     NaN    NaN   \n",
       "2013-01-08       NaN  39.280941  125.774734  13.770056     NaN    NaN   \n",
       "\n",
       "Price                                                 ...     Volume  \\\n",
       "Ticker     ACRI-A.ST ACRI-B.ST    ACTI.ST  ADDT-B.ST  ... VPLAY-B.ST   \n",
       "Date                                                  ...              \n",
       "2013-01-02       NaN       NaN  31.909622  11.440967  ...        NaN   \n",
       "2013-01-03       NaN       NaN  32.190765  11.410128  ...        NaN   \n",
       "2013-01-04       NaN       NaN  32.190765  11.502641  ...        NaN   \n",
       "2013-01-07       NaN       NaN  32.050194  11.502641  ...        NaN   \n",
       "2013-01-08       NaN       NaN  31.347340  11.718507  ...        NaN   \n",
       "\n",
       "Price                                                                        \\\n",
       "Ticker     WALL-B.ST WBGR-B.ST WIHL.ST WISE.ST WTW-A.ST XANO-B.ST XBRANE.ST   \n",
       "Date                                                                          \n",
       "2013-01-02    329316       NaN  216712    3273      NaN      5632       NaN   \n",
       "2013-01-03    185792       NaN  107776    2280      NaN     17749       NaN   \n",
       "2013-01-04    160304       NaN  215020    3305      NaN     13726       NaN   \n",
       "2013-01-07    226744       NaN  170032    9196      NaN     18712       NaN   \n",
       "2013-01-08    495576       NaN  210944    2322      NaN     87030       NaN   \n",
       "\n",
       "Price                          \n",
       "Ticker     XSPRAY.ST XVIVO.ST  \n",
       "Date                           \n",
       "2013-01-02       NaN    37698  \n",
       "2013-01-03       NaN    24970  \n",
       "2013-01-04       NaN    37145  \n",
       "2013-01-07       NaN    30260  \n",
       "2013-01-08       NaN    23163  \n",
       "\n",
       "[5 rows x 2358 columns]"
      ]
     },
     "execution_count": 7,
     "metadata": {},
     "output_type": "execute_result"
    }
   ],
   "source": [
    "data.head()\n"
   ]
  },
  {
   "cell_type": "code",
   "execution_count": null,
   "metadata": {},
   "outputs": [],
   "source": [
    "data.to_csv(f\"{path}/raw_data/raw_data.csv\")\n"
   ]
  },
  {
   "cell_type": "markdown",
   "metadata": {},
   "source": [
    "During the following cells we are going to create different lists with the names of the companies considered large-caps, mid-caps, and small caps."
   ]
  },
  {
   "cell_type": "code",
   "execution_count": 8,
   "metadata": {},
   "outputs": [],
   "source": [
    "l_caps=pd.read_excel(f\"{path}/raw_data/large_caps.xlsx\")\n",
    "l_caps_list=l_caps['Security-Symbol'].to_list()\n"
   ]
  },
  {
   "cell_type": "code",
   "execution_count": 9,
   "metadata": {},
   "outputs": [],
   "source": [
    "m_caps=pd.read_excel(f\"{path}/raw_data/mid_caps.xlsx\")\n",
    "m_caps_list=m_caps['Security-Symbol'].to_list()\n"
   ]
  },
  {
   "cell_type": "code",
   "execution_count": 10,
   "metadata": {},
   "outputs": [],
   "source": [
    "s_caps=pd.read_excel(f\"{path}/raw_data/small_caps.xlsx\")\n",
    "s_caps_list=s_caps['Security-Symbol'].to_list()\n"
   ]
  },
  {
   "cell_type": "code",
   "execution_count": 11,
   "metadata": {},
   "outputs": [
    {
     "data": {
      "text/plain": [
       "392"
      ]
     },
     "execution_count": 11,
     "metadata": {},
     "output_type": "execute_result"
    }
   ],
   "source": [
    "len(l_caps_list)+len(m_caps_list)+len(s_caps_list)\n"
   ]
  },
  {
   "cell_type": "code",
   "execution_count": 12,
   "metadata": {},
   "outputs": [
    {
     "data": {
      "text/plain": [
       "393"
      ]
     },
     "execution_count": 12,
     "metadata": {},
     "output_type": "execute_result"
    }
   ],
   "source": [
    "len(tickers_list)\n"
   ]
  },
  {
   "cell_type": "markdown",
   "metadata": {},
   "source": [
    "There is one company that we cannot classify as large, mid or small-cap. \n",
    "\n",
    "It'll be pointed out in the following steps."
   ]
  },
  {
   "cell_type": "markdown",
   "metadata": {},
   "source": [
    "## Cleaning data"
   ]
  },
  {
   "cell_type": "markdown",
   "metadata": {},
   "source": [
    "After downloading the data in the file `raw_data.csv` you must open it in Microsoft Excel.\n",
    "In the **first row** we can find the number of the metric fetched.\n",
    "In the **second row** we can find the names of the different companies.\n",
    "In the **first column** we can find the dates we have exported.\n",
    "\n",
    "To clean up the dataset, delete those columns where the first row differs from `adjClose` and `volume`.\n",
    "As soon as this is done, cut those columns where the first row is `volume` and paste them in a new spreadsheet (not tab). \n",
    "Remove the first row as it doesn't add useful information at the moment. Call `volumes` to this new spreadsheet and save it as a .csv file.\n",
    "\n",
    "Come back to the initial spreadsheet called `raw_data.csv`. \n",
    "Since we only have `adjClose` prices, remove the first row.\n",
    "Rename the spreadsheet as `price` and save it as a .csv file\n",
    "\n"
   ]
  },
  {
   "cell_type": "code",
   "execution_count": 13,
   "metadata": {},
   "outputs": [],
   "source": [
    "df_price = pd.read_excel(f'{path}/raw_data/price.xlsx')\n"
   ]
  },
  {
   "cell_type": "code",
   "execution_count": 14,
   "metadata": {},
   "outputs": [
    {
     "name": "stdout",
     "output_type": "stream",
     "text": [
      "Number of companies in the sample: 393\n"
     ]
    }
   ],
   "source": [
    "print(f\"Number of companies in the sample: {df_price.shape[1]-1}\")\n"
   ]
  },
  {
   "cell_type": "code",
   "execution_count": 15,
   "metadata": {},
   "outputs": [],
   "source": [
    "null_percentage_dict={'Company':[],'Null_percentage':[],'Type':[]}\n",
    "\n",
    "for column in df_price.columns[1:]:\n",
    "    company_name=column\n",
    "    null_percentage = df_price[company_name].isnull().mean()*100\n",
    "    null_percentage_dict['Company'].append(company_name)\n",
    "    null_percentage_dict['Null_percentage'].append(null_percentage)\n",
    "    if company_name in l_caps_list:\n",
    "        null_percentage_dict['Type'].append(\"l-cap\")\n",
    "    elif company_name in m_caps_list:\n",
    "        null_percentage_dict['Type'].append(\"m-cap\")\n",
    "    elif company_name in s_caps_list:\n",
    "        null_percentage_dict['Type'].append(\"s-cap\")\n",
    "    else: null_percentage_dict['Type'].append(\"non-registered\")\n",
    "\n",
    "df_null_percentage=pd.DataFrame.from_dict(null_percentage_dict)\n"
   ]
  },
  {
   "cell_type": "code",
   "execution_count": 16,
   "metadata": {},
   "outputs": [
    {
     "data": {
      "text/html": [
       "<div>\n",
       "<style scoped>\n",
       "    .dataframe tbody tr th:only-of-type {\n",
       "        vertical-align: middle;\n",
       "    }\n",
       "\n",
       "    .dataframe tbody tr th {\n",
       "        vertical-align: top;\n",
       "    }\n",
       "\n",
       "    .dataframe thead th {\n",
       "        text-align: right;\n",
       "    }\n",
       "</style>\n",
       "<table border=\"1\" class=\"dataframe\">\n",
       "  <thead>\n",
       "    <tr style=\"text-align: right;\">\n",
       "      <th></th>\n",
       "      <th>Company</th>\n",
       "      <th>Null_percentage</th>\n",
       "      <th>Type</th>\n",
       "    </tr>\n",
       "  </thead>\n",
       "  <tbody>\n",
       "    <tr>\n",
       "      <th>249</th>\n",
       "      <td>NOKIA-SEK.ST</td>\n",
       "      <td>0.0</td>\n",
       "      <td>non-registered</td>\n",
       "    </tr>\n",
       "  </tbody>\n",
       "</table>\n",
       "</div>"
      ],
      "text/plain": [
       "          Company  Null_percentage            Type\n",
       "249  NOKIA-SEK.ST              0.0  non-registered"
      ]
     },
     "execution_count": 16,
     "metadata": {},
     "output_type": "execute_result"
    }
   ],
   "source": [
    "df_null_percentage[df_null_percentage['Type']==\"non-registered\"]\n"
   ]
  },
  {
   "cell_type": "code",
   "execution_count": 18,
   "metadata": {},
   "outputs": [
    {
     "data": {
      "text/html": [
       "<div>\n",
       "<style scoped>\n",
       "    .dataframe tbody tr th:only-of-type {\n",
       "        vertical-align: middle;\n",
       "    }\n",
       "\n",
       "    .dataframe tbody tr th {\n",
       "        vertical-align: top;\n",
       "    }\n",
       "\n",
       "    .dataframe thead th {\n",
       "        text-align: right;\n",
       "    }\n",
       "</style>\n",
       "<table border=\"1\" class=\"dataframe\">\n",
       "  <thead>\n",
       "    <tr style=\"text-align: right;\">\n",
       "      <th></th>\n",
       "      <th>Company</th>\n",
       "      <th>Null_percentage</th>\n",
       "      <th>Type</th>\n",
       "    </tr>\n",
       "  </thead>\n",
       "  <tbody>\n",
       "    <tr>\n",
       "      <th>152</th>\n",
       "      <td>HAKI-B.ST</td>\n",
       "      <td>98.463188</td>\n",
       "      <td>s-cap</td>\n",
       "    </tr>\n",
       "    <tr>\n",
       "      <th>294</th>\n",
       "      <td>RUSTA.ST</td>\n",
       "      <td>97.069335</td>\n",
       "      <td>m-cap</td>\n",
       "    </tr>\n",
       "    <tr>\n",
       "      <th>301</th>\n",
       "      <td>SAMPO-SDB.ST</td>\n",
       "      <td>88.813438</td>\n",
       "      <td>l-cap</td>\n",
       "    </tr>\n",
       "    <tr>\n",
       "      <th>15</th>\n",
       "      <td>ALLEI.ST</td>\n",
       "      <td>86.704789</td>\n",
       "      <td>l-cap</td>\n",
       "    </tr>\n",
       "    <tr>\n",
       "      <th>252</th>\n",
       "      <td>NORION.ST</td>\n",
       "      <td>86.275911</td>\n",
       "      <td>m-cap</td>\n",
       "    </tr>\n",
       "  </tbody>\n",
       "</table>\n",
       "</div>"
      ],
      "text/plain": [
       "          Company  Null_percentage   Type\n",
       "152     HAKI-B.ST        98.463188  s-cap\n",
       "294      RUSTA.ST        97.069335  m-cap\n",
       "301  SAMPO-SDB.ST        88.813438  l-cap\n",
       "15       ALLEI.ST        86.704789  l-cap\n",
       "252     NORION.ST        86.275911  m-cap"
      ]
     },
     "execution_count": 18,
     "metadata": {},
     "output_type": "execute_result"
    }
   ],
   "source": [
    "df_null_percentage=df_null_percentage.sort_values(by=\"Null_percentage\",ascending=False)\n",
    "\n",
    "df_null_percentage.head()\n"
   ]
  },
  {
   "cell_type": "code",
   "execution_count": 23,
   "metadata": {},
   "outputs": [
    {
     "data": {
      "text/plain": [
       "Index(['Company', 'Null_percentage', 'Type'], dtype='object')"
      ]
     },
     "execution_count": 23,
     "metadata": {},
     "output_type": "execute_result"
    }
   ],
   "source": [
    "df_null_percentage.columns\n"
   ]
  },
  {
   "cell_type": "code",
   "execution_count": 24,
   "metadata": {},
   "outputs": [
    {
     "data": {
      "application/vnd.plotly.v1+json": {
       "config": {
        "plotlyServerURL": "https://plot.ly"
       },
       "data": [
        {
         "alignmentgroup": "True",
         "customdata": [
          [
           "s-cap"
          ],
          [
           "s-cap"
          ],
          [
           "s-cap"
          ],
          [
           "s-cap"
          ],
          [
           "s-cap"
          ],
          [
           "s-cap"
          ],
          [
           "s-cap"
          ],
          [
           "s-cap"
          ],
          [
           "s-cap"
          ],
          [
           "s-cap"
          ],
          [
           "s-cap"
          ],
          [
           "s-cap"
          ],
          [
           "s-cap"
          ],
          [
           "s-cap"
          ],
          [
           "s-cap"
          ],
          [
           "s-cap"
          ],
          [
           "s-cap"
          ],
          [
           "s-cap"
          ],
          [
           "s-cap"
          ],
          [
           "s-cap"
          ],
          [
           "s-cap"
          ],
          [
           "s-cap"
          ],
          [
           "s-cap"
          ],
          [
           "s-cap"
          ],
          [
           "s-cap"
          ],
          [
           "s-cap"
          ],
          [
           "s-cap"
          ],
          [
           "s-cap"
          ],
          [
           "s-cap"
          ],
          [
           "s-cap"
          ],
          [
           "s-cap"
          ],
          [
           "s-cap"
          ],
          [
           "s-cap"
          ],
          [
           "s-cap"
          ],
          [
           "s-cap"
          ],
          [
           "s-cap"
          ],
          [
           "s-cap"
          ],
          [
           "s-cap"
          ],
          [
           "s-cap"
          ],
          [
           "s-cap"
          ],
          [
           "s-cap"
          ],
          [
           "s-cap"
          ],
          [
           "s-cap"
          ],
          [
           "s-cap"
          ],
          [
           "s-cap"
          ],
          [
           "s-cap"
          ],
          [
           "s-cap"
          ],
          [
           "s-cap"
          ],
          [
           "s-cap"
          ],
          [
           "s-cap"
          ],
          [
           "s-cap"
          ],
          [
           "s-cap"
          ],
          [
           "s-cap"
          ],
          [
           "s-cap"
          ],
          [
           "s-cap"
          ],
          [
           "s-cap"
          ],
          [
           "s-cap"
          ],
          [
           "s-cap"
          ],
          [
           "s-cap"
          ],
          [
           "s-cap"
          ],
          [
           "s-cap"
          ],
          [
           "s-cap"
          ],
          [
           "s-cap"
          ],
          [
           "s-cap"
          ],
          [
           "s-cap"
          ],
          [
           "s-cap"
          ],
          [
           "s-cap"
          ],
          [
           "s-cap"
          ],
          [
           "s-cap"
          ],
          [
           "s-cap"
          ],
          [
           "s-cap"
          ],
          [
           "s-cap"
          ],
          [
           "s-cap"
          ],
          [
           "s-cap"
          ],
          [
           "s-cap"
          ],
          [
           "s-cap"
          ],
          [
           "s-cap"
          ],
          [
           "s-cap"
          ],
          [
           "s-cap"
          ],
          [
           "s-cap"
          ],
          [
           "s-cap"
          ],
          [
           "s-cap"
          ],
          [
           "s-cap"
          ],
          [
           "s-cap"
          ],
          [
           "s-cap"
          ],
          [
           "s-cap"
          ],
          [
           "s-cap"
          ],
          [
           "s-cap"
          ],
          [
           "s-cap"
          ],
          [
           "s-cap"
          ],
          [
           "s-cap"
          ],
          [
           "s-cap"
          ],
          [
           "s-cap"
          ],
          [
           "s-cap"
          ],
          [
           "s-cap"
          ],
          [
           "s-cap"
          ],
          [
           "s-cap"
          ],
          [
           "s-cap"
          ],
          [
           "s-cap"
          ],
          [
           "s-cap"
          ],
          [
           "s-cap"
          ],
          [
           "s-cap"
          ],
          [
           "s-cap"
          ],
          [
           "s-cap"
          ],
          [
           "s-cap"
          ],
          [
           "s-cap"
          ]
         ],
         "hovertemplate": "Type=%{customdata[0]}<br>Company=%{x}<br>Null_percentage=%{y}<extra></extra>",
         "legendgroup": "s-cap",
         "marker": {
          "color": "#636efa",
          "pattern": {
           "shape": ""
          }
         },
         "name": "s-cap",
         "offsetgroup": "s-cap",
         "orientation": "v",
         "showlegend": true,
         "textposition": "auto",
         "type": "bar",
         "x": [
          "HAKI-B.ST",
          "SFAB.ST",
          "NETEL.ST",
          "NORB-B.ST",
          "WTW-A.ST",
          "SLEEP.ST",
          "ARPL.ST",
          "PIERCE.ST",
          "ACRI-B.ST",
          "ANNE-B.ST",
          "WBGR-B.ST",
          "QLIRO.ST",
          "SEAF.ST",
          "K2A-B.ST",
          "ACE.ST",
          "QLINEA.ST",
          "PENG-B.ST",
          "OVZON.ST",
          "INFREA.ST",
          "FNM.ST",
          "BALCO.ST",
          "XSPRAY.ST",
          "ATIC.ST",
          "ISOFOL.ST",
          "IRLAB-A.ST",
          "ONCO.ST",
          "ATORX.ST",
          "MAHA-A.ST",
          "SYNACT.ST",
          "B3.ST",
          "IBT-B.ST",
          "XBRANE.ST",
          "VICO.ST",
          "IMMNOV.ST",
          "NICA.ST",
          "NIL-B.ST",
          "STAR-A.ST",
          "TRANS.ST",
          "TOBII.ST",
          "CANTA.ST",
          "ACRI-A.ST",
          "ELTEL.ST",
          "FASTAT.ST",
          "CBTT-B.ST",
          "BESQ.ST",
          "SANION.ST",
          "OP.ST",
          "NGS.ST",
          "IMMU.ST",
          "SIVE.ST",
          "SGG.ST",
          "WISE.ST",
          "ORX.ST",
          "STAR-B.ST",
          "PION-B.ST",
          "STRAX.ST",
          "ORTI-B.ST",
          "ORTI-A.ST",
          "NTEK-B.ST",
          "SVIK.ST",
          "SVED-B.ST",
          "STWK.ST",
          "SOF-B.ST",
          "RIZZO-B.ST",
          "SEZI.ST",
          "SAFETY-B.ST",
          "SAS.ST",
          "VIVE.ST",
          "PREV-B.ST",
          "PROF-B.ST",
          "SINT.ST",
          "RAIL.ST",
          "TRAD.ST",
          "PREC.ST",
          "CNCJO-B.ST",
          "BULTEN.ST",
          "CRAD-B.ST",
          "DEDI.ST",
          "BORG.ST",
          "ELON.ST",
          "ENRO.ST",
          "EGTX.ST",
          "DURC-B.ST",
          "DORO.ST",
          "BOUL.ST",
          "BONG.ST",
          "ANOT.ST",
          "ACTI.ST",
          "ABLI.ST",
          "BEGR.ST",
          "EPIS-B.ST",
          "MEAB-B.ST",
          "MOMENT.ST",
          "LAMM-B.ST",
          "MOB.ST",
          "MSAB-B.ST",
          "NELLY.ST",
          "MSON-A.ST",
          "NAXS.ST",
          "MVIR.ST",
          "MSON-B.ST",
          "KDEV.ST",
          "HAKI-A.ST",
          "FPIP.ST",
          "FING-B.ST",
          "IS.ST"
         ],
         "xaxis": "x",
         "y": [
          98.46318799142244,
          80.02144388849179,
          78.84203002144389,
          78.73481057898499,
          75.98284488920658,
          75.55396711937098,
          75.19656897784131,
          73.80271622587563,
          73.65975696926375,
          71.30092923516797,
          69.76411722659041,
          69.51393852751966,
          58.8277340957827,
          57.96997855611151,
          55.68263045032166,
          53.43102215868477,
          49.035025017869906,
          48.24874910650465,
          47.60543245175125,
          43.316654753395284,
          42.78055754110079,
          42.56611865618299,
          38.27734095782702,
          38.17012151536812,
          37.27662616154396,
          37.13366690493209,
          34.88205861329521,
          31.915654038599,
          31.41529664045747,
          30.73624017155111,
          28.877769835596855,
          27.555396711937096,
          26.34024303073624,
          26.090064331665474,
          25.303788420300215,
          21.76554681915654,
          21.729807005003572,
          21.19370979270908,
          20.58613295210865,
          19.656897784131523,
          19.263759828448894,
          18.69192280200143,
          16.29735525375268,
          16.082916368834884,
          12.83059328091494,
          11.615439599714081,
          10.04288777698356,
          3.3238027162258756,
          2.7162258756254465,
          0.9292351679771265,
          0.39313795568263044,
          0,
          0,
          0,
          0,
          0,
          0,
          0,
          0,
          0,
          0,
          0,
          0,
          0,
          0,
          0,
          0,
          0,
          0,
          0,
          0,
          0,
          0,
          0,
          0,
          0,
          0,
          0,
          0,
          0,
          0,
          0,
          0,
          0,
          0,
          0,
          0,
          0,
          0,
          0,
          0,
          0,
          0,
          0,
          0,
          0,
          0,
          0,
          0,
          0,
          0,
          0,
          0,
          0,
          0,
          0
         ],
         "yaxis": "y"
        },
        {
         "alignmentgroup": "True",
         "customdata": [
          [
           "m-cap"
          ],
          [
           "m-cap"
          ],
          [
           "m-cap"
          ],
          [
           "m-cap"
          ],
          [
           "m-cap"
          ],
          [
           "m-cap"
          ],
          [
           "m-cap"
          ],
          [
           "m-cap"
          ],
          [
           "m-cap"
          ],
          [
           "m-cap"
          ],
          [
           "m-cap"
          ],
          [
           "m-cap"
          ],
          [
           "m-cap"
          ],
          [
           "m-cap"
          ],
          [
           "m-cap"
          ],
          [
           "m-cap"
          ],
          [
           "m-cap"
          ],
          [
           "m-cap"
          ],
          [
           "m-cap"
          ],
          [
           "m-cap"
          ],
          [
           "m-cap"
          ],
          [
           "m-cap"
          ],
          [
           "m-cap"
          ],
          [
           "m-cap"
          ],
          [
           "m-cap"
          ],
          [
           "m-cap"
          ],
          [
           "m-cap"
          ],
          [
           "m-cap"
          ],
          [
           "m-cap"
          ],
          [
           "m-cap"
          ],
          [
           "m-cap"
          ],
          [
           "m-cap"
          ],
          [
           "m-cap"
          ],
          [
           "m-cap"
          ],
          [
           "m-cap"
          ],
          [
           "m-cap"
          ],
          [
           "m-cap"
          ],
          [
           "m-cap"
          ],
          [
           "m-cap"
          ],
          [
           "m-cap"
          ],
          [
           "m-cap"
          ],
          [
           "m-cap"
          ],
          [
           "m-cap"
          ],
          [
           "m-cap"
          ],
          [
           "m-cap"
          ],
          [
           "m-cap"
          ],
          [
           "m-cap"
          ],
          [
           "m-cap"
          ],
          [
           "m-cap"
          ],
          [
           "m-cap"
          ],
          [
           "m-cap"
          ],
          [
           "m-cap"
          ],
          [
           "m-cap"
          ],
          [
           "m-cap"
          ],
          [
           "m-cap"
          ],
          [
           "m-cap"
          ],
          [
           "m-cap"
          ],
          [
           "m-cap"
          ],
          [
           "m-cap"
          ],
          [
           "m-cap"
          ],
          [
           "m-cap"
          ],
          [
           "m-cap"
          ],
          [
           "m-cap"
          ],
          [
           "m-cap"
          ],
          [
           "m-cap"
          ],
          [
           "m-cap"
          ],
          [
           "m-cap"
          ],
          [
           "m-cap"
          ],
          [
           "m-cap"
          ],
          [
           "m-cap"
          ],
          [
           "m-cap"
          ],
          [
           "m-cap"
          ],
          [
           "m-cap"
          ],
          [
           "m-cap"
          ],
          [
           "m-cap"
          ],
          [
           "m-cap"
          ],
          [
           "m-cap"
          ],
          [
           "m-cap"
          ],
          [
           "m-cap"
          ],
          [
           "m-cap"
          ],
          [
           "m-cap"
          ],
          [
           "m-cap"
          ],
          [
           "m-cap"
          ],
          [
           "m-cap"
          ],
          [
           "m-cap"
          ],
          [
           "m-cap"
          ],
          [
           "m-cap"
          ],
          [
           "m-cap"
          ],
          [
           "m-cap"
          ],
          [
           "m-cap"
          ],
          [
           "m-cap"
          ],
          [
           "m-cap"
          ],
          [
           "m-cap"
          ],
          [
           "m-cap"
          ],
          [
           "m-cap"
          ],
          [
           "m-cap"
          ],
          [
           "m-cap"
          ],
          [
           "m-cap"
          ],
          [
           "m-cap"
          ],
          [
           "m-cap"
          ],
          [
           "m-cap"
          ],
          [
           "m-cap"
          ],
          [
           "m-cap"
          ],
          [
           "m-cap"
          ],
          [
           "m-cap"
          ],
          [
           "m-cap"
          ],
          [
           "m-cap"
          ],
          [
           "m-cap"
          ],
          [
           "m-cap"
          ],
          [
           "m-cap"
          ],
          [
           "m-cap"
          ],
          [
           "m-cap"
          ],
          [
           "m-cap"
          ],
          [
           "m-cap"
          ],
          [
           "m-cap"
          ],
          [
           "m-cap"
          ],
          [
           "m-cap"
          ],
          [
           "m-cap"
          ],
          [
           "m-cap"
          ],
          [
           "m-cap"
          ],
          [
           "m-cap"
          ],
          [
           "m-cap"
          ],
          [
           "m-cap"
          ],
          [
           "m-cap"
          ],
          [
           "m-cap"
          ],
          [
           "m-cap"
          ],
          [
           "m-cap"
          ],
          [
           "m-cap"
          ],
          [
           "m-cap"
          ],
          [
           "m-cap"
          ],
          [
           "m-cap"
          ],
          [
           "m-cap"
          ]
         ],
         "hovertemplate": "Type=%{customdata[0]}<br>Company=%{x}<br>Null_percentage=%{y}<extra></extra>",
         "legendgroup": "m-cap",
         "marker": {
          "color": "#EF553B",
          "pattern": {
           "shape": ""
          }
         },
         "name": "m-cap",
         "offsetgroup": "m-cap",
         "orientation": "v",
         "showlegend": true,
         "textposition": "auto",
         "type": "bar",
         "x": [
          "RUSTA.ST",
          "NORION.ST",
          "ENGCON-B.ST",
          "EMIL-B.ST",
          "MMGR-B.ST",
          "SLP-B.ST",
          "NORVA.ST",
          "TDVOX.ST",
          "NIVI-B.ST",
          "KLARA-B.ST",
          "LOGI-B.ST",
          "SYNSAM.ST",
          "BFG.ST",
          "CTEK.ST",
          "PRFO.ST",
          "RVRC.ST",
          "MILDEF.ST",
          "LINC.ST",
          "CS.ST",
          "CINT.ST",
          "FG.ST",
          "NPAPER.ST",
          "GPG.ST",
          "VNV.ST",
          "KFAST-B.ST",
          "JOMA.ST",
          "KAR.ST",
          "VPLAY-B.ST",
          "VPLAY-A.ST",
          "GIGSEK.ST",
          "LIME.ST",
          "CALTX.ST",
          "BHG.ST",
          "GREEN.ST",
          "CIBUS.ST",
          "SEDANA.ST",
          "BONEX.ST",
          "TRIAN-B.ST",
          "ALLIGO-B.ST",
          "BOOZT.ST",
          "SDIP-B.ST",
          "FMM-B.ST",
          "AMBEA.ST",
          "VOLO.ST",
          "BICO.ST",
          "BRIN-B.ST",
          "ACAD.ST",
          "TFBANK.ST",
          "NWG.ST",
          "BONAV-B.ST",
          "BONAV-A.ST",
          "RESURS.ST",
          "HUM.ST",
          "GARO.ST",
          "CTM.ST",
          "SF.ST",
          "SHOT.ST",
          "ATT.ST",
          "ALIG.ST",
          "COOR.ST",
          "HOFI.ST",
          "DUST.ST",
          "PCELL.ST",
          "GRNG.ST",
          "INWI.ST",
          "SCST.ST",
          "HANZA.ST",
          "BACTI-B.ST",
          "BUFAB.ST",
          "PLAZ-B.ST",
          "COPP.ST",
          "XANO-B.ST",
          "STEF-B.ST",
          "PACT.ST",
          "VESTUM.ST",
          "ORES.ST",
          "TETY.ST",
          "NOTE.ST",
          "VBG-B.ST",
          "OEM-B.ST",
          "ORRON.ST",
          "RROS.ST",
          "SKIS-B.ST",
          "PRIC-B.ST",
          "PROB.ST",
          "TRAC-B.ST",
          "RAY-B.ST",
          "REJL-B.ST",
          "CCC.ST",
          "COIC.ST",
          "CLAS-B.ST",
          "CLA-B.ST",
          "CEVI.ST",
          "CTT.ST",
          "CAT-B.ST",
          "CAT-A.ST",
          "BTS-B.ST",
          "EPEN.ST",
          "EOLU-B.ST",
          "ENEA.ST",
          "ELAN-B.ST",
          "EAST.ST",
          "DUNI.ST",
          "ARP.ST",
          "ARISE.ST",
          "AQ.ST",
          "AOI.ST",
          "BMAX.ST",
          "BIOG-B.ST",
          "BINV.ST",
          "BERG-B.ST",
          "BEIA-B.ST",
          "NOBI.ST",
          "MEKO.ST",
          "MCAP.ST",
          "MANG.ST",
          "LUC.ST",
          "LOGI-A.ST",
          "KNOW.ST",
          "NMAN.ST",
          "NETI-B.ST",
          "EWRK.ST",
          "HNSA.ST",
          "HEBA-B.ST",
          "G5EN.ST",
          "FAG.ST",
          "KABE-B.ST",
          "IVSO.ST",
          "ITAB.ST",
          "HTRO.ST",
          "IAR-B.ST",
          "XVIVO.ST"
         ],
         "xaxis": "x",
         "y": [
          97.06933523945676,
          86.27591136526091,
          84.84631879914224,
          84.70335954253038,
          82.987848463188,
          82.77340957827019,
          80.23588277340959,
          80.23588277340959,
          80.09292351679771,
          80.05718370264474,
          79.77126518942102,
          79.19942816297355,
          78.84203002144389,
          78.3059328091494,
          76.12580414581845,
          75.76840600428878,
          75.48248749106504,
          75.30378842030021,
          73.409578270193,
          72.90922087205146,
          71.22944960686205,
          70.01429592566119,
          67.08363116511794,
          67.04789135096497,
          62.044317369549674,
          57.68406004288777,
          56.43316654753395,
          56.075768406004286,
          56.075768406004286,
          55.61115082201572,
          53.395282344531815,
          49.32094353109363,
          47.03359542530379,
          46.96211579699786,
          46.60471765546819,
          40.02859185132237,
          40.02859185132237,
          40.02859185132237,
          40.02859185132237,
          39.492494639027875,
          39.06361686919228,
          38.31308077197998,
          38.098641887062186,
          35.06075768406004,
          34.38170121515368,
          33.52394567548249,
          30.807719799857043,
          30.771979985704075,
          30.70050035739814,
          30.664760543245173,
          30.664760543245173,
          29.699785561115082,
          28.770550393137956,
          28.627591136526092,
          27.769835596854897,
          26.268763402430306,
          26.125804145818442,
          26.054324517512512,
          21.87276626161544,
          21.837026447462474,
          19.87133666904932,
          18.87062187276626,
          17.655468191565404,
          15.868477483917085,
          15.511079342387418,
          13.187991422444604,
          13.009292351679772,
          13.009292351679772,
          10.185847033595426,
          8.25589706933524,
          0.8934953538241601,
          0,
          0,
          0,
          0,
          0,
          0,
          0,
          0,
          0,
          0,
          0,
          0,
          0,
          0,
          0,
          0,
          0,
          0,
          0,
          0,
          0,
          0,
          0,
          0,
          0,
          0,
          0,
          0,
          0,
          0,
          0,
          0,
          0,
          0,
          0,
          0,
          0,
          0,
          0,
          0,
          0,
          0,
          0,
          0,
          0,
          0,
          0,
          0,
          0,
          0,
          0,
          0,
          0,
          0,
          0,
          0,
          0,
          0,
          0,
          0,
          0
         ],
         "yaxis": "y"
        },
        {
         "alignmentgroup": "True",
         "customdata": [
          [
           "l-cap"
          ],
          [
           "l-cap"
          ],
          [
           "l-cap"
          ],
          [
           "l-cap"
          ],
          [
           "l-cap"
          ],
          [
           "l-cap"
          ],
          [
           "l-cap"
          ],
          [
           "l-cap"
          ],
          [
           "l-cap"
          ],
          [
           "l-cap"
          ],
          [
           "l-cap"
          ],
          [
           "l-cap"
          ],
          [
           "l-cap"
          ],
          [
           "l-cap"
          ],
          [
           "l-cap"
          ],
          [
           "l-cap"
          ],
          [
           "l-cap"
          ],
          [
           "l-cap"
          ],
          [
           "l-cap"
          ],
          [
           "l-cap"
          ],
          [
           "l-cap"
          ],
          [
           "l-cap"
          ],
          [
           "l-cap"
          ],
          [
           "l-cap"
          ],
          [
           "l-cap"
          ],
          [
           "l-cap"
          ],
          [
           "l-cap"
          ],
          [
           "l-cap"
          ],
          [
           "l-cap"
          ],
          [
           "l-cap"
          ],
          [
           "l-cap"
          ],
          [
           "l-cap"
          ],
          [
           "l-cap"
          ],
          [
           "l-cap"
          ],
          [
           "l-cap"
          ],
          [
           "l-cap"
          ],
          [
           "l-cap"
          ],
          [
           "l-cap"
          ],
          [
           "l-cap"
          ],
          [
           "l-cap"
          ],
          [
           "l-cap"
          ],
          [
           "l-cap"
          ],
          [
           "l-cap"
          ],
          [
           "l-cap"
          ],
          [
           "l-cap"
          ],
          [
           "l-cap"
          ],
          [
           "l-cap"
          ],
          [
           "l-cap"
          ],
          [
           "l-cap"
          ],
          [
           "l-cap"
          ],
          [
           "l-cap"
          ],
          [
           "l-cap"
          ],
          [
           "l-cap"
          ],
          [
           "l-cap"
          ],
          [
           "l-cap"
          ],
          [
           "l-cap"
          ],
          [
           "l-cap"
          ],
          [
           "l-cap"
          ],
          [
           "l-cap"
          ],
          [
           "l-cap"
          ],
          [
           "l-cap"
          ],
          [
           "l-cap"
          ],
          [
           "l-cap"
          ],
          [
           "l-cap"
          ],
          [
           "l-cap"
          ],
          [
           "l-cap"
          ],
          [
           "l-cap"
          ],
          [
           "l-cap"
          ],
          [
           "l-cap"
          ],
          [
           "l-cap"
          ],
          [
           "l-cap"
          ],
          [
           "l-cap"
          ],
          [
           "l-cap"
          ],
          [
           "l-cap"
          ],
          [
           "l-cap"
          ],
          [
           "l-cap"
          ],
          [
           "l-cap"
          ],
          [
           "l-cap"
          ],
          [
           "l-cap"
          ],
          [
           "l-cap"
          ],
          [
           "l-cap"
          ],
          [
           "l-cap"
          ],
          [
           "l-cap"
          ],
          [
           "l-cap"
          ],
          [
           "l-cap"
          ],
          [
           "l-cap"
          ],
          [
           "l-cap"
          ],
          [
           "l-cap"
          ],
          [
           "l-cap"
          ],
          [
           "l-cap"
          ],
          [
           "l-cap"
          ],
          [
           "l-cap"
          ],
          [
           "l-cap"
          ],
          [
           "l-cap"
          ],
          [
           "l-cap"
          ],
          [
           "l-cap"
          ],
          [
           "l-cap"
          ],
          [
           "l-cap"
          ],
          [
           "l-cap"
          ],
          [
           "l-cap"
          ],
          [
           "l-cap"
          ],
          [
           "l-cap"
          ],
          [
           "l-cap"
          ],
          [
           "l-cap"
          ],
          [
           "l-cap"
          ],
          [
           "l-cap"
          ],
          [
           "l-cap"
          ],
          [
           "l-cap"
          ],
          [
           "l-cap"
          ],
          [
           "l-cap"
          ],
          [
           "l-cap"
          ],
          [
           "l-cap"
          ],
          [
           "l-cap"
          ],
          [
           "l-cap"
          ],
          [
           "l-cap"
          ],
          [
           "l-cap"
          ],
          [
           "l-cap"
          ],
          [
           "l-cap"
          ],
          [
           "l-cap"
          ],
          [
           "l-cap"
          ],
          [
           "l-cap"
          ],
          [
           "l-cap"
          ],
          [
           "l-cap"
          ],
          [
           "l-cap"
          ],
          [
           "l-cap"
          ],
          [
           "l-cap"
          ],
          [
           "l-cap"
          ],
          [
           "l-cap"
          ],
          [
           "l-cap"
          ],
          [
           "l-cap"
          ],
          [
           "l-cap"
          ],
          [
           "l-cap"
          ],
          [
           "l-cap"
          ],
          [
           "l-cap"
          ],
          [
           "l-cap"
          ],
          [
           "l-cap"
          ],
          [
           "l-cap"
          ],
          [
           "l-cap"
          ],
          [
           "l-cap"
          ],
          [
           "l-cap"
          ],
          [
           "l-cap"
          ],
          [
           "l-cap"
          ],
          [
           "l-cap"
          ],
          [
           "l-cap"
          ],
          [
           "l-cap"
          ],
          [
           "l-cap"
          ],
          [
           "l-cap"
          ],
          [
           "l-cap"
          ],
          [
           "l-cap"
          ],
          [
           "l-cap"
          ],
          [
           "l-cap"
          ],
          [
           "l-cap"
          ],
          [
           "l-cap"
          ],
          [
           "l-cap"
          ]
         ],
         "hovertemplate": "Type=%{customdata[0]}<br>Company=%{x}<br>Null_percentage=%{y}<extra></extra>",
         "legendgroup": "l-cap",
         "marker": {
          "color": "#00cc96",
          "pattern": {
           "shape": ""
          }
         },
         "name": "l-cap",
         "offsetgroup": "l-cap",
         "orientation": "v",
         "showlegend": true,
         "textposition": "auto",
         "type": "bar",
         "x": [
          "SAMPO-SDB.ST",
          "ALLEI.ST",
          "VOLCAR-B.ST",
          "TRUE-B.ST",
          "STOR-B.ST",
          "OX2.ST",
          "CORE-D.ST",
          "HEM.ST",
          "SAVE.ST",
          "EPRO-B.ST",
          "FPAR-D.ST",
          "EQT.ST",
          "8TRA.ST",
          "SBB-D.ST",
          "NYF.ST",
          "EPI-B.ST",
          "EPI-A.ST",
          "ARION-SDB.ST",
          "BETCO.ST",
          "NCAB.ST",
          "CORE-B.ST",
          "ARJO-B.ST",
          "BIOA-B.ST",
          "ESSITY-A.ST",
          "ESSITY-B.ST",
          "LUMI.ST",
          "MCOV-B.ST",
          "MTRS.ST",
          "INSTAL.ST",
          "IPCO.ST",
          "MIPS.ST",
          "EMBRAC-B.ST",
          "SAGA-D.ST",
          "ALIF-B.ST",
          "CAMX.ST",
          "DOM.ST",
          "BRAV.ST",
          "SINCH.ST",
          "PNDX-B.ST",
          "TROAX.ST",
          "EVO.ST",
          "LUG.ST",
          "NP3.ST",
          "THULE.ST",
          "LIFCO-B.ST",
          "FOI-B.ST",
          "SAGA-B.ST",
          "WIHL.ST",
          "STE-R.ST",
          "PEAB-B.ST",
          "STE-A.ST",
          "SSAB-B.ST",
          "SSAB-A.ST",
          "TELIA.ST",
          "TEL2-B.ST",
          "TEL2-A.ST",
          "SYSR.ST",
          "SWED-A.ST",
          "SWEC-B.ST",
          "SWEC-A.ST",
          "SOBI.ST",
          "SCA-A.ST",
          "VIT-B.ST",
          "SECT-B.ST",
          "SHB-A.ST",
          "VOLV-B.ST",
          "SAAB-B.ST",
          "SECU-B.ST",
          "SAGA-A.ST",
          "NOLA-B.ST",
          "TIGO-SDB.ST",
          "SEB-C.ST",
          "SEB-A.ST",
          "SAND.ST",
          "VOLV-A.ST",
          "SBB-B.ST",
          "TIETOS.ST",
          "SHB-B.ST",
          "TREL-B.ST",
          "SCA-B.ST",
          "SKF-B.ST",
          "WALL-B.ST",
          "SKF-A.ST",
          "SKA-B.ST",
          "RATO-A.ST",
          "RATO-B.ST",
          "VITR.ST",
          "KINV-A.ST",
          "CORE-A.ST",
          "CATE.ST",
          "CAST.ST",
          "BURE.ST",
          "ELUX-B.ST",
          "ELUX-A.ST",
          "DIOS.ST",
          "EKTA-B.ST",
          "ERIC-A.ST",
          "ANOD-B.ST",
          "ASSA-B.ST",
          "ALIV-SDB.ST",
          "ATCO-B.ST",
          "ALFA.ST",
          "AFRY.ST",
          "ADDT-B.ST",
          "ABB.ST",
          "ATCO-A.ST",
          "ATRLJ-B.ST",
          "BOL.ST",
          "BETS-B.ST",
          "BIOT.ST",
          "BILL.ST",
          "BILI-A.ST",
          "AXFO.ST",
          "BEIJ-B.ST",
          "BALD-B.ST",
          "AZN.ST",
          "AZA.ST",
          "ERIC-B.ST",
          "LOOMIS.ST",
          "LUND-B.ST",
          "LIAB.ST",
          "LATO-B.ST",
          "LAGR-B.ST",
          "KINV-B.ST",
          "KIND-SDB.ST",
          "NCC-B.ST",
          "NIBE-B.ST",
          "NEWA-B.ST",
          "NDA-SE.ST",
          "NCC-A.ST",
          "MYCR.ST",
          "MTG-B.ST",
          "MTG-A.ST",
          "AAK.ST",
          "GETI-B.ST",
          "HMS.ST",
          "HM-B.ST",
          "HEXA-B.ST",
          "HOLM-B.ST",
          "FPAR-A.ST",
          "FNOX.ST",
          "FABG.ST",
          "HOLM-A.ST",
          "HPOL-B.ST",
          "INTRUM.ST",
          "JM.ST",
          "INVE-B.ST",
          "INVE-A.ST",
          "INDU-C.ST",
          "INDU-A.ST",
          "INDT.ST",
          "HUSQ-B.ST",
          "HUSQ-A.ST",
          "HUFV-A.ST"
         ],
         "xaxis": "x",
         "y": [
          88.81343817012151,
          86.70478913509649,
          79.19942816297355,
          78.66333095067905,
          78.59185132237312,
          75.94710507505361,
          75.8398856325947,
          74.51751250893496,
          70.87205146533238,
          64.72480343102217,
          62.401715511079345,
          60.3288062902073,
          58.14867762687634,
          53.609721229449605,
          53.073624017155105,
          48.999285203716944,
          48.999285203716944,
          48.963545389563976,
          48.78484631879914,
          48.67762687634024,
          44.496068620443175,
          44.46032880629021,
          42.92351679771265,
          39.88563259471051,
          39.88563259471051,
          39.70693352394568,
          39.313795568263046,
          39.24231593995711,
          39.02787705503931,
          38.59899928520372,
          37.88420300214439,
          34.846318799142246,
          34.52466047176554,
          28.627591136526092,
          26.161543959971407,
          25.94710507505361,
          24.94639027877055,
          24.731951393852754,
          21.908506075768404,
          19.942816297355254,
          19.76411722659042,
          17.69120800571837,
          17.26233023588277,
          17.047891350964974,
          16.940671908506076,
          13.152251608291637,
          2.3588277340957826,
          0,
          0,
          0,
          0,
          0,
          0,
          0,
          0,
          0,
          0,
          0,
          0,
          0,
          0,
          0,
          0,
          0,
          0,
          0,
          0,
          0,
          0,
          0,
          0,
          0,
          0,
          0,
          0,
          0,
          0,
          0,
          0,
          0,
          0,
          0,
          0,
          0,
          0,
          0,
          0,
          0,
          0,
          0,
          0,
          0,
          0,
          0,
          0,
          0,
          0,
          0,
          0,
          0,
          0,
          0,
          0,
          0,
          0,
          0,
          0,
          0,
          0,
          0,
          0,
          0,
          0,
          0,
          0,
          0,
          0,
          0,
          0,
          0,
          0,
          0,
          0,
          0,
          0,
          0,
          0,
          0,
          0,
          0,
          0,
          0,
          0,
          0,
          0,
          0,
          0,
          0,
          0,
          0,
          0,
          0,
          0,
          0,
          0,
          0,
          0,
          0,
          0,
          0,
          0,
          0,
          0,
          0
         ],
         "yaxis": "y"
        },
        {
         "alignmentgroup": "True",
         "customdata": [
          [
           "non-registered"
          ]
         ],
         "hovertemplate": "Type=%{customdata[0]}<br>Company=%{x}<br>Null_percentage=%{y}<extra></extra>",
         "legendgroup": "non-registered",
         "marker": {
          "color": "#ab63fa",
          "pattern": {
           "shape": ""
          }
         },
         "name": "non-registered",
         "offsetgroup": "non-registered",
         "orientation": "v",
         "showlegend": true,
         "textposition": "auto",
         "type": "bar",
         "x": [
          "NOKIA-SEK.ST"
         ],
         "xaxis": "x",
         "y": [
          0
         ],
         "yaxis": "y"
        }
       ],
       "layout": {
        "barmode": "group",
        "legend": {
         "title": {
          "text": "Type"
         },
         "tracegroupgap": 0
        },
        "template": {
         "data": {
          "bar": [
           {
            "error_x": {
             "color": "#2a3f5f"
            },
            "error_y": {
             "color": "#2a3f5f"
            },
            "marker": {
             "line": {
              "color": "#E5ECF6",
              "width": 0.5
             },
             "pattern": {
              "fillmode": "overlay",
              "size": 10,
              "solidity": 0.2
             }
            },
            "type": "bar"
           }
          ],
          "barpolar": [
           {
            "marker": {
             "line": {
              "color": "#E5ECF6",
              "width": 0.5
             },
             "pattern": {
              "fillmode": "overlay",
              "size": 10,
              "solidity": 0.2
             }
            },
            "type": "barpolar"
           }
          ],
          "carpet": [
           {
            "aaxis": {
             "endlinecolor": "#2a3f5f",
             "gridcolor": "white",
             "linecolor": "white",
             "minorgridcolor": "white",
             "startlinecolor": "#2a3f5f"
            },
            "baxis": {
             "endlinecolor": "#2a3f5f",
             "gridcolor": "white",
             "linecolor": "white",
             "minorgridcolor": "white",
             "startlinecolor": "#2a3f5f"
            },
            "type": "carpet"
           }
          ],
          "choropleth": [
           {
            "colorbar": {
             "outlinewidth": 0,
             "ticks": ""
            },
            "type": "choropleth"
           }
          ],
          "contour": [
           {
            "colorbar": {
             "outlinewidth": 0,
             "ticks": ""
            },
            "colorscale": [
             [
              0,
              "#0d0887"
             ],
             [
              0.1111111111111111,
              "#46039f"
             ],
             [
              0.2222222222222222,
              "#7201a8"
             ],
             [
              0.3333333333333333,
              "#9c179e"
             ],
             [
              0.4444444444444444,
              "#bd3786"
             ],
             [
              0.5555555555555556,
              "#d8576b"
             ],
             [
              0.6666666666666666,
              "#ed7953"
             ],
             [
              0.7777777777777778,
              "#fb9f3a"
             ],
             [
              0.8888888888888888,
              "#fdca26"
             ],
             [
              1,
              "#f0f921"
             ]
            ],
            "type": "contour"
           }
          ],
          "contourcarpet": [
           {
            "colorbar": {
             "outlinewidth": 0,
             "ticks": ""
            },
            "type": "contourcarpet"
           }
          ],
          "heatmap": [
           {
            "colorbar": {
             "outlinewidth": 0,
             "ticks": ""
            },
            "colorscale": [
             [
              0,
              "#0d0887"
             ],
             [
              0.1111111111111111,
              "#46039f"
             ],
             [
              0.2222222222222222,
              "#7201a8"
             ],
             [
              0.3333333333333333,
              "#9c179e"
             ],
             [
              0.4444444444444444,
              "#bd3786"
             ],
             [
              0.5555555555555556,
              "#d8576b"
             ],
             [
              0.6666666666666666,
              "#ed7953"
             ],
             [
              0.7777777777777778,
              "#fb9f3a"
             ],
             [
              0.8888888888888888,
              "#fdca26"
             ],
             [
              1,
              "#f0f921"
             ]
            ],
            "type": "heatmap"
           }
          ],
          "heatmapgl": [
           {
            "colorbar": {
             "outlinewidth": 0,
             "ticks": ""
            },
            "colorscale": [
             [
              0,
              "#0d0887"
             ],
             [
              0.1111111111111111,
              "#46039f"
             ],
             [
              0.2222222222222222,
              "#7201a8"
             ],
             [
              0.3333333333333333,
              "#9c179e"
             ],
             [
              0.4444444444444444,
              "#bd3786"
             ],
             [
              0.5555555555555556,
              "#d8576b"
             ],
             [
              0.6666666666666666,
              "#ed7953"
             ],
             [
              0.7777777777777778,
              "#fb9f3a"
             ],
             [
              0.8888888888888888,
              "#fdca26"
             ],
             [
              1,
              "#f0f921"
             ]
            ],
            "type": "heatmapgl"
           }
          ],
          "histogram": [
           {
            "marker": {
             "pattern": {
              "fillmode": "overlay",
              "size": 10,
              "solidity": 0.2
             }
            },
            "type": "histogram"
           }
          ],
          "histogram2d": [
           {
            "colorbar": {
             "outlinewidth": 0,
             "ticks": ""
            },
            "colorscale": [
             [
              0,
              "#0d0887"
             ],
             [
              0.1111111111111111,
              "#46039f"
             ],
             [
              0.2222222222222222,
              "#7201a8"
             ],
             [
              0.3333333333333333,
              "#9c179e"
             ],
             [
              0.4444444444444444,
              "#bd3786"
             ],
             [
              0.5555555555555556,
              "#d8576b"
             ],
             [
              0.6666666666666666,
              "#ed7953"
             ],
             [
              0.7777777777777778,
              "#fb9f3a"
             ],
             [
              0.8888888888888888,
              "#fdca26"
             ],
             [
              1,
              "#f0f921"
             ]
            ],
            "type": "histogram2d"
           }
          ],
          "histogram2dcontour": [
           {
            "colorbar": {
             "outlinewidth": 0,
             "ticks": ""
            },
            "colorscale": [
             [
              0,
              "#0d0887"
             ],
             [
              0.1111111111111111,
              "#46039f"
             ],
             [
              0.2222222222222222,
              "#7201a8"
             ],
             [
              0.3333333333333333,
              "#9c179e"
             ],
             [
              0.4444444444444444,
              "#bd3786"
             ],
             [
              0.5555555555555556,
              "#d8576b"
             ],
             [
              0.6666666666666666,
              "#ed7953"
             ],
             [
              0.7777777777777778,
              "#fb9f3a"
             ],
             [
              0.8888888888888888,
              "#fdca26"
             ],
             [
              1,
              "#f0f921"
             ]
            ],
            "type": "histogram2dcontour"
           }
          ],
          "mesh3d": [
           {
            "colorbar": {
             "outlinewidth": 0,
             "ticks": ""
            },
            "type": "mesh3d"
           }
          ],
          "parcoords": [
           {
            "line": {
             "colorbar": {
              "outlinewidth": 0,
              "ticks": ""
             }
            },
            "type": "parcoords"
           }
          ],
          "pie": [
           {
            "automargin": true,
            "type": "pie"
           }
          ],
          "scatter": [
           {
            "fillpattern": {
             "fillmode": "overlay",
             "size": 10,
             "solidity": 0.2
            },
            "type": "scatter"
           }
          ],
          "scatter3d": [
           {
            "line": {
             "colorbar": {
              "outlinewidth": 0,
              "ticks": ""
             }
            },
            "marker": {
             "colorbar": {
              "outlinewidth": 0,
              "ticks": ""
             }
            },
            "type": "scatter3d"
           }
          ],
          "scattercarpet": [
           {
            "marker": {
             "colorbar": {
              "outlinewidth": 0,
              "ticks": ""
             }
            },
            "type": "scattercarpet"
           }
          ],
          "scattergeo": [
           {
            "marker": {
             "colorbar": {
              "outlinewidth": 0,
              "ticks": ""
             }
            },
            "type": "scattergeo"
           }
          ],
          "scattergl": [
           {
            "marker": {
             "colorbar": {
              "outlinewidth": 0,
              "ticks": ""
             }
            },
            "type": "scattergl"
           }
          ],
          "scattermapbox": [
           {
            "marker": {
             "colorbar": {
              "outlinewidth": 0,
              "ticks": ""
             }
            },
            "type": "scattermapbox"
           }
          ],
          "scatterpolar": [
           {
            "marker": {
             "colorbar": {
              "outlinewidth": 0,
              "ticks": ""
             }
            },
            "type": "scatterpolar"
           }
          ],
          "scatterpolargl": [
           {
            "marker": {
             "colorbar": {
              "outlinewidth": 0,
              "ticks": ""
             }
            },
            "type": "scatterpolargl"
           }
          ],
          "scatterternary": [
           {
            "marker": {
             "colorbar": {
              "outlinewidth": 0,
              "ticks": ""
             }
            },
            "type": "scatterternary"
           }
          ],
          "surface": [
           {
            "colorbar": {
             "outlinewidth": 0,
             "ticks": ""
            },
            "colorscale": [
             [
              0,
              "#0d0887"
             ],
             [
              0.1111111111111111,
              "#46039f"
             ],
             [
              0.2222222222222222,
              "#7201a8"
             ],
             [
              0.3333333333333333,
              "#9c179e"
             ],
             [
              0.4444444444444444,
              "#bd3786"
             ],
             [
              0.5555555555555556,
              "#d8576b"
             ],
             [
              0.6666666666666666,
              "#ed7953"
             ],
             [
              0.7777777777777778,
              "#fb9f3a"
             ],
             [
              0.8888888888888888,
              "#fdca26"
             ],
             [
              1,
              "#f0f921"
             ]
            ],
            "type": "surface"
           }
          ],
          "table": [
           {
            "cells": {
             "fill": {
              "color": "#EBF0F8"
             },
             "line": {
              "color": "white"
             }
            },
            "header": {
             "fill": {
              "color": "#C8D4E3"
             },
             "line": {
              "color": "white"
             }
            },
            "type": "table"
           }
          ]
         },
         "layout": {
          "annotationdefaults": {
           "arrowcolor": "#2a3f5f",
           "arrowhead": 0,
           "arrowwidth": 1
          },
          "autotypenumbers": "strict",
          "coloraxis": {
           "colorbar": {
            "outlinewidth": 0,
            "ticks": ""
           }
          },
          "colorscale": {
           "diverging": [
            [
             0,
             "#8e0152"
            ],
            [
             0.1,
             "#c51b7d"
            ],
            [
             0.2,
             "#de77ae"
            ],
            [
             0.3,
             "#f1b6da"
            ],
            [
             0.4,
             "#fde0ef"
            ],
            [
             0.5,
             "#f7f7f7"
            ],
            [
             0.6,
             "#e6f5d0"
            ],
            [
             0.7,
             "#b8e186"
            ],
            [
             0.8,
             "#7fbc41"
            ],
            [
             0.9,
             "#4d9221"
            ],
            [
             1,
             "#276419"
            ]
           ],
           "sequential": [
            [
             0,
             "#0d0887"
            ],
            [
             0.1111111111111111,
             "#46039f"
            ],
            [
             0.2222222222222222,
             "#7201a8"
            ],
            [
             0.3333333333333333,
             "#9c179e"
            ],
            [
             0.4444444444444444,
             "#bd3786"
            ],
            [
             0.5555555555555556,
             "#d8576b"
            ],
            [
             0.6666666666666666,
             "#ed7953"
            ],
            [
             0.7777777777777778,
             "#fb9f3a"
            ],
            [
             0.8888888888888888,
             "#fdca26"
            ],
            [
             1,
             "#f0f921"
            ]
           ],
           "sequentialminus": [
            [
             0,
             "#0d0887"
            ],
            [
             0.1111111111111111,
             "#46039f"
            ],
            [
             0.2222222222222222,
             "#7201a8"
            ],
            [
             0.3333333333333333,
             "#9c179e"
            ],
            [
             0.4444444444444444,
             "#bd3786"
            ],
            [
             0.5555555555555556,
             "#d8576b"
            ],
            [
             0.6666666666666666,
             "#ed7953"
            ],
            [
             0.7777777777777778,
             "#fb9f3a"
            ],
            [
             0.8888888888888888,
             "#fdca26"
            ],
            [
             1,
             "#f0f921"
            ]
           ]
          },
          "colorway": [
           "#636efa",
           "#EF553B",
           "#00cc96",
           "#ab63fa",
           "#FFA15A",
           "#19d3f3",
           "#FF6692",
           "#B6E880",
           "#FF97FF",
           "#FECB52"
          ],
          "font": {
           "color": "#2a3f5f"
          },
          "geo": {
           "bgcolor": "white",
           "lakecolor": "white",
           "landcolor": "#E5ECF6",
           "showlakes": true,
           "showland": true,
           "subunitcolor": "white"
          },
          "hoverlabel": {
           "align": "left"
          },
          "hovermode": "closest",
          "mapbox": {
           "style": "light"
          },
          "paper_bgcolor": "white",
          "plot_bgcolor": "#E5ECF6",
          "polar": {
           "angularaxis": {
            "gridcolor": "white",
            "linecolor": "white",
            "ticks": ""
           },
           "bgcolor": "#E5ECF6",
           "radialaxis": {
            "gridcolor": "white",
            "linecolor": "white",
            "ticks": ""
           }
          },
          "scene": {
           "xaxis": {
            "backgroundcolor": "#E5ECF6",
            "gridcolor": "white",
            "gridwidth": 2,
            "linecolor": "white",
            "showbackground": true,
            "ticks": "",
            "zerolinecolor": "white"
           },
           "yaxis": {
            "backgroundcolor": "#E5ECF6",
            "gridcolor": "white",
            "gridwidth": 2,
            "linecolor": "white",
            "showbackground": true,
            "ticks": "",
            "zerolinecolor": "white"
           },
           "zaxis": {
            "backgroundcolor": "#E5ECF6",
            "gridcolor": "white",
            "gridwidth": 2,
            "linecolor": "white",
            "showbackground": true,
            "ticks": "",
            "zerolinecolor": "white"
           }
          },
          "shapedefaults": {
           "line": {
            "color": "#2a3f5f"
           }
          },
          "ternary": {
           "aaxis": {
            "gridcolor": "white",
            "linecolor": "white",
            "ticks": ""
           },
           "baxis": {
            "gridcolor": "white",
            "linecolor": "white",
            "ticks": ""
           },
           "bgcolor": "#E5ECF6",
           "caxis": {
            "gridcolor": "white",
            "linecolor": "white",
            "ticks": ""
           }
          },
          "title": {
           "x": 0.05
          },
          "xaxis": {
           "automargin": true,
           "gridcolor": "white",
           "linecolor": "white",
           "ticks": "",
           "title": {
            "standoff": 15
           },
           "zerolinecolor": "white",
           "zerolinewidth": 2
          },
          "yaxis": {
           "automargin": true,
           "gridcolor": "white",
           "linecolor": "white",
           "ticks": "",
           "title": {
            "standoff": 15
           },
           "zerolinecolor": "white",
           "zerolinewidth": 2
          }
         }
        },
        "title": {
         "text": "Null Percentage of Companies by Cap Classification"
        },
        "xaxis": {
         "anchor": "y",
         "domain": [
          0,
          1
         ],
         "title": {
          "text": "Company"
         }
        },
        "yaxis": {
         "anchor": "x",
         "domain": [
          0,
          1
         ],
         "title": {
          "text": "Null_percentage"
         }
        }
       }
      }
     },
     "metadata": {},
     "output_type": "display_data"
    }
   ],
   "source": [
    "fig = px.bar(df_null_percentage, x='Company', y='Null_percentage', color='Type',\n",
    "             labels={'Null_percentage': 'Null_percentage'},\n",
    "             title='Null Percentage of Companies by Cap Classification',\n",
    "             hover_data=['Company', 'Null_percentage', 'Type'])\n",
    "fig.update_layout(barmode='group', xaxis_title='Company', yaxis_title='Null_percentage')\n",
    "fig.show()\n"
   ]
  },
  {
   "cell_type": "code",
   "execution_count": null,
   "metadata": {},
   "outputs": [],
   "source": []
  }
 ],
 "metadata": {
  "kernelspec": {
   "display_name": "empirical",
   "language": "python",
   "name": "python3"
  },
  "language_info": {
   "codemirror_mode": {
    "name": "ipython",
    "version": 3
   },
   "file_extension": ".py",
   "mimetype": "text/x-python",
   "name": "python",
   "nbconvert_exporter": "python",
   "pygments_lexer": "ipython3",
   "version": "3.10.6"
  }
 },
 "nbformat": 4,
 "nbformat_minor": 2
}
